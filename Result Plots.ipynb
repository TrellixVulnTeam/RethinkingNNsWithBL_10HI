{
 "cells": [
  {
   "cell_type": "code",
   "execution_count": 12,
   "metadata": {},
   "outputs": [],
   "source": [
    "import json\n",
    "import os\n",
    "from glob import glob\n",
    "import plotly.express as px\n",
    "import pandas as pd\n",
    "import plotly.graph_objects as go"
   ]
  },
  {
   "cell_type": "code",
   "execution_count": 2,
   "metadata": {},
   "outputs": [],
   "source": [
    "experiment = 'benford_vs_acc'\n",
    "files = sorted(glob(f\"./stats/{experiment}/*.json\"))"
   ]
  },
  {
   "cell_type": "code",
   "execution_count": 3,
   "metadata": {},
   "outputs": [
    {
     "data": {
      "text/html": [
       "<div>\n",
       "<style scoped>\n",
       "    .dataframe tbody tr th:only-of-type {\n",
       "        vertical-align: middle;\n",
       "    }\n",
       "\n",
       "    .dataframe tbody tr th {\n",
       "        vertical-align: top;\n",
       "    }\n",
       "\n",
       "    .dataframe thead th {\n",
       "        text-align: right;\n",
       "    }\n",
       "</style>\n",
       "<table border=\"1\" class=\"dataframe\">\n",
       "  <thead>\n",
       "    <tr style=\"text-align: right;\">\n",
       "      <th></th>\n",
       "      <th>dataset</th>\n",
       "      <th>initial_r2</th>\n",
       "      <th>final_r2</th>\n",
       "      <th>test_acc</th>\n",
       "      <th>training_steps</th>\n",
       "    </tr>\n",
       "  </thead>\n",
       "  <tbody>\n",
       "    <tr>\n",
       "      <th>0</th>\n",
       "      <td>mnist</td>\n",
       "      <td>0.945231</td>\n",
       "      <td>0.993039</td>\n",
       "      <td>0.987580</td>\n",
       "      <td>8297</td>\n",
       "    </tr>\n",
       "    <tr>\n",
       "      <th>1</th>\n",
       "      <td>mnist</td>\n",
       "      <td>0.951105</td>\n",
       "      <td>0.990451</td>\n",
       "      <td>0.987780</td>\n",
       "      <td>8873</td>\n",
       "    </tr>\n",
       "    <tr>\n",
       "      <th>2</th>\n",
       "      <td>mnist</td>\n",
       "      <td>0.949980</td>\n",
       "      <td>0.993720</td>\n",
       "      <td>0.985978</td>\n",
       "      <td>7721</td>\n",
       "    </tr>\n",
       "    <tr>\n",
       "      <th>3</th>\n",
       "      <td>cifar10</td>\n",
       "      <td>0.994749</td>\n",
       "      <td>0.997537</td>\n",
       "      <td>0.641226</td>\n",
       "      <td>9832</td>\n",
       "    </tr>\n",
       "    <tr>\n",
       "      <th>4</th>\n",
       "      <td>cifar10</td>\n",
       "      <td>0.994932</td>\n",
       "      <td>0.996114</td>\n",
       "      <td>0.653045</td>\n",
       "      <td>12885</td>\n",
       "    </tr>\n",
       "    <tr>\n",
       "      <th>...</th>\n",
       "      <td>...</td>\n",
       "      <td>...</td>\n",
       "      <td>...</td>\n",
       "      <td>...</td>\n",
       "      <td>...</td>\n",
       "    </tr>\n",
       "    <tr>\n",
       "      <th>379</th>\n",
       "      <td>mnist</td>\n",
       "      <td>0.953877</td>\n",
       "      <td>0.996543</td>\n",
       "      <td>0.988181</td>\n",
       "      <td>6579</td>\n",
       "    </tr>\n",
       "    <tr>\n",
       "      <th>380</th>\n",
       "      <td>mnist</td>\n",
       "      <td>0.949831</td>\n",
       "      <td>0.990165</td>\n",
       "      <td>0.988782</td>\n",
       "      <td>7438</td>\n",
       "    </tr>\n",
       "    <tr>\n",
       "      <th>381</th>\n",
       "      <td>mnist</td>\n",
       "      <td>0.951877</td>\n",
       "      <td>0.993896</td>\n",
       "      <td>0.987380</td>\n",
       "      <td>8014</td>\n",
       "    </tr>\n",
       "    <tr>\n",
       "      <th>382</th>\n",
       "      <td>mnist</td>\n",
       "      <td>0.956547</td>\n",
       "      <td>0.995138</td>\n",
       "      <td>0.987380</td>\n",
       "      <td>6862</td>\n",
       "    </tr>\n",
       "    <tr>\n",
       "      <th>383</th>\n",
       "      <td>mnist</td>\n",
       "      <td>0.946296</td>\n",
       "      <td>0.996285</td>\n",
       "      <td>0.985176</td>\n",
       "      <td>7155</td>\n",
       "    </tr>\n",
       "  </tbody>\n",
       "</table>\n",
       "<p>384 rows × 5 columns</p>\n",
       "</div>"
      ],
      "text/plain": [
       "     dataset  initial_r2  final_r2  test_acc  training_steps\n",
       "0      mnist    0.945231  0.993039  0.987580            8297\n",
       "1      mnist    0.951105  0.990451  0.987780            8873\n",
       "2      mnist    0.949980  0.993720  0.985978            7721\n",
       "3    cifar10    0.994749  0.997537  0.641226            9832\n",
       "4    cifar10    0.994932  0.996114  0.653045           12885\n",
       "..       ...         ...       ...       ...             ...\n",
       "379    mnist    0.953877  0.996543  0.988181            6579\n",
       "380    mnist    0.949831  0.990165  0.988782            7438\n",
       "381    mnist    0.951877  0.993896  0.987380            8014\n",
       "382    mnist    0.956547  0.995138  0.987380            6862\n",
       "383    mnist    0.946296  0.996285  0.985176            7155\n",
       "\n",
       "[384 rows x 5 columns]"
      ]
     },
     "execution_count": 3,
     "metadata": {},
     "output_type": "execute_result"
    }
   ],
   "source": [
    "initial_r2 = []\n",
    "final_r2 = []\n",
    "test_acc = []\n",
    "training_steps = []\n",
    "datasets = []\n",
    "for file in files:\n",
    "    j = json.load(open(file,\"r\"))\n",
    "#     if j['dataset'] == 'cifar10':\n",
    "    initial_r2.append(j['initial_r2'])\n",
    "    final_r2.append(j['final_r2'])\n",
    "    test_acc.append(j['test_acc'])\n",
    "    training_steps.append(j['training_steps'])\n",
    "    datasets.append(j['dataset'])\n",
    "    \n",
    "df_exp1 = pd.DataFrame(zip(datasets, initial_r2, final_r2, test_acc, training_steps), \n",
    "                       columns=['dataset', 'initial_r2', 'final_r2', 'test_acc', 'training_steps'])\n",
    "# df_exp1 = df_exp1.loc[df_exp1.dataset == 'mnist']\n",
    "df_exp1"
   ]
  },
  {
   "cell_type": "code",
   "execution_count": 31,
   "metadata": {},
   "outputs": [
    {
     "name": "stdout",
     "output_type": "stream",
     "text": [
      "            initial_r2  test_acc\n",
      "initial_r2    1.000000 -0.037116\n",
      "test_acc     -0.037116  1.000000\n"
     ]
    },
    {
     "data": {
      "application/vnd.plotly.v1+json": {
       "config": {
        "plotlyServerURL": "https://plot.ly"
       },
       "data": [
        {
         "name": "MNIST",
         "type": "histogram",
         "x": [
          0.9930388541067587,
          0.9904509100520275,
          0.9937198999959059,
          0.9898467831533546,
          0.9931019628937924,
          0.9950434228784012,
          0.9896595776626901,
          0.9820743182454298,
          0.9924851707328067,
          0.9925537917351407,
          0.9950429489556807,
          0.9906633320220523,
          0.9958549779735938,
          0.9948507896826275,
          0.9902989735155245,
          0.9955176631328233,
          0.9923425525277915,
          0.9901389547030132,
          0.9878533544500281,
          0.9961889922317929,
          0.9953709628291316,
          0.9839586379704945,
          0.9939528667011033,
          0.9930380088308303,
          0.9941893745943671,
          0.9946922249364871,
          0.9903306252573782,
          0.9962281465585883,
          0.9941462695930228,
          0.9949736505767466,
          0.9937573865901549,
          0.9964044942699739,
          0.9834352520976328,
          0.990878350843126,
          0.9937640668591625,
          0.9902155910437509,
          0.9799483425559694,
          0.9950392313581593,
          0.9845734786400884,
          0.9870811257106148,
          0.9905371403035588,
          0.9819297663742653,
          0.9934733021952217,
          0.9851637231119419,
          0.994092708463558,
          0.9865085381111964,
          0.9902740124621077,
          0.9956503056011942,
          0.986781484072645,
          0.9914167625514817,
          0.9945594956874309,
          0.994940500116171,
          0.9742675027516396,
          0.9899477497967064,
          0.9932768704414725,
          0.9951151858403104,
          0.9944324855817815,
          0.9881825627798392,
          0.99543235958593,
          0.9893802258244138,
          0.996684968451623,
          0.9959131674555578,
          0.9932499519147743,
          0.9901769846682724,
          0.9953730229163981,
          0.9867979786953157,
          0.9886645770187735,
          0.9899667799367187,
          0.9951151303665158,
          0.9943793447232203,
          0.991113931261648,
          0.9900324226234332,
          0.9926830798149504,
          0.994322081209094,
          0.9819144103049422,
          0.9854597694869812,
          0.9955391424680776,
          0.9775580316259246,
          0.9870923933910168,
          0.9921885953799595,
          0.9919253752440745,
          0.995377391291835,
          0.9951574257981675,
          0.9930634613716436,
          0.9853308449025653,
          0.9855313850696924,
          0.993248341929216,
          0.9910082549960667,
          0.9944875423982785,
          0.9958955546492655,
          0.9961221390715871,
          0.9868606887262172,
          0.9919975809704643,
          0.992924981646665,
          0.9962868683734669,
          0.9965433851039619,
          0.9901653670244353,
          0.9938958687811431,
          0.9951382878104555,
          0.996285424234793
         ]
        }
       ],
       "layout": {
        "template": {
         "data": {
          "bar": [
           {
            "error_x": {
             "color": "#2a3f5f"
            },
            "error_y": {
             "color": "#2a3f5f"
            },
            "marker": {
             "line": {
              "color": "#E5ECF6",
              "width": 0.5
             }
            },
            "type": "bar"
           }
          ],
          "barpolar": [
           {
            "marker": {
             "line": {
              "color": "#E5ECF6",
              "width": 0.5
             }
            },
            "type": "barpolar"
           }
          ],
          "carpet": [
           {
            "aaxis": {
             "endlinecolor": "#2a3f5f",
             "gridcolor": "white",
             "linecolor": "white",
             "minorgridcolor": "white",
             "startlinecolor": "#2a3f5f"
            },
            "baxis": {
             "endlinecolor": "#2a3f5f",
             "gridcolor": "white",
             "linecolor": "white",
             "minorgridcolor": "white",
             "startlinecolor": "#2a3f5f"
            },
            "type": "carpet"
           }
          ],
          "choropleth": [
           {
            "colorbar": {
             "outlinewidth": 0,
             "ticks": ""
            },
            "type": "choropleth"
           }
          ],
          "contour": [
           {
            "colorbar": {
             "outlinewidth": 0,
             "ticks": ""
            },
            "colorscale": [
             [
              0,
              "#0d0887"
             ],
             [
              0.1111111111111111,
              "#46039f"
             ],
             [
              0.2222222222222222,
              "#7201a8"
             ],
             [
              0.3333333333333333,
              "#9c179e"
             ],
             [
              0.4444444444444444,
              "#bd3786"
             ],
             [
              0.5555555555555556,
              "#d8576b"
             ],
             [
              0.6666666666666666,
              "#ed7953"
             ],
             [
              0.7777777777777778,
              "#fb9f3a"
             ],
             [
              0.8888888888888888,
              "#fdca26"
             ],
             [
              1,
              "#f0f921"
             ]
            ],
            "type": "contour"
           }
          ],
          "contourcarpet": [
           {
            "colorbar": {
             "outlinewidth": 0,
             "ticks": ""
            },
            "type": "contourcarpet"
           }
          ],
          "heatmap": [
           {
            "colorbar": {
             "outlinewidth": 0,
             "ticks": ""
            },
            "colorscale": [
             [
              0,
              "#0d0887"
             ],
             [
              0.1111111111111111,
              "#46039f"
             ],
             [
              0.2222222222222222,
              "#7201a8"
             ],
             [
              0.3333333333333333,
              "#9c179e"
             ],
             [
              0.4444444444444444,
              "#bd3786"
             ],
             [
              0.5555555555555556,
              "#d8576b"
             ],
             [
              0.6666666666666666,
              "#ed7953"
             ],
             [
              0.7777777777777778,
              "#fb9f3a"
             ],
             [
              0.8888888888888888,
              "#fdca26"
             ],
             [
              1,
              "#f0f921"
             ]
            ],
            "type": "heatmap"
           }
          ],
          "heatmapgl": [
           {
            "colorbar": {
             "outlinewidth": 0,
             "ticks": ""
            },
            "colorscale": [
             [
              0,
              "#0d0887"
             ],
             [
              0.1111111111111111,
              "#46039f"
             ],
             [
              0.2222222222222222,
              "#7201a8"
             ],
             [
              0.3333333333333333,
              "#9c179e"
             ],
             [
              0.4444444444444444,
              "#bd3786"
             ],
             [
              0.5555555555555556,
              "#d8576b"
             ],
             [
              0.6666666666666666,
              "#ed7953"
             ],
             [
              0.7777777777777778,
              "#fb9f3a"
             ],
             [
              0.8888888888888888,
              "#fdca26"
             ],
             [
              1,
              "#f0f921"
             ]
            ],
            "type": "heatmapgl"
           }
          ],
          "histogram": [
           {
            "marker": {
             "colorbar": {
              "outlinewidth": 0,
              "ticks": ""
             }
            },
            "type": "histogram"
           }
          ],
          "histogram2d": [
           {
            "colorbar": {
             "outlinewidth": 0,
             "ticks": ""
            },
            "colorscale": [
             [
              0,
              "#0d0887"
             ],
             [
              0.1111111111111111,
              "#46039f"
             ],
             [
              0.2222222222222222,
              "#7201a8"
             ],
             [
              0.3333333333333333,
              "#9c179e"
             ],
             [
              0.4444444444444444,
              "#bd3786"
             ],
             [
              0.5555555555555556,
              "#d8576b"
             ],
             [
              0.6666666666666666,
              "#ed7953"
             ],
             [
              0.7777777777777778,
              "#fb9f3a"
             ],
             [
              0.8888888888888888,
              "#fdca26"
             ],
             [
              1,
              "#f0f921"
             ]
            ],
            "type": "histogram2d"
           }
          ],
          "histogram2dcontour": [
           {
            "colorbar": {
             "outlinewidth": 0,
             "ticks": ""
            },
            "colorscale": [
             [
              0,
              "#0d0887"
             ],
             [
              0.1111111111111111,
              "#46039f"
             ],
             [
              0.2222222222222222,
              "#7201a8"
             ],
             [
              0.3333333333333333,
              "#9c179e"
             ],
             [
              0.4444444444444444,
              "#bd3786"
             ],
             [
              0.5555555555555556,
              "#d8576b"
             ],
             [
              0.6666666666666666,
              "#ed7953"
             ],
             [
              0.7777777777777778,
              "#fb9f3a"
             ],
             [
              0.8888888888888888,
              "#fdca26"
             ],
             [
              1,
              "#f0f921"
             ]
            ],
            "type": "histogram2dcontour"
           }
          ],
          "mesh3d": [
           {
            "colorbar": {
             "outlinewidth": 0,
             "ticks": ""
            },
            "type": "mesh3d"
           }
          ],
          "parcoords": [
           {
            "line": {
             "colorbar": {
              "outlinewidth": 0,
              "ticks": ""
             }
            },
            "type": "parcoords"
           }
          ],
          "pie": [
           {
            "automargin": true,
            "type": "pie"
           }
          ],
          "scatter": [
           {
            "marker": {
             "colorbar": {
              "outlinewidth": 0,
              "ticks": ""
             }
            },
            "type": "scatter"
           }
          ],
          "scatter3d": [
           {
            "line": {
             "colorbar": {
              "outlinewidth": 0,
              "ticks": ""
             }
            },
            "marker": {
             "colorbar": {
              "outlinewidth": 0,
              "ticks": ""
             }
            },
            "type": "scatter3d"
           }
          ],
          "scattercarpet": [
           {
            "marker": {
             "colorbar": {
              "outlinewidth": 0,
              "ticks": ""
             }
            },
            "type": "scattercarpet"
           }
          ],
          "scattergeo": [
           {
            "marker": {
             "colorbar": {
              "outlinewidth": 0,
              "ticks": ""
             }
            },
            "type": "scattergeo"
           }
          ],
          "scattergl": [
           {
            "marker": {
             "colorbar": {
              "outlinewidth": 0,
              "ticks": ""
             }
            },
            "type": "scattergl"
           }
          ],
          "scattermapbox": [
           {
            "marker": {
             "colorbar": {
              "outlinewidth": 0,
              "ticks": ""
             }
            },
            "type": "scattermapbox"
           }
          ],
          "scatterpolar": [
           {
            "marker": {
             "colorbar": {
              "outlinewidth": 0,
              "ticks": ""
             }
            },
            "type": "scatterpolar"
           }
          ],
          "scatterpolargl": [
           {
            "marker": {
             "colorbar": {
              "outlinewidth": 0,
              "ticks": ""
             }
            },
            "type": "scatterpolargl"
           }
          ],
          "scatterternary": [
           {
            "marker": {
             "colorbar": {
              "outlinewidth": 0,
              "ticks": ""
             }
            },
            "type": "scatterternary"
           }
          ],
          "surface": [
           {
            "colorbar": {
             "outlinewidth": 0,
             "ticks": ""
            },
            "colorscale": [
             [
              0,
              "#0d0887"
             ],
             [
              0.1111111111111111,
              "#46039f"
             ],
             [
              0.2222222222222222,
              "#7201a8"
             ],
             [
              0.3333333333333333,
              "#9c179e"
             ],
             [
              0.4444444444444444,
              "#bd3786"
             ],
             [
              0.5555555555555556,
              "#d8576b"
             ],
             [
              0.6666666666666666,
              "#ed7953"
             ],
             [
              0.7777777777777778,
              "#fb9f3a"
             ],
             [
              0.8888888888888888,
              "#fdca26"
             ],
             [
              1,
              "#f0f921"
             ]
            ],
            "type": "surface"
           }
          ],
          "table": [
           {
            "cells": {
             "fill": {
              "color": "#EBF0F8"
             },
             "line": {
              "color": "white"
             }
            },
            "header": {
             "fill": {
              "color": "#C8D4E3"
             },
             "line": {
              "color": "white"
             }
            },
            "type": "table"
           }
          ]
         },
         "layout": {
          "annotationdefaults": {
           "arrowcolor": "#2a3f5f",
           "arrowhead": 0,
           "arrowwidth": 1
          },
          "coloraxis": {
           "colorbar": {
            "outlinewidth": 0,
            "ticks": ""
           }
          },
          "colorscale": {
           "diverging": [
            [
             0,
             "#8e0152"
            ],
            [
             0.1,
             "#c51b7d"
            ],
            [
             0.2,
             "#de77ae"
            ],
            [
             0.3,
             "#f1b6da"
            ],
            [
             0.4,
             "#fde0ef"
            ],
            [
             0.5,
             "#f7f7f7"
            ],
            [
             0.6,
             "#e6f5d0"
            ],
            [
             0.7,
             "#b8e186"
            ],
            [
             0.8,
             "#7fbc41"
            ],
            [
             0.9,
             "#4d9221"
            ],
            [
             1,
             "#276419"
            ]
           ],
           "sequential": [
            [
             0,
             "#0d0887"
            ],
            [
             0.1111111111111111,
             "#46039f"
            ],
            [
             0.2222222222222222,
             "#7201a8"
            ],
            [
             0.3333333333333333,
             "#9c179e"
            ],
            [
             0.4444444444444444,
             "#bd3786"
            ],
            [
             0.5555555555555556,
             "#d8576b"
            ],
            [
             0.6666666666666666,
             "#ed7953"
            ],
            [
             0.7777777777777778,
             "#fb9f3a"
            ],
            [
             0.8888888888888888,
             "#fdca26"
            ],
            [
             1,
             "#f0f921"
            ]
           ],
           "sequentialminus": [
            [
             0,
             "#0d0887"
            ],
            [
             0.1111111111111111,
             "#46039f"
            ],
            [
             0.2222222222222222,
             "#7201a8"
            ],
            [
             0.3333333333333333,
             "#9c179e"
            ],
            [
             0.4444444444444444,
             "#bd3786"
            ],
            [
             0.5555555555555556,
             "#d8576b"
            ],
            [
             0.6666666666666666,
             "#ed7953"
            ],
            [
             0.7777777777777778,
             "#fb9f3a"
            ],
            [
             0.8888888888888888,
             "#fdca26"
            ],
            [
             1,
             "#f0f921"
            ]
           ]
          },
          "colorway": [
           "#636efa",
           "#EF553B",
           "#00cc96",
           "#ab63fa",
           "#FFA15A",
           "#19d3f3",
           "#FF6692",
           "#B6E880",
           "#FF97FF",
           "#FECB52"
          ],
          "font": {
           "color": "#2a3f5f"
          },
          "geo": {
           "bgcolor": "white",
           "lakecolor": "white",
           "landcolor": "#E5ECF6",
           "showlakes": true,
           "showland": true,
           "subunitcolor": "white"
          },
          "hoverlabel": {
           "align": "left"
          },
          "hovermode": "closest",
          "mapbox": {
           "style": "light"
          },
          "paper_bgcolor": "white",
          "plot_bgcolor": "#E5ECF6",
          "polar": {
           "angularaxis": {
            "gridcolor": "white",
            "linecolor": "white",
            "ticks": ""
           },
           "bgcolor": "#E5ECF6",
           "radialaxis": {
            "gridcolor": "white",
            "linecolor": "white",
            "ticks": ""
           }
          },
          "scene": {
           "xaxis": {
            "backgroundcolor": "#E5ECF6",
            "gridcolor": "white",
            "gridwidth": 2,
            "linecolor": "white",
            "showbackground": true,
            "ticks": "",
            "zerolinecolor": "white"
           },
           "yaxis": {
            "backgroundcolor": "#E5ECF6",
            "gridcolor": "white",
            "gridwidth": 2,
            "linecolor": "white",
            "showbackground": true,
            "ticks": "",
            "zerolinecolor": "white"
           },
           "zaxis": {
            "backgroundcolor": "#E5ECF6",
            "gridcolor": "white",
            "gridwidth": 2,
            "linecolor": "white",
            "showbackground": true,
            "ticks": "",
            "zerolinecolor": "white"
           }
          },
          "shapedefaults": {
           "line": {
            "color": "#2a3f5f"
           }
          },
          "ternary": {
           "aaxis": {
            "gridcolor": "white",
            "linecolor": "white",
            "ticks": ""
           },
           "baxis": {
            "gridcolor": "white",
            "linecolor": "white",
            "ticks": ""
           },
           "bgcolor": "#E5ECF6",
           "caxis": {
            "gridcolor": "white",
            "linecolor": "white",
            "ticks": ""
           }
          },
          "title": {
           "x": 0.05
          },
          "xaxis": {
           "automargin": true,
           "gridcolor": "white",
           "linecolor": "white",
           "ticks": "",
           "title": {
            "standoff": 15
           },
           "zerolinecolor": "white",
           "zerolinewidth": 2
          },
          "yaxis": {
           "automargin": true,
           "gridcolor": "white",
           "linecolor": "white",
           "ticks": "",
           "title": {
            "standoff": 15
           },
           "zerolinecolor": "white",
           "zerolinewidth": 2
          }
         }
        }
       }
      },
      "text/html": [
       "<div>                            <div id=\"cb083920-3860-4f45-8d03-e28ea01bb3f8\" class=\"plotly-graph-div\" style=\"height:525px; width:100%;\"></div>            <script type=\"text/javascript\">                require([\"plotly\"], function(Plotly) {                    window.PLOTLYENV=window.PLOTLYENV || {};                                    if (document.getElementById(\"cb083920-3860-4f45-8d03-e28ea01bb3f8\")) {                    Plotly.newPlot(                        \"cb083920-3860-4f45-8d03-e28ea01bb3f8\",                        [{\"name\": \"MNIST\", \"type\": \"histogram\", \"x\": [0.9930388541067587, 0.9904509100520275, 0.9937198999959059, 0.9898467831533546, 0.9931019628937924, 0.9950434228784012, 0.9896595776626901, 0.9820743182454298, 0.9924851707328067, 0.9925537917351407, 0.9950429489556807, 0.9906633320220523, 0.9958549779735938, 0.9948507896826275, 0.9902989735155245, 0.9955176631328233, 0.9923425525277915, 0.9901389547030132, 0.9878533544500281, 0.9961889922317929, 0.9953709628291316, 0.9839586379704945, 0.9939528667011033, 0.9930380088308303, 0.9941893745943671, 0.9946922249364871, 0.9903306252573782, 0.9962281465585883, 0.9941462695930228, 0.9949736505767466, 0.9937573865901549, 0.9964044942699739, 0.9834352520976328, 0.990878350843126, 0.9937640668591625, 0.9902155910437509, 0.9799483425559694, 0.9950392313581593, 0.9845734786400884, 0.9870811257106148, 0.9905371403035588, 0.9819297663742653, 0.9934733021952217, 0.9851637231119419, 0.994092708463558, 0.9865085381111964, 0.9902740124621077, 0.9956503056011942, 0.986781484072645, 0.9914167625514817, 0.9945594956874309, 0.994940500116171, 0.9742675027516396, 0.9899477497967064, 0.9932768704414725, 0.9951151858403104, 0.9944324855817815, 0.9881825627798392, 0.99543235958593, 0.9893802258244138, 0.996684968451623, 0.9959131674555578, 0.9932499519147743, 0.9901769846682724, 0.9953730229163981, 0.9867979786953157, 0.9886645770187735, 0.9899667799367187, 0.9951151303665158, 0.9943793447232203, 0.991113931261648, 0.9900324226234332, 0.9926830798149504, 0.994322081209094, 0.9819144103049422, 0.9854597694869812, 0.9955391424680776, 0.9775580316259246, 0.9870923933910168, 0.9921885953799595, 0.9919253752440745, 0.995377391291835, 0.9951574257981675, 0.9930634613716436, 0.9853308449025653, 0.9855313850696924, 0.993248341929216, 0.9910082549960667, 0.9944875423982785, 0.9958955546492655, 0.9961221390715871, 0.9868606887262172, 0.9919975809704643, 0.992924981646665, 0.9962868683734669, 0.9965433851039619, 0.9901653670244353, 0.9938958687811431, 0.9951382878104555, 0.996285424234793]}],                        {\"template\": {\"data\": {\"bar\": [{\"error_x\": {\"color\": \"#2a3f5f\"}, \"error_y\": {\"color\": \"#2a3f5f\"}, \"marker\": {\"line\": {\"color\": \"#E5ECF6\", \"width\": 0.5}}, \"type\": \"bar\"}], \"barpolar\": [{\"marker\": {\"line\": {\"color\": \"#E5ECF6\", \"width\": 0.5}}, \"type\": \"barpolar\"}], \"carpet\": [{\"aaxis\": {\"endlinecolor\": \"#2a3f5f\", \"gridcolor\": \"white\", \"linecolor\": \"white\", \"minorgridcolor\": \"white\", \"startlinecolor\": \"#2a3f5f\"}, \"baxis\": {\"endlinecolor\": \"#2a3f5f\", \"gridcolor\": \"white\", \"linecolor\": \"white\", \"minorgridcolor\": \"white\", \"startlinecolor\": \"#2a3f5f\"}, \"type\": \"carpet\"}], \"choropleth\": [{\"colorbar\": {\"outlinewidth\": 0, \"ticks\": \"\"}, \"type\": \"choropleth\"}], \"contour\": [{\"colorbar\": {\"outlinewidth\": 0, \"ticks\": \"\"}, \"colorscale\": [[0.0, \"#0d0887\"], [0.1111111111111111, \"#46039f\"], [0.2222222222222222, \"#7201a8\"], [0.3333333333333333, \"#9c179e\"], [0.4444444444444444, \"#bd3786\"], [0.5555555555555556, \"#d8576b\"], [0.6666666666666666, \"#ed7953\"], [0.7777777777777778, \"#fb9f3a\"], [0.8888888888888888, \"#fdca26\"], [1.0, \"#f0f921\"]], \"type\": \"contour\"}], \"contourcarpet\": [{\"colorbar\": {\"outlinewidth\": 0, \"ticks\": \"\"}, \"type\": \"contourcarpet\"}], \"heatmap\": [{\"colorbar\": {\"outlinewidth\": 0, \"ticks\": \"\"}, \"colorscale\": [[0.0, \"#0d0887\"], [0.1111111111111111, \"#46039f\"], [0.2222222222222222, \"#7201a8\"], [0.3333333333333333, \"#9c179e\"], [0.4444444444444444, \"#bd3786\"], [0.5555555555555556, \"#d8576b\"], [0.6666666666666666, \"#ed7953\"], [0.7777777777777778, \"#fb9f3a\"], [0.8888888888888888, \"#fdca26\"], [1.0, \"#f0f921\"]], \"type\": \"heatmap\"}], \"heatmapgl\": [{\"colorbar\": {\"outlinewidth\": 0, \"ticks\": \"\"}, \"colorscale\": [[0.0, \"#0d0887\"], [0.1111111111111111, \"#46039f\"], [0.2222222222222222, \"#7201a8\"], [0.3333333333333333, \"#9c179e\"], [0.4444444444444444, \"#bd3786\"], [0.5555555555555556, \"#d8576b\"], [0.6666666666666666, \"#ed7953\"], [0.7777777777777778, \"#fb9f3a\"], [0.8888888888888888, \"#fdca26\"], [1.0, \"#f0f921\"]], \"type\": \"heatmapgl\"}], \"histogram\": [{\"marker\": {\"colorbar\": {\"outlinewidth\": 0, \"ticks\": \"\"}}, \"type\": \"histogram\"}], \"histogram2d\": [{\"colorbar\": {\"outlinewidth\": 0, \"ticks\": \"\"}, \"colorscale\": [[0.0, \"#0d0887\"], [0.1111111111111111, \"#46039f\"], [0.2222222222222222, \"#7201a8\"], [0.3333333333333333, \"#9c179e\"], [0.4444444444444444, \"#bd3786\"], [0.5555555555555556, \"#d8576b\"], [0.6666666666666666, \"#ed7953\"], [0.7777777777777778, \"#fb9f3a\"], [0.8888888888888888, \"#fdca26\"], [1.0, \"#f0f921\"]], \"type\": \"histogram2d\"}], \"histogram2dcontour\": [{\"colorbar\": {\"outlinewidth\": 0, \"ticks\": \"\"}, \"colorscale\": [[0.0, \"#0d0887\"], [0.1111111111111111, \"#46039f\"], [0.2222222222222222, \"#7201a8\"], [0.3333333333333333, \"#9c179e\"], [0.4444444444444444, \"#bd3786\"], [0.5555555555555556, \"#d8576b\"], [0.6666666666666666, \"#ed7953\"], [0.7777777777777778, \"#fb9f3a\"], [0.8888888888888888, \"#fdca26\"], [1.0, \"#f0f921\"]], \"type\": \"histogram2dcontour\"}], \"mesh3d\": [{\"colorbar\": {\"outlinewidth\": 0, \"ticks\": \"\"}, \"type\": \"mesh3d\"}], \"parcoords\": [{\"line\": {\"colorbar\": {\"outlinewidth\": 0, \"ticks\": \"\"}}, \"type\": \"parcoords\"}], \"pie\": [{\"automargin\": true, \"type\": \"pie\"}], \"scatter\": [{\"marker\": {\"colorbar\": {\"outlinewidth\": 0, \"ticks\": \"\"}}, \"type\": \"scatter\"}], \"scatter3d\": [{\"line\": {\"colorbar\": {\"outlinewidth\": 0, \"ticks\": \"\"}}, \"marker\": {\"colorbar\": {\"outlinewidth\": 0, \"ticks\": \"\"}}, \"type\": \"scatter3d\"}], \"scattercarpet\": [{\"marker\": {\"colorbar\": {\"outlinewidth\": 0, \"ticks\": \"\"}}, \"type\": \"scattercarpet\"}], \"scattergeo\": [{\"marker\": {\"colorbar\": {\"outlinewidth\": 0, \"ticks\": \"\"}}, \"type\": \"scattergeo\"}], \"scattergl\": [{\"marker\": {\"colorbar\": {\"outlinewidth\": 0, \"ticks\": \"\"}}, \"type\": \"scattergl\"}], \"scattermapbox\": [{\"marker\": {\"colorbar\": {\"outlinewidth\": 0, \"ticks\": \"\"}}, \"type\": \"scattermapbox\"}], \"scatterpolar\": [{\"marker\": {\"colorbar\": {\"outlinewidth\": 0, \"ticks\": \"\"}}, \"type\": \"scatterpolar\"}], \"scatterpolargl\": [{\"marker\": {\"colorbar\": {\"outlinewidth\": 0, \"ticks\": \"\"}}, \"type\": \"scatterpolargl\"}], \"scatterternary\": [{\"marker\": {\"colorbar\": {\"outlinewidth\": 0, \"ticks\": \"\"}}, \"type\": \"scatterternary\"}], \"surface\": [{\"colorbar\": {\"outlinewidth\": 0, \"ticks\": \"\"}, \"colorscale\": [[0.0, \"#0d0887\"], [0.1111111111111111, \"#46039f\"], [0.2222222222222222, \"#7201a8\"], [0.3333333333333333, \"#9c179e\"], [0.4444444444444444, \"#bd3786\"], [0.5555555555555556, \"#d8576b\"], [0.6666666666666666, \"#ed7953\"], [0.7777777777777778, \"#fb9f3a\"], [0.8888888888888888, \"#fdca26\"], [1.0, \"#f0f921\"]], \"type\": \"surface\"}], \"table\": [{\"cells\": {\"fill\": {\"color\": \"#EBF0F8\"}, \"line\": {\"color\": \"white\"}}, \"header\": {\"fill\": {\"color\": \"#C8D4E3\"}, \"line\": {\"color\": \"white\"}}, \"type\": \"table\"}]}, \"layout\": {\"annotationdefaults\": {\"arrowcolor\": \"#2a3f5f\", \"arrowhead\": 0, \"arrowwidth\": 1}, \"coloraxis\": {\"colorbar\": {\"outlinewidth\": 0, \"ticks\": \"\"}}, \"colorscale\": {\"diverging\": [[0, \"#8e0152\"], [0.1, \"#c51b7d\"], [0.2, \"#de77ae\"], [0.3, \"#f1b6da\"], [0.4, \"#fde0ef\"], [0.5, \"#f7f7f7\"], [0.6, \"#e6f5d0\"], [0.7, \"#b8e186\"], [0.8, \"#7fbc41\"], [0.9, \"#4d9221\"], [1, \"#276419\"]], \"sequential\": [[0.0, \"#0d0887\"], [0.1111111111111111, \"#46039f\"], [0.2222222222222222, \"#7201a8\"], [0.3333333333333333, \"#9c179e\"], [0.4444444444444444, \"#bd3786\"], [0.5555555555555556, \"#d8576b\"], [0.6666666666666666, \"#ed7953\"], [0.7777777777777778, \"#fb9f3a\"], [0.8888888888888888, \"#fdca26\"], [1.0, \"#f0f921\"]], \"sequentialminus\": [[0.0, \"#0d0887\"], [0.1111111111111111, \"#46039f\"], [0.2222222222222222, \"#7201a8\"], [0.3333333333333333, \"#9c179e\"], [0.4444444444444444, \"#bd3786\"], [0.5555555555555556, \"#d8576b\"], [0.6666666666666666, \"#ed7953\"], [0.7777777777777778, \"#fb9f3a\"], [0.8888888888888888, \"#fdca26\"], [1.0, \"#f0f921\"]]}, \"colorway\": [\"#636efa\", \"#EF553B\", \"#00cc96\", \"#ab63fa\", \"#FFA15A\", \"#19d3f3\", \"#FF6692\", \"#B6E880\", \"#FF97FF\", \"#FECB52\"], \"font\": {\"color\": \"#2a3f5f\"}, \"geo\": {\"bgcolor\": \"white\", \"lakecolor\": \"white\", \"landcolor\": \"#E5ECF6\", \"showlakes\": true, \"showland\": true, \"subunitcolor\": \"white\"}, \"hoverlabel\": {\"align\": \"left\"}, \"hovermode\": \"closest\", \"mapbox\": {\"style\": \"light\"}, \"paper_bgcolor\": \"white\", \"plot_bgcolor\": \"#E5ECF6\", \"polar\": {\"angularaxis\": {\"gridcolor\": \"white\", \"linecolor\": \"white\", \"ticks\": \"\"}, \"bgcolor\": \"#E5ECF6\", \"radialaxis\": {\"gridcolor\": \"white\", \"linecolor\": \"white\", \"ticks\": \"\"}}, \"scene\": {\"xaxis\": {\"backgroundcolor\": \"#E5ECF6\", \"gridcolor\": \"white\", \"gridwidth\": 2, \"linecolor\": \"white\", \"showbackground\": true, \"ticks\": \"\", \"zerolinecolor\": \"white\"}, \"yaxis\": {\"backgroundcolor\": \"#E5ECF6\", \"gridcolor\": \"white\", \"gridwidth\": 2, \"linecolor\": \"white\", \"showbackground\": true, \"ticks\": \"\", \"zerolinecolor\": \"white\"}, \"zaxis\": {\"backgroundcolor\": \"#E5ECF6\", \"gridcolor\": \"white\", \"gridwidth\": 2, \"linecolor\": \"white\", \"showbackground\": true, \"ticks\": \"\", \"zerolinecolor\": \"white\"}}, \"shapedefaults\": {\"line\": {\"color\": \"#2a3f5f\"}}, \"ternary\": {\"aaxis\": {\"gridcolor\": \"white\", \"linecolor\": \"white\", \"ticks\": \"\"}, \"baxis\": {\"gridcolor\": \"white\", \"linecolor\": \"white\", \"ticks\": \"\"}, \"bgcolor\": \"#E5ECF6\", \"caxis\": {\"gridcolor\": \"white\", \"linecolor\": \"white\", \"ticks\": \"\"}}, \"title\": {\"x\": 0.05}, \"xaxis\": {\"automargin\": true, \"gridcolor\": \"white\", \"linecolor\": \"white\", \"ticks\": \"\", \"title\": {\"standoff\": 15}, \"zerolinecolor\": \"white\", \"zerolinewidth\": 2}, \"yaxis\": {\"automargin\": true, \"gridcolor\": \"white\", \"linecolor\": \"white\", \"ticks\": \"\", \"title\": {\"standoff\": 15}, \"zerolinecolor\": \"white\", \"zerolinewidth\": 2}}}},                        {\"responsive\": true}                    ).then(function(){\n",
       "                            \n",
       "var gd = document.getElementById('cb083920-3860-4f45-8d03-e28ea01bb3f8');\n",
       "var x = new MutationObserver(function (mutations, observer) {{\n",
       "        var display = window.getComputedStyle(gd).display;\n",
       "        if (!display || display === 'none') {{\n",
       "            console.log([gd, 'removed!']);\n",
       "            Plotly.purge(gd);\n",
       "            observer.disconnect();\n",
       "        }}\n",
       "}});\n",
       "\n",
       "// Listen for the removal of the full notebook cells\n",
       "var notebookContainer = gd.closest('#notebook-container');\n",
       "if (notebookContainer) {{\n",
       "    x.observe(notebookContainer, {childList: true});\n",
       "}}\n",
       "\n",
       "// Listen for the clearing of the current output cell\n",
       "var outputEl = gd.closest('.output');\n",
       "if (outputEl) {{\n",
       "    x.observe(outputEl, {childList: true});\n",
       "}}\n",
       "\n",
       "                        })                };                });            </script>        </div>"
      ]
     },
     "metadata": {},
     "output_type": "display_data"
    }
   ],
   "source": [
    "temp = df_exp1.loc[df_exp1.dataset == 'mnist']\n",
    "print(temp[[\"initial_r2\", \"test_acc\"]].corr())\n",
    "# px.scatter(temp, x=\"initial_r2\", y=\"test_acc\", color=\"dataset\",\n",
    "#                  size='training_steps')\n",
    "# fig1 = px.histogram(temp, x='final_r2', name='MNIST')\n",
    "fig1 = go.Figure()\n",
    "fig1.add_trace(go.Histogram(x=temp.final_r2, name='MNIST'))\n",
    "fig1.show()"
   ]
  },
  {
   "cell_type": "code",
   "execution_count": 32,
   "metadata": {},
   "outputs": [
    {
     "name": "stdout",
     "output_type": "stream",
     "text": [
      "            initial_r2  test_acc\n",
      "initial_r2    1.000000  0.038031\n",
      "test_acc      0.038031  1.000000\n"
     ]
    },
    {
     "data": {
      "application/vnd.plotly.v1+json": {
       "config": {
        "plotlyServerURL": "https://plot.ly"
       },
       "data": [
        {
         "name": "MNIST",
         "type": "histogram",
         "x": [
          0.9930388541067587,
          0.9904509100520275,
          0.9937198999959059,
          0.9898467831533546,
          0.9931019628937924,
          0.9950434228784012,
          0.9896595776626901,
          0.9820743182454298,
          0.9924851707328067,
          0.9925537917351407,
          0.9950429489556807,
          0.9906633320220523,
          0.9958549779735938,
          0.9948507896826275,
          0.9902989735155245,
          0.9955176631328233,
          0.9923425525277915,
          0.9901389547030132,
          0.9878533544500281,
          0.9961889922317929,
          0.9953709628291316,
          0.9839586379704945,
          0.9939528667011033,
          0.9930380088308303,
          0.9941893745943671,
          0.9946922249364871,
          0.9903306252573782,
          0.9962281465585883,
          0.9941462695930228,
          0.9949736505767466,
          0.9937573865901549,
          0.9964044942699739,
          0.9834352520976328,
          0.990878350843126,
          0.9937640668591625,
          0.9902155910437509,
          0.9799483425559694,
          0.9950392313581593,
          0.9845734786400884,
          0.9870811257106148,
          0.9905371403035588,
          0.9819297663742653,
          0.9934733021952217,
          0.9851637231119419,
          0.994092708463558,
          0.9865085381111964,
          0.9902740124621077,
          0.9956503056011942,
          0.986781484072645,
          0.9914167625514817,
          0.9945594956874309,
          0.994940500116171,
          0.9742675027516396,
          0.9899477497967064,
          0.9932768704414725,
          0.9951151858403104,
          0.9944324855817815,
          0.9881825627798392,
          0.99543235958593,
          0.9893802258244138,
          0.996684968451623,
          0.9959131674555578,
          0.9932499519147743,
          0.9901769846682724,
          0.9953730229163981,
          0.9867979786953157,
          0.9886645770187735,
          0.9899667799367187,
          0.9951151303665158,
          0.9943793447232203,
          0.991113931261648,
          0.9900324226234332,
          0.9926830798149504,
          0.994322081209094,
          0.9819144103049422,
          0.9854597694869812,
          0.9955391424680776,
          0.9775580316259246,
          0.9870923933910168,
          0.9921885953799595,
          0.9919253752440745,
          0.995377391291835,
          0.9951574257981675,
          0.9930634613716436,
          0.9853308449025653,
          0.9855313850696924,
          0.993248341929216,
          0.9910082549960667,
          0.9944875423982785,
          0.9958955546492655,
          0.9961221390715871,
          0.9868606887262172,
          0.9919975809704643,
          0.992924981646665,
          0.9962868683734669,
          0.9965433851039619,
          0.9901653670244353,
          0.9938958687811431,
          0.9951382878104555,
          0.996285424234793
         ]
        },
        {
         "name": "CIFAR",
         "type": "histogram",
         "x": [
          0.9975371456023795,
          0.9961144901875122,
          0.9974448223148282,
          0.9969573151383128,
          0.9986611994779271,
          0.9968670315610796,
          0.9977483552149261,
          0.9983599622420561,
          0.9958880964331704,
          0.9962331688846792,
          0.9974208336921303,
          0.9978399371474969,
          0.9984890980907972,
          0.9961175817065787,
          0.9935463928331205,
          0.9965107148249116,
          0.9983464511917479,
          0.9977519665427717,
          0.994495821083962,
          0.9969433872853057,
          0.996187349942435,
          0.9972813660848677,
          0.996147930819034,
          0.9916777161388906,
          0.9956022100448569,
          0.9985944975744673,
          0.9937192563820378,
          0.9975965464624797,
          0.9956699899848818,
          0.9980874041795,
          0.9969636978587167,
          0.9967153166304172,
          0.9953067939328034,
          0.9960555406014965,
          0.9988069425903128,
          0.9980112155837874,
          0.9964872301101106,
          0.998060065085908,
          0.9928298762550644,
          0.9972305111075123,
          0.9938656594517564,
          0.9962095558659698,
          0.9987236391407032,
          0.9950008307063363,
          0.9964143397776658,
          0.9939060837649798,
          0.9965891584403378,
          0.9972413559982138,
          0.9937610249989574,
          0.9944767001349532,
          0.9963929570713886,
          0.9965195950772491,
          0.995504551545516,
          0.9983197185299034,
          0.9961171322248621,
          0.9963873057439373,
          0.9961943605961449,
          0.997524008144277,
          0.9961911361041325,
          0.9970019742741981,
          0.9925003781783748,
          0.9968072036563739,
          0.9878116614661481,
          0.9973510138280741,
          0.9926014915413401,
          0.9974307193967294,
          0.9987208731767704,
          0.9934545842013531,
          0.9978125689947187,
          0.9962749020507721,
          0.9978044157189323,
          0.9955469846852549,
          0.9962333962779628,
          0.9961566223366372,
          0.9981941875082796,
          0.9984854532574687,
          0.9978275132846883,
          0.9963276881756066,
          0.9967963533297789,
          0.9965161269691407,
          0.995847032148797,
          0.9973699777707489,
          0.9977264947350241,
          0.9976788672554884,
          0.995338972444846,
          0.994442008530031,
          0.9961911838024371,
          0.9958291659912571,
          0.9973184723991427,
          0.9975491624261013,
          0.9978944636156163,
          0.9973149603964885,
          0.9975040530793917,
          0.9938446594941124,
          0.9933531108286611,
          0.9980055815617309,
          0.996562809270915,
          0.9953473386508045,
          0.997247437364314,
          0.9982894496170159
         ]
        }
       ],
       "layout": {
        "template": {
         "data": {
          "bar": [
           {
            "error_x": {
             "color": "#2a3f5f"
            },
            "error_y": {
             "color": "#2a3f5f"
            },
            "marker": {
             "line": {
              "color": "#E5ECF6",
              "width": 0.5
             }
            },
            "type": "bar"
           }
          ],
          "barpolar": [
           {
            "marker": {
             "line": {
              "color": "#E5ECF6",
              "width": 0.5
             }
            },
            "type": "barpolar"
           }
          ],
          "carpet": [
           {
            "aaxis": {
             "endlinecolor": "#2a3f5f",
             "gridcolor": "white",
             "linecolor": "white",
             "minorgridcolor": "white",
             "startlinecolor": "#2a3f5f"
            },
            "baxis": {
             "endlinecolor": "#2a3f5f",
             "gridcolor": "white",
             "linecolor": "white",
             "minorgridcolor": "white",
             "startlinecolor": "#2a3f5f"
            },
            "type": "carpet"
           }
          ],
          "choropleth": [
           {
            "colorbar": {
             "outlinewidth": 0,
             "ticks": ""
            },
            "type": "choropleth"
           }
          ],
          "contour": [
           {
            "colorbar": {
             "outlinewidth": 0,
             "ticks": ""
            },
            "colorscale": [
             [
              0,
              "#0d0887"
             ],
             [
              0.1111111111111111,
              "#46039f"
             ],
             [
              0.2222222222222222,
              "#7201a8"
             ],
             [
              0.3333333333333333,
              "#9c179e"
             ],
             [
              0.4444444444444444,
              "#bd3786"
             ],
             [
              0.5555555555555556,
              "#d8576b"
             ],
             [
              0.6666666666666666,
              "#ed7953"
             ],
             [
              0.7777777777777778,
              "#fb9f3a"
             ],
             [
              0.8888888888888888,
              "#fdca26"
             ],
             [
              1,
              "#f0f921"
             ]
            ],
            "type": "contour"
           }
          ],
          "contourcarpet": [
           {
            "colorbar": {
             "outlinewidth": 0,
             "ticks": ""
            },
            "type": "contourcarpet"
           }
          ],
          "heatmap": [
           {
            "colorbar": {
             "outlinewidth": 0,
             "ticks": ""
            },
            "colorscale": [
             [
              0,
              "#0d0887"
             ],
             [
              0.1111111111111111,
              "#46039f"
             ],
             [
              0.2222222222222222,
              "#7201a8"
             ],
             [
              0.3333333333333333,
              "#9c179e"
             ],
             [
              0.4444444444444444,
              "#bd3786"
             ],
             [
              0.5555555555555556,
              "#d8576b"
             ],
             [
              0.6666666666666666,
              "#ed7953"
             ],
             [
              0.7777777777777778,
              "#fb9f3a"
             ],
             [
              0.8888888888888888,
              "#fdca26"
             ],
             [
              1,
              "#f0f921"
             ]
            ],
            "type": "heatmap"
           }
          ],
          "heatmapgl": [
           {
            "colorbar": {
             "outlinewidth": 0,
             "ticks": ""
            },
            "colorscale": [
             [
              0,
              "#0d0887"
             ],
             [
              0.1111111111111111,
              "#46039f"
             ],
             [
              0.2222222222222222,
              "#7201a8"
             ],
             [
              0.3333333333333333,
              "#9c179e"
             ],
             [
              0.4444444444444444,
              "#bd3786"
             ],
             [
              0.5555555555555556,
              "#d8576b"
             ],
             [
              0.6666666666666666,
              "#ed7953"
             ],
             [
              0.7777777777777778,
              "#fb9f3a"
             ],
             [
              0.8888888888888888,
              "#fdca26"
             ],
             [
              1,
              "#f0f921"
             ]
            ],
            "type": "heatmapgl"
           }
          ],
          "histogram": [
           {
            "marker": {
             "colorbar": {
              "outlinewidth": 0,
              "ticks": ""
             }
            },
            "type": "histogram"
           }
          ],
          "histogram2d": [
           {
            "colorbar": {
             "outlinewidth": 0,
             "ticks": ""
            },
            "colorscale": [
             [
              0,
              "#0d0887"
             ],
             [
              0.1111111111111111,
              "#46039f"
             ],
             [
              0.2222222222222222,
              "#7201a8"
             ],
             [
              0.3333333333333333,
              "#9c179e"
             ],
             [
              0.4444444444444444,
              "#bd3786"
             ],
             [
              0.5555555555555556,
              "#d8576b"
             ],
             [
              0.6666666666666666,
              "#ed7953"
             ],
             [
              0.7777777777777778,
              "#fb9f3a"
             ],
             [
              0.8888888888888888,
              "#fdca26"
             ],
             [
              1,
              "#f0f921"
             ]
            ],
            "type": "histogram2d"
           }
          ],
          "histogram2dcontour": [
           {
            "colorbar": {
             "outlinewidth": 0,
             "ticks": ""
            },
            "colorscale": [
             [
              0,
              "#0d0887"
             ],
             [
              0.1111111111111111,
              "#46039f"
             ],
             [
              0.2222222222222222,
              "#7201a8"
             ],
             [
              0.3333333333333333,
              "#9c179e"
             ],
             [
              0.4444444444444444,
              "#bd3786"
             ],
             [
              0.5555555555555556,
              "#d8576b"
             ],
             [
              0.6666666666666666,
              "#ed7953"
             ],
             [
              0.7777777777777778,
              "#fb9f3a"
             ],
             [
              0.8888888888888888,
              "#fdca26"
             ],
             [
              1,
              "#f0f921"
             ]
            ],
            "type": "histogram2dcontour"
           }
          ],
          "mesh3d": [
           {
            "colorbar": {
             "outlinewidth": 0,
             "ticks": ""
            },
            "type": "mesh3d"
           }
          ],
          "parcoords": [
           {
            "line": {
             "colorbar": {
              "outlinewidth": 0,
              "ticks": ""
             }
            },
            "type": "parcoords"
           }
          ],
          "pie": [
           {
            "automargin": true,
            "type": "pie"
           }
          ],
          "scatter": [
           {
            "marker": {
             "colorbar": {
              "outlinewidth": 0,
              "ticks": ""
             }
            },
            "type": "scatter"
           }
          ],
          "scatter3d": [
           {
            "line": {
             "colorbar": {
              "outlinewidth": 0,
              "ticks": ""
             }
            },
            "marker": {
             "colorbar": {
              "outlinewidth": 0,
              "ticks": ""
             }
            },
            "type": "scatter3d"
           }
          ],
          "scattercarpet": [
           {
            "marker": {
             "colorbar": {
              "outlinewidth": 0,
              "ticks": ""
             }
            },
            "type": "scattercarpet"
           }
          ],
          "scattergeo": [
           {
            "marker": {
             "colorbar": {
              "outlinewidth": 0,
              "ticks": ""
             }
            },
            "type": "scattergeo"
           }
          ],
          "scattergl": [
           {
            "marker": {
             "colorbar": {
              "outlinewidth": 0,
              "ticks": ""
             }
            },
            "type": "scattergl"
           }
          ],
          "scattermapbox": [
           {
            "marker": {
             "colorbar": {
              "outlinewidth": 0,
              "ticks": ""
             }
            },
            "type": "scattermapbox"
           }
          ],
          "scatterpolar": [
           {
            "marker": {
             "colorbar": {
              "outlinewidth": 0,
              "ticks": ""
             }
            },
            "type": "scatterpolar"
           }
          ],
          "scatterpolargl": [
           {
            "marker": {
             "colorbar": {
              "outlinewidth": 0,
              "ticks": ""
             }
            },
            "type": "scatterpolargl"
           }
          ],
          "scatterternary": [
           {
            "marker": {
             "colorbar": {
              "outlinewidth": 0,
              "ticks": ""
             }
            },
            "type": "scatterternary"
           }
          ],
          "surface": [
           {
            "colorbar": {
             "outlinewidth": 0,
             "ticks": ""
            },
            "colorscale": [
             [
              0,
              "#0d0887"
             ],
             [
              0.1111111111111111,
              "#46039f"
             ],
             [
              0.2222222222222222,
              "#7201a8"
             ],
             [
              0.3333333333333333,
              "#9c179e"
             ],
             [
              0.4444444444444444,
              "#bd3786"
             ],
             [
              0.5555555555555556,
              "#d8576b"
             ],
             [
              0.6666666666666666,
              "#ed7953"
             ],
             [
              0.7777777777777778,
              "#fb9f3a"
             ],
             [
              0.8888888888888888,
              "#fdca26"
             ],
             [
              1,
              "#f0f921"
             ]
            ],
            "type": "surface"
           }
          ],
          "table": [
           {
            "cells": {
             "fill": {
              "color": "#EBF0F8"
             },
             "line": {
              "color": "white"
             }
            },
            "header": {
             "fill": {
              "color": "#C8D4E3"
             },
             "line": {
              "color": "white"
             }
            },
            "type": "table"
           }
          ]
         },
         "layout": {
          "annotationdefaults": {
           "arrowcolor": "#2a3f5f",
           "arrowhead": 0,
           "arrowwidth": 1
          },
          "coloraxis": {
           "colorbar": {
            "outlinewidth": 0,
            "ticks": ""
           }
          },
          "colorscale": {
           "diverging": [
            [
             0,
             "#8e0152"
            ],
            [
             0.1,
             "#c51b7d"
            ],
            [
             0.2,
             "#de77ae"
            ],
            [
             0.3,
             "#f1b6da"
            ],
            [
             0.4,
             "#fde0ef"
            ],
            [
             0.5,
             "#f7f7f7"
            ],
            [
             0.6,
             "#e6f5d0"
            ],
            [
             0.7,
             "#b8e186"
            ],
            [
             0.8,
             "#7fbc41"
            ],
            [
             0.9,
             "#4d9221"
            ],
            [
             1,
             "#276419"
            ]
           ],
           "sequential": [
            [
             0,
             "#0d0887"
            ],
            [
             0.1111111111111111,
             "#46039f"
            ],
            [
             0.2222222222222222,
             "#7201a8"
            ],
            [
             0.3333333333333333,
             "#9c179e"
            ],
            [
             0.4444444444444444,
             "#bd3786"
            ],
            [
             0.5555555555555556,
             "#d8576b"
            ],
            [
             0.6666666666666666,
             "#ed7953"
            ],
            [
             0.7777777777777778,
             "#fb9f3a"
            ],
            [
             0.8888888888888888,
             "#fdca26"
            ],
            [
             1,
             "#f0f921"
            ]
           ],
           "sequentialminus": [
            [
             0,
             "#0d0887"
            ],
            [
             0.1111111111111111,
             "#46039f"
            ],
            [
             0.2222222222222222,
             "#7201a8"
            ],
            [
             0.3333333333333333,
             "#9c179e"
            ],
            [
             0.4444444444444444,
             "#bd3786"
            ],
            [
             0.5555555555555556,
             "#d8576b"
            ],
            [
             0.6666666666666666,
             "#ed7953"
            ],
            [
             0.7777777777777778,
             "#fb9f3a"
            ],
            [
             0.8888888888888888,
             "#fdca26"
            ],
            [
             1,
             "#f0f921"
            ]
           ]
          },
          "colorway": [
           "#636efa",
           "#EF553B",
           "#00cc96",
           "#ab63fa",
           "#FFA15A",
           "#19d3f3",
           "#FF6692",
           "#B6E880",
           "#FF97FF",
           "#FECB52"
          ],
          "font": {
           "color": "#2a3f5f"
          },
          "geo": {
           "bgcolor": "white",
           "lakecolor": "white",
           "landcolor": "#E5ECF6",
           "showlakes": true,
           "showland": true,
           "subunitcolor": "white"
          },
          "hoverlabel": {
           "align": "left"
          },
          "hovermode": "closest",
          "mapbox": {
           "style": "light"
          },
          "paper_bgcolor": "white",
          "plot_bgcolor": "#E5ECF6",
          "polar": {
           "angularaxis": {
            "gridcolor": "white",
            "linecolor": "white",
            "ticks": ""
           },
           "bgcolor": "#E5ECF6",
           "radialaxis": {
            "gridcolor": "white",
            "linecolor": "white",
            "ticks": ""
           }
          },
          "scene": {
           "xaxis": {
            "backgroundcolor": "#E5ECF6",
            "gridcolor": "white",
            "gridwidth": 2,
            "linecolor": "white",
            "showbackground": true,
            "ticks": "",
            "zerolinecolor": "white"
           },
           "yaxis": {
            "backgroundcolor": "#E5ECF6",
            "gridcolor": "white",
            "gridwidth": 2,
            "linecolor": "white",
            "showbackground": true,
            "ticks": "",
            "zerolinecolor": "white"
           },
           "zaxis": {
            "backgroundcolor": "#E5ECF6",
            "gridcolor": "white",
            "gridwidth": 2,
            "linecolor": "white",
            "showbackground": true,
            "ticks": "",
            "zerolinecolor": "white"
           }
          },
          "shapedefaults": {
           "line": {
            "color": "#2a3f5f"
           }
          },
          "ternary": {
           "aaxis": {
            "gridcolor": "white",
            "linecolor": "white",
            "ticks": ""
           },
           "baxis": {
            "gridcolor": "white",
            "linecolor": "white",
            "ticks": ""
           },
           "bgcolor": "#E5ECF6",
           "caxis": {
            "gridcolor": "white",
            "linecolor": "white",
            "ticks": ""
           }
          },
          "title": {
           "x": 0.05
          },
          "xaxis": {
           "automargin": true,
           "gridcolor": "white",
           "linecolor": "white",
           "ticks": "",
           "title": {
            "standoff": 15
           },
           "zerolinecolor": "white",
           "zerolinewidth": 2
          },
          "yaxis": {
           "automargin": true,
           "gridcolor": "white",
           "linecolor": "white",
           "ticks": "",
           "title": {
            "standoff": 15
           },
           "zerolinecolor": "white",
           "zerolinewidth": 2
          }
         }
        }
       }
      },
      "text/html": [
       "<div>                            <div id=\"9bacc72b-487b-44aa-a279-dbeb13dd190a\" class=\"plotly-graph-div\" style=\"height:525px; width:100%;\"></div>            <script type=\"text/javascript\">                require([\"plotly\"], function(Plotly) {                    window.PLOTLYENV=window.PLOTLYENV || {};                                    if (document.getElementById(\"9bacc72b-487b-44aa-a279-dbeb13dd190a\")) {                    Plotly.newPlot(                        \"9bacc72b-487b-44aa-a279-dbeb13dd190a\",                        [{\"name\": \"MNIST\", \"type\": \"histogram\", \"x\": [0.9930388541067587, 0.9904509100520275, 0.9937198999959059, 0.9898467831533546, 0.9931019628937924, 0.9950434228784012, 0.9896595776626901, 0.9820743182454298, 0.9924851707328067, 0.9925537917351407, 0.9950429489556807, 0.9906633320220523, 0.9958549779735938, 0.9948507896826275, 0.9902989735155245, 0.9955176631328233, 0.9923425525277915, 0.9901389547030132, 0.9878533544500281, 0.9961889922317929, 0.9953709628291316, 0.9839586379704945, 0.9939528667011033, 0.9930380088308303, 0.9941893745943671, 0.9946922249364871, 0.9903306252573782, 0.9962281465585883, 0.9941462695930228, 0.9949736505767466, 0.9937573865901549, 0.9964044942699739, 0.9834352520976328, 0.990878350843126, 0.9937640668591625, 0.9902155910437509, 0.9799483425559694, 0.9950392313581593, 0.9845734786400884, 0.9870811257106148, 0.9905371403035588, 0.9819297663742653, 0.9934733021952217, 0.9851637231119419, 0.994092708463558, 0.9865085381111964, 0.9902740124621077, 0.9956503056011942, 0.986781484072645, 0.9914167625514817, 0.9945594956874309, 0.994940500116171, 0.9742675027516396, 0.9899477497967064, 0.9932768704414725, 0.9951151858403104, 0.9944324855817815, 0.9881825627798392, 0.99543235958593, 0.9893802258244138, 0.996684968451623, 0.9959131674555578, 0.9932499519147743, 0.9901769846682724, 0.9953730229163981, 0.9867979786953157, 0.9886645770187735, 0.9899667799367187, 0.9951151303665158, 0.9943793447232203, 0.991113931261648, 0.9900324226234332, 0.9926830798149504, 0.994322081209094, 0.9819144103049422, 0.9854597694869812, 0.9955391424680776, 0.9775580316259246, 0.9870923933910168, 0.9921885953799595, 0.9919253752440745, 0.995377391291835, 0.9951574257981675, 0.9930634613716436, 0.9853308449025653, 0.9855313850696924, 0.993248341929216, 0.9910082549960667, 0.9944875423982785, 0.9958955546492655, 0.9961221390715871, 0.9868606887262172, 0.9919975809704643, 0.992924981646665, 0.9962868683734669, 0.9965433851039619, 0.9901653670244353, 0.9938958687811431, 0.9951382878104555, 0.996285424234793]}, {\"name\": \"CIFAR\", \"type\": \"histogram\", \"x\": [0.9975371456023795, 0.9961144901875122, 0.9974448223148282, 0.9969573151383128, 0.9986611994779271, 0.9968670315610796, 0.9977483552149261, 0.9983599622420561, 0.9958880964331704, 0.9962331688846792, 0.9974208336921303, 0.9978399371474969, 0.9984890980907972, 0.9961175817065787, 0.9935463928331205, 0.9965107148249116, 0.9983464511917479, 0.9977519665427717, 0.994495821083962, 0.9969433872853057, 0.996187349942435, 0.9972813660848677, 0.996147930819034, 0.9916777161388906, 0.9956022100448569, 0.9985944975744673, 0.9937192563820378, 0.9975965464624797, 0.9956699899848818, 0.9980874041795, 0.9969636978587167, 0.9967153166304172, 0.9953067939328034, 0.9960555406014965, 0.9988069425903128, 0.9980112155837874, 0.9964872301101106, 0.998060065085908, 0.9928298762550644, 0.9972305111075123, 0.9938656594517564, 0.9962095558659698, 0.9987236391407032, 0.9950008307063363, 0.9964143397776658, 0.9939060837649798, 0.9965891584403378, 0.9972413559982138, 0.9937610249989574, 0.9944767001349532, 0.9963929570713886, 0.9965195950772491, 0.995504551545516, 0.9983197185299034, 0.9961171322248621, 0.9963873057439373, 0.9961943605961449, 0.997524008144277, 0.9961911361041325, 0.9970019742741981, 0.9925003781783748, 0.9968072036563739, 0.9878116614661481, 0.9973510138280741, 0.9926014915413401, 0.9974307193967294, 0.9987208731767704, 0.9934545842013531, 0.9978125689947187, 0.9962749020507721, 0.9978044157189323, 0.9955469846852549, 0.9962333962779628, 0.9961566223366372, 0.9981941875082796, 0.9984854532574687, 0.9978275132846883, 0.9963276881756066, 0.9967963533297789, 0.9965161269691407, 0.995847032148797, 0.9973699777707489, 0.9977264947350241, 0.9976788672554884, 0.995338972444846, 0.994442008530031, 0.9961911838024371, 0.9958291659912571, 0.9973184723991427, 0.9975491624261013, 0.9978944636156163, 0.9973149603964885, 0.9975040530793917, 0.9938446594941124, 0.9933531108286611, 0.9980055815617309, 0.996562809270915, 0.9953473386508045, 0.997247437364314, 0.9982894496170159]}],                        {\"template\": {\"data\": {\"bar\": [{\"error_x\": {\"color\": \"#2a3f5f\"}, \"error_y\": {\"color\": \"#2a3f5f\"}, \"marker\": {\"line\": {\"color\": \"#E5ECF6\", \"width\": 0.5}}, \"type\": \"bar\"}], \"barpolar\": [{\"marker\": {\"line\": {\"color\": \"#E5ECF6\", \"width\": 0.5}}, \"type\": \"barpolar\"}], \"carpet\": [{\"aaxis\": {\"endlinecolor\": \"#2a3f5f\", \"gridcolor\": \"white\", \"linecolor\": \"white\", \"minorgridcolor\": \"white\", \"startlinecolor\": \"#2a3f5f\"}, \"baxis\": {\"endlinecolor\": \"#2a3f5f\", \"gridcolor\": \"white\", \"linecolor\": \"white\", \"minorgridcolor\": \"white\", \"startlinecolor\": \"#2a3f5f\"}, \"type\": \"carpet\"}], \"choropleth\": [{\"colorbar\": {\"outlinewidth\": 0, \"ticks\": \"\"}, \"type\": \"choropleth\"}], \"contour\": [{\"colorbar\": {\"outlinewidth\": 0, \"ticks\": \"\"}, \"colorscale\": [[0.0, \"#0d0887\"], [0.1111111111111111, \"#46039f\"], [0.2222222222222222, \"#7201a8\"], [0.3333333333333333, \"#9c179e\"], [0.4444444444444444, \"#bd3786\"], [0.5555555555555556, \"#d8576b\"], [0.6666666666666666, \"#ed7953\"], [0.7777777777777778, \"#fb9f3a\"], [0.8888888888888888, \"#fdca26\"], [1.0, \"#f0f921\"]], \"type\": \"contour\"}], \"contourcarpet\": [{\"colorbar\": {\"outlinewidth\": 0, \"ticks\": \"\"}, \"type\": \"contourcarpet\"}], \"heatmap\": [{\"colorbar\": {\"outlinewidth\": 0, \"ticks\": \"\"}, \"colorscale\": [[0.0, \"#0d0887\"], [0.1111111111111111, \"#46039f\"], [0.2222222222222222, \"#7201a8\"], [0.3333333333333333, \"#9c179e\"], [0.4444444444444444, \"#bd3786\"], [0.5555555555555556, \"#d8576b\"], [0.6666666666666666, \"#ed7953\"], [0.7777777777777778, \"#fb9f3a\"], [0.8888888888888888, \"#fdca26\"], [1.0, \"#f0f921\"]], \"type\": \"heatmap\"}], \"heatmapgl\": [{\"colorbar\": {\"outlinewidth\": 0, \"ticks\": \"\"}, \"colorscale\": [[0.0, \"#0d0887\"], [0.1111111111111111, \"#46039f\"], [0.2222222222222222, \"#7201a8\"], [0.3333333333333333, \"#9c179e\"], [0.4444444444444444, \"#bd3786\"], [0.5555555555555556, \"#d8576b\"], [0.6666666666666666, \"#ed7953\"], [0.7777777777777778, \"#fb9f3a\"], [0.8888888888888888, \"#fdca26\"], [1.0, \"#f0f921\"]], \"type\": \"heatmapgl\"}], \"histogram\": [{\"marker\": {\"colorbar\": {\"outlinewidth\": 0, \"ticks\": \"\"}}, \"type\": \"histogram\"}], \"histogram2d\": [{\"colorbar\": {\"outlinewidth\": 0, \"ticks\": \"\"}, \"colorscale\": [[0.0, \"#0d0887\"], [0.1111111111111111, \"#46039f\"], [0.2222222222222222, \"#7201a8\"], [0.3333333333333333, \"#9c179e\"], [0.4444444444444444, \"#bd3786\"], [0.5555555555555556, \"#d8576b\"], [0.6666666666666666, \"#ed7953\"], [0.7777777777777778, \"#fb9f3a\"], [0.8888888888888888, \"#fdca26\"], [1.0, \"#f0f921\"]], \"type\": \"histogram2d\"}], \"histogram2dcontour\": [{\"colorbar\": {\"outlinewidth\": 0, \"ticks\": \"\"}, \"colorscale\": [[0.0, \"#0d0887\"], [0.1111111111111111, \"#46039f\"], [0.2222222222222222, \"#7201a8\"], [0.3333333333333333, \"#9c179e\"], [0.4444444444444444, \"#bd3786\"], [0.5555555555555556, \"#d8576b\"], [0.6666666666666666, \"#ed7953\"], [0.7777777777777778, \"#fb9f3a\"], [0.8888888888888888, \"#fdca26\"], [1.0, \"#f0f921\"]], \"type\": \"histogram2dcontour\"}], \"mesh3d\": [{\"colorbar\": {\"outlinewidth\": 0, \"ticks\": \"\"}, \"type\": \"mesh3d\"}], \"parcoords\": [{\"line\": {\"colorbar\": {\"outlinewidth\": 0, \"ticks\": \"\"}}, \"type\": \"parcoords\"}], \"pie\": [{\"automargin\": true, \"type\": \"pie\"}], \"scatter\": [{\"marker\": {\"colorbar\": {\"outlinewidth\": 0, \"ticks\": \"\"}}, \"type\": \"scatter\"}], \"scatter3d\": [{\"line\": {\"colorbar\": {\"outlinewidth\": 0, \"ticks\": \"\"}}, \"marker\": {\"colorbar\": {\"outlinewidth\": 0, \"ticks\": \"\"}}, \"type\": \"scatter3d\"}], \"scattercarpet\": [{\"marker\": {\"colorbar\": {\"outlinewidth\": 0, \"ticks\": \"\"}}, \"type\": \"scattercarpet\"}], \"scattergeo\": [{\"marker\": {\"colorbar\": {\"outlinewidth\": 0, \"ticks\": \"\"}}, \"type\": \"scattergeo\"}], \"scattergl\": [{\"marker\": {\"colorbar\": {\"outlinewidth\": 0, \"ticks\": \"\"}}, \"type\": \"scattergl\"}], \"scattermapbox\": [{\"marker\": {\"colorbar\": {\"outlinewidth\": 0, \"ticks\": \"\"}}, \"type\": \"scattermapbox\"}], \"scatterpolar\": [{\"marker\": {\"colorbar\": {\"outlinewidth\": 0, \"ticks\": \"\"}}, \"type\": \"scatterpolar\"}], \"scatterpolargl\": [{\"marker\": {\"colorbar\": {\"outlinewidth\": 0, \"ticks\": \"\"}}, \"type\": \"scatterpolargl\"}], \"scatterternary\": [{\"marker\": {\"colorbar\": {\"outlinewidth\": 0, \"ticks\": \"\"}}, \"type\": \"scatterternary\"}], \"surface\": [{\"colorbar\": {\"outlinewidth\": 0, \"ticks\": \"\"}, \"colorscale\": [[0.0, \"#0d0887\"], [0.1111111111111111, \"#46039f\"], [0.2222222222222222, \"#7201a8\"], [0.3333333333333333, \"#9c179e\"], [0.4444444444444444, \"#bd3786\"], [0.5555555555555556, \"#d8576b\"], [0.6666666666666666, \"#ed7953\"], [0.7777777777777778, \"#fb9f3a\"], [0.8888888888888888, \"#fdca26\"], [1.0, \"#f0f921\"]], \"type\": \"surface\"}], \"table\": [{\"cells\": {\"fill\": {\"color\": \"#EBF0F8\"}, \"line\": {\"color\": \"white\"}}, \"header\": {\"fill\": {\"color\": \"#C8D4E3\"}, \"line\": {\"color\": \"white\"}}, \"type\": \"table\"}]}, \"layout\": {\"annotationdefaults\": {\"arrowcolor\": \"#2a3f5f\", \"arrowhead\": 0, \"arrowwidth\": 1}, \"coloraxis\": {\"colorbar\": {\"outlinewidth\": 0, \"ticks\": \"\"}}, \"colorscale\": {\"diverging\": [[0, \"#8e0152\"], [0.1, \"#c51b7d\"], [0.2, \"#de77ae\"], [0.3, \"#f1b6da\"], [0.4, \"#fde0ef\"], [0.5, \"#f7f7f7\"], [0.6, \"#e6f5d0\"], [0.7, \"#b8e186\"], [0.8, \"#7fbc41\"], [0.9, \"#4d9221\"], [1, \"#276419\"]], \"sequential\": [[0.0, \"#0d0887\"], [0.1111111111111111, \"#46039f\"], [0.2222222222222222, \"#7201a8\"], [0.3333333333333333, \"#9c179e\"], [0.4444444444444444, \"#bd3786\"], [0.5555555555555556, \"#d8576b\"], [0.6666666666666666, \"#ed7953\"], [0.7777777777777778, \"#fb9f3a\"], [0.8888888888888888, \"#fdca26\"], [1.0, \"#f0f921\"]], \"sequentialminus\": [[0.0, \"#0d0887\"], [0.1111111111111111, \"#46039f\"], [0.2222222222222222, \"#7201a8\"], [0.3333333333333333, \"#9c179e\"], [0.4444444444444444, \"#bd3786\"], [0.5555555555555556, \"#d8576b\"], [0.6666666666666666, \"#ed7953\"], [0.7777777777777778, \"#fb9f3a\"], [0.8888888888888888, \"#fdca26\"], [1.0, \"#f0f921\"]]}, \"colorway\": [\"#636efa\", \"#EF553B\", \"#00cc96\", \"#ab63fa\", \"#FFA15A\", \"#19d3f3\", \"#FF6692\", \"#B6E880\", \"#FF97FF\", \"#FECB52\"], \"font\": {\"color\": \"#2a3f5f\"}, \"geo\": {\"bgcolor\": \"white\", \"lakecolor\": \"white\", \"landcolor\": \"#E5ECF6\", \"showlakes\": true, \"showland\": true, \"subunitcolor\": \"white\"}, \"hoverlabel\": {\"align\": \"left\"}, \"hovermode\": \"closest\", \"mapbox\": {\"style\": \"light\"}, \"paper_bgcolor\": \"white\", \"plot_bgcolor\": \"#E5ECF6\", \"polar\": {\"angularaxis\": {\"gridcolor\": \"white\", \"linecolor\": \"white\", \"ticks\": \"\"}, \"bgcolor\": \"#E5ECF6\", \"radialaxis\": {\"gridcolor\": \"white\", \"linecolor\": \"white\", \"ticks\": \"\"}}, \"scene\": {\"xaxis\": {\"backgroundcolor\": \"#E5ECF6\", \"gridcolor\": \"white\", \"gridwidth\": 2, \"linecolor\": \"white\", \"showbackground\": true, \"ticks\": \"\", \"zerolinecolor\": \"white\"}, \"yaxis\": {\"backgroundcolor\": \"#E5ECF6\", \"gridcolor\": \"white\", \"gridwidth\": 2, \"linecolor\": \"white\", \"showbackground\": true, \"ticks\": \"\", \"zerolinecolor\": \"white\"}, \"zaxis\": {\"backgroundcolor\": \"#E5ECF6\", \"gridcolor\": \"white\", \"gridwidth\": 2, \"linecolor\": \"white\", \"showbackground\": true, \"ticks\": \"\", \"zerolinecolor\": \"white\"}}, \"shapedefaults\": {\"line\": {\"color\": \"#2a3f5f\"}}, \"ternary\": {\"aaxis\": {\"gridcolor\": \"white\", \"linecolor\": \"white\", \"ticks\": \"\"}, \"baxis\": {\"gridcolor\": \"white\", \"linecolor\": \"white\", \"ticks\": \"\"}, \"bgcolor\": \"#E5ECF6\", \"caxis\": {\"gridcolor\": \"white\", \"linecolor\": \"white\", \"ticks\": \"\"}}, \"title\": {\"x\": 0.05}, \"xaxis\": {\"automargin\": true, \"gridcolor\": \"white\", \"linecolor\": \"white\", \"ticks\": \"\", \"title\": {\"standoff\": 15}, \"zerolinecolor\": \"white\", \"zerolinewidth\": 2}, \"yaxis\": {\"automargin\": true, \"gridcolor\": \"white\", \"linecolor\": \"white\", \"ticks\": \"\", \"title\": {\"standoff\": 15}, \"zerolinecolor\": \"white\", \"zerolinewidth\": 2}}}},                        {\"responsive\": true}                    ).then(function(){\n",
       "                            \n",
       "var gd = document.getElementById('9bacc72b-487b-44aa-a279-dbeb13dd190a');\n",
       "var x = new MutationObserver(function (mutations, observer) {{\n",
       "        var display = window.getComputedStyle(gd).display;\n",
       "        if (!display || display === 'none') {{\n",
       "            console.log([gd, 'removed!']);\n",
       "            Plotly.purge(gd);\n",
       "            observer.disconnect();\n",
       "        }}\n",
       "}});\n",
       "\n",
       "// Listen for the removal of the full notebook cells\n",
       "var notebookContainer = gd.closest('#notebook-container');\n",
       "if (notebookContainer) {{\n",
       "    x.observe(notebookContainer, {childList: true});\n",
       "}}\n",
       "\n",
       "// Listen for the clearing of the current output cell\n",
       "var outputEl = gd.closest('.output');\n",
       "if (outputEl) {{\n",
       "    x.observe(outputEl, {childList: true});\n",
       "}}\n",
       "\n",
       "                        })                };                });            </script>        </div>"
      ]
     },
     "metadata": {},
     "output_type": "display_data"
    }
   ],
   "source": [
    "temp = df_exp1.loc[df_exp1.dataset == 'cifar10']\n",
    "print(temp[[\"initial_r2\", \"test_acc\"]].corr())\n",
    "# px.scatter(temp, x=\"initial_r2\", y=\"test_acc\", color=\"dataset\",\n",
    "#                  size='training_steps')\n",
    "# px.histogram(temp, x='final_r2')\n",
    "fig1.add_trace(go.Histogram(x=temp.final_r2, name='CIFAR'))\n",
    "fig1.show()"
   ]
  },
  {
   "cell_type": "code",
   "execution_count": 33,
   "metadata": {},
   "outputs": [
    {
     "name": "stdout",
     "output_type": "stream",
     "text": [
      "            initial_r2  test_acc\n",
      "initial_r2    1.000000 -0.148419\n",
      "test_acc     -0.148419  1.000000\n"
     ]
    },
    {
     "data": {
      "application/vnd.plotly.v1+json": {
       "config": {
        "plotlyServerURL": "https://plot.ly"
       },
       "data": [
        {
         "name": "MNIST",
         "type": "histogram",
         "x": [
          0.9930388541067587,
          0.9904509100520275,
          0.9937198999959059,
          0.9898467831533546,
          0.9931019628937924,
          0.9950434228784012,
          0.9896595776626901,
          0.9820743182454298,
          0.9924851707328067,
          0.9925537917351407,
          0.9950429489556807,
          0.9906633320220523,
          0.9958549779735938,
          0.9948507896826275,
          0.9902989735155245,
          0.9955176631328233,
          0.9923425525277915,
          0.9901389547030132,
          0.9878533544500281,
          0.9961889922317929,
          0.9953709628291316,
          0.9839586379704945,
          0.9939528667011033,
          0.9930380088308303,
          0.9941893745943671,
          0.9946922249364871,
          0.9903306252573782,
          0.9962281465585883,
          0.9941462695930228,
          0.9949736505767466,
          0.9937573865901549,
          0.9964044942699739,
          0.9834352520976328,
          0.990878350843126,
          0.9937640668591625,
          0.9902155910437509,
          0.9799483425559694,
          0.9950392313581593,
          0.9845734786400884,
          0.9870811257106148,
          0.9905371403035588,
          0.9819297663742653,
          0.9934733021952217,
          0.9851637231119419,
          0.994092708463558,
          0.9865085381111964,
          0.9902740124621077,
          0.9956503056011942,
          0.986781484072645,
          0.9914167625514817,
          0.9945594956874309,
          0.994940500116171,
          0.9742675027516396,
          0.9899477497967064,
          0.9932768704414725,
          0.9951151858403104,
          0.9944324855817815,
          0.9881825627798392,
          0.99543235958593,
          0.9893802258244138,
          0.996684968451623,
          0.9959131674555578,
          0.9932499519147743,
          0.9901769846682724,
          0.9953730229163981,
          0.9867979786953157,
          0.9886645770187735,
          0.9899667799367187,
          0.9951151303665158,
          0.9943793447232203,
          0.991113931261648,
          0.9900324226234332,
          0.9926830798149504,
          0.994322081209094,
          0.9819144103049422,
          0.9854597694869812,
          0.9955391424680776,
          0.9775580316259246,
          0.9870923933910168,
          0.9921885953799595,
          0.9919253752440745,
          0.995377391291835,
          0.9951574257981675,
          0.9930634613716436,
          0.9853308449025653,
          0.9855313850696924,
          0.993248341929216,
          0.9910082549960667,
          0.9944875423982785,
          0.9958955546492655,
          0.9961221390715871,
          0.9868606887262172,
          0.9919975809704643,
          0.992924981646665,
          0.9962868683734669,
          0.9965433851039619,
          0.9901653670244353,
          0.9938958687811431,
          0.9951382878104555,
          0.996285424234793
         ]
        },
        {
         "name": "CIFAR",
         "type": "histogram",
         "x": [
          0.9975371456023795,
          0.9961144901875122,
          0.9974448223148282,
          0.9969573151383128,
          0.9986611994779271,
          0.9968670315610796,
          0.9977483552149261,
          0.9983599622420561,
          0.9958880964331704,
          0.9962331688846792,
          0.9974208336921303,
          0.9978399371474969,
          0.9984890980907972,
          0.9961175817065787,
          0.9935463928331205,
          0.9965107148249116,
          0.9983464511917479,
          0.9977519665427717,
          0.994495821083962,
          0.9969433872853057,
          0.996187349942435,
          0.9972813660848677,
          0.996147930819034,
          0.9916777161388906,
          0.9956022100448569,
          0.9985944975744673,
          0.9937192563820378,
          0.9975965464624797,
          0.9956699899848818,
          0.9980874041795,
          0.9969636978587167,
          0.9967153166304172,
          0.9953067939328034,
          0.9960555406014965,
          0.9988069425903128,
          0.9980112155837874,
          0.9964872301101106,
          0.998060065085908,
          0.9928298762550644,
          0.9972305111075123,
          0.9938656594517564,
          0.9962095558659698,
          0.9987236391407032,
          0.9950008307063363,
          0.9964143397776658,
          0.9939060837649798,
          0.9965891584403378,
          0.9972413559982138,
          0.9937610249989574,
          0.9944767001349532,
          0.9963929570713886,
          0.9965195950772491,
          0.995504551545516,
          0.9983197185299034,
          0.9961171322248621,
          0.9963873057439373,
          0.9961943605961449,
          0.997524008144277,
          0.9961911361041325,
          0.9970019742741981,
          0.9925003781783748,
          0.9968072036563739,
          0.9878116614661481,
          0.9973510138280741,
          0.9926014915413401,
          0.9974307193967294,
          0.9987208731767704,
          0.9934545842013531,
          0.9978125689947187,
          0.9962749020507721,
          0.9978044157189323,
          0.9955469846852549,
          0.9962333962779628,
          0.9961566223366372,
          0.9981941875082796,
          0.9984854532574687,
          0.9978275132846883,
          0.9963276881756066,
          0.9967963533297789,
          0.9965161269691407,
          0.995847032148797,
          0.9973699777707489,
          0.9977264947350241,
          0.9976788672554884,
          0.995338972444846,
          0.994442008530031,
          0.9961911838024371,
          0.9958291659912571,
          0.9973184723991427,
          0.9975491624261013,
          0.9978944636156163,
          0.9973149603964885,
          0.9975040530793917,
          0.9938446594941124,
          0.9933531108286611,
          0.9980055815617309,
          0.996562809270915,
          0.9953473386508045,
          0.997247437364314,
          0.9982894496170159
         ]
        },
        {
         "name": "FashionMNIST",
         "type": "histogram",
         "x": [
          0.9942273338969443,
          0.9915960458298492,
          0.9950388130576221,
          0.9859474496554687,
          0.9943120188242767,
          0.9901090089256862,
          0.9906928592674018,
          0.9896810384948806,
          0.9947219896857125,
          0.9933825934502896,
          0.9935429913088919,
          0.990327335224185,
          0.9945173506882661,
          0.9941337058695168,
          0.9936966805287804,
          0.991298891501104,
          0.992398842286535,
          0.9945559204616456,
          0.9935494310459088,
          0.9930025579794923,
          0.9929278840322969,
          0.9944501908558105,
          0.9928141119928844,
          0.9934279941860245,
          0.9894023407726662,
          0.9936201582412385,
          0.9931379993894227,
          0.9950521570396961,
          0.993429364904149,
          0.992615295376324,
          0.9934331490100501,
          0.9917943735185275,
          0.9939208080374548,
          0.9945905221787974,
          0.9931273347847315,
          0.9914308934680621,
          0.9930524547074361,
          0.9908119163152556,
          0.993823277045431,
          0.9886754866000363,
          0.9946116597409456,
          0.9941998845041092,
          0.9872296885471958,
          0.9933625170525251,
          0.9930431071164766,
          0.990189932171747,
          0.9945091230493434,
          0.9944702146008498,
          0.9911303424177116,
          0.9941804645289526,
          0.987427058348425,
          0.9845464648363388,
          0.9929986496927332,
          0.9946054551037914,
          0.9932042473129424,
          0.9926041935892225,
          0.9903448250688097,
          0.9929013753259873,
          0.9941257793401429,
          0.9935038032107247,
          0.993884193009844,
          0.9942882356071898,
          0.9912167353040593,
          0.9951848442482991,
          0.9942562918884166,
          0.9932097033184815,
          0.9897377721311127,
          0.9937891522393657,
          0.9938749080968899,
          0.9906155720332606,
          0.9870467632458603,
          0.9949325970791983,
          0.9899786614008578,
          0.9938594739372557,
          0.995388691655414,
          0.9938755560650415,
          0.9938111787559708,
          0.9938207927580879,
          0.9943140936588132,
          0.9927122154973895,
          0.9894922116229496,
          0.9942796113970893,
          0.9944880663530027,
          0.9916764855960322,
          0.9885181048842253,
          0.9937794985578634,
          0.989867860199579,
          0.9921431497446646,
          0.9945132009426605,
          0.9942655000433478,
          0.9892045107947034,
          0.990250743436528,
          0.9934816001680773,
          0.99364366795615,
          0.9932247711964628,
          0.9899660494267508,
          0.9937679439353047,
          0.9885299987740748,
          0.9935679320070506,
          0.9916943276939787
         ]
        }
       ],
       "layout": {
        "template": {
         "data": {
          "bar": [
           {
            "error_x": {
             "color": "#2a3f5f"
            },
            "error_y": {
             "color": "#2a3f5f"
            },
            "marker": {
             "line": {
              "color": "#E5ECF6",
              "width": 0.5
             }
            },
            "type": "bar"
           }
          ],
          "barpolar": [
           {
            "marker": {
             "line": {
              "color": "#E5ECF6",
              "width": 0.5
             }
            },
            "type": "barpolar"
           }
          ],
          "carpet": [
           {
            "aaxis": {
             "endlinecolor": "#2a3f5f",
             "gridcolor": "white",
             "linecolor": "white",
             "minorgridcolor": "white",
             "startlinecolor": "#2a3f5f"
            },
            "baxis": {
             "endlinecolor": "#2a3f5f",
             "gridcolor": "white",
             "linecolor": "white",
             "minorgridcolor": "white",
             "startlinecolor": "#2a3f5f"
            },
            "type": "carpet"
           }
          ],
          "choropleth": [
           {
            "colorbar": {
             "outlinewidth": 0,
             "ticks": ""
            },
            "type": "choropleth"
           }
          ],
          "contour": [
           {
            "colorbar": {
             "outlinewidth": 0,
             "ticks": ""
            },
            "colorscale": [
             [
              0,
              "#0d0887"
             ],
             [
              0.1111111111111111,
              "#46039f"
             ],
             [
              0.2222222222222222,
              "#7201a8"
             ],
             [
              0.3333333333333333,
              "#9c179e"
             ],
             [
              0.4444444444444444,
              "#bd3786"
             ],
             [
              0.5555555555555556,
              "#d8576b"
             ],
             [
              0.6666666666666666,
              "#ed7953"
             ],
             [
              0.7777777777777778,
              "#fb9f3a"
             ],
             [
              0.8888888888888888,
              "#fdca26"
             ],
             [
              1,
              "#f0f921"
             ]
            ],
            "type": "contour"
           }
          ],
          "contourcarpet": [
           {
            "colorbar": {
             "outlinewidth": 0,
             "ticks": ""
            },
            "type": "contourcarpet"
           }
          ],
          "heatmap": [
           {
            "colorbar": {
             "outlinewidth": 0,
             "ticks": ""
            },
            "colorscale": [
             [
              0,
              "#0d0887"
             ],
             [
              0.1111111111111111,
              "#46039f"
             ],
             [
              0.2222222222222222,
              "#7201a8"
             ],
             [
              0.3333333333333333,
              "#9c179e"
             ],
             [
              0.4444444444444444,
              "#bd3786"
             ],
             [
              0.5555555555555556,
              "#d8576b"
             ],
             [
              0.6666666666666666,
              "#ed7953"
             ],
             [
              0.7777777777777778,
              "#fb9f3a"
             ],
             [
              0.8888888888888888,
              "#fdca26"
             ],
             [
              1,
              "#f0f921"
             ]
            ],
            "type": "heatmap"
           }
          ],
          "heatmapgl": [
           {
            "colorbar": {
             "outlinewidth": 0,
             "ticks": ""
            },
            "colorscale": [
             [
              0,
              "#0d0887"
             ],
             [
              0.1111111111111111,
              "#46039f"
             ],
             [
              0.2222222222222222,
              "#7201a8"
             ],
             [
              0.3333333333333333,
              "#9c179e"
             ],
             [
              0.4444444444444444,
              "#bd3786"
             ],
             [
              0.5555555555555556,
              "#d8576b"
             ],
             [
              0.6666666666666666,
              "#ed7953"
             ],
             [
              0.7777777777777778,
              "#fb9f3a"
             ],
             [
              0.8888888888888888,
              "#fdca26"
             ],
             [
              1,
              "#f0f921"
             ]
            ],
            "type": "heatmapgl"
           }
          ],
          "histogram": [
           {
            "marker": {
             "colorbar": {
              "outlinewidth": 0,
              "ticks": ""
             }
            },
            "type": "histogram"
           }
          ],
          "histogram2d": [
           {
            "colorbar": {
             "outlinewidth": 0,
             "ticks": ""
            },
            "colorscale": [
             [
              0,
              "#0d0887"
             ],
             [
              0.1111111111111111,
              "#46039f"
             ],
             [
              0.2222222222222222,
              "#7201a8"
             ],
             [
              0.3333333333333333,
              "#9c179e"
             ],
             [
              0.4444444444444444,
              "#bd3786"
             ],
             [
              0.5555555555555556,
              "#d8576b"
             ],
             [
              0.6666666666666666,
              "#ed7953"
             ],
             [
              0.7777777777777778,
              "#fb9f3a"
             ],
             [
              0.8888888888888888,
              "#fdca26"
             ],
             [
              1,
              "#f0f921"
             ]
            ],
            "type": "histogram2d"
           }
          ],
          "histogram2dcontour": [
           {
            "colorbar": {
             "outlinewidth": 0,
             "ticks": ""
            },
            "colorscale": [
             [
              0,
              "#0d0887"
             ],
             [
              0.1111111111111111,
              "#46039f"
             ],
             [
              0.2222222222222222,
              "#7201a8"
             ],
             [
              0.3333333333333333,
              "#9c179e"
             ],
             [
              0.4444444444444444,
              "#bd3786"
             ],
             [
              0.5555555555555556,
              "#d8576b"
             ],
             [
              0.6666666666666666,
              "#ed7953"
             ],
             [
              0.7777777777777778,
              "#fb9f3a"
             ],
             [
              0.8888888888888888,
              "#fdca26"
             ],
             [
              1,
              "#f0f921"
             ]
            ],
            "type": "histogram2dcontour"
           }
          ],
          "mesh3d": [
           {
            "colorbar": {
             "outlinewidth": 0,
             "ticks": ""
            },
            "type": "mesh3d"
           }
          ],
          "parcoords": [
           {
            "line": {
             "colorbar": {
              "outlinewidth": 0,
              "ticks": ""
             }
            },
            "type": "parcoords"
           }
          ],
          "pie": [
           {
            "automargin": true,
            "type": "pie"
           }
          ],
          "scatter": [
           {
            "marker": {
             "colorbar": {
              "outlinewidth": 0,
              "ticks": ""
             }
            },
            "type": "scatter"
           }
          ],
          "scatter3d": [
           {
            "line": {
             "colorbar": {
              "outlinewidth": 0,
              "ticks": ""
             }
            },
            "marker": {
             "colorbar": {
              "outlinewidth": 0,
              "ticks": ""
             }
            },
            "type": "scatter3d"
           }
          ],
          "scattercarpet": [
           {
            "marker": {
             "colorbar": {
              "outlinewidth": 0,
              "ticks": ""
             }
            },
            "type": "scattercarpet"
           }
          ],
          "scattergeo": [
           {
            "marker": {
             "colorbar": {
              "outlinewidth": 0,
              "ticks": ""
             }
            },
            "type": "scattergeo"
           }
          ],
          "scattergl": [
           {
            "marker": {
             "colorbar": {
              "outlinewidth": 0,
              "ticks": ""
             }
            },
            "type": "scattergl"
           }
          ],
          "scattermapbox": [
           {
            "marker": {
             "colorbar": {
              "outlinewidth": 0,
              "ticks": ""
             }
            },
            "type": "scattermapbox"
           }
          ],
          "scatterpolar": [
           {
            "marker": {
             "colorbar": {
              "outlinewidth": 0,
              "ticks": ""
             }
            },
            "type": "scatterpolar"
           }
          ],
          "scatterpolargl": [
           {
            "marker": {
             "colorbar": {
              "outlinewidth": 0,
              "ticks": ""
             }
            },
            "type": "scatterpolargl"
           }
          ],
          "scatterternary": [
           {
            "marker": {
             "colorbar": {
              "outlinewidth": 0,
              "ticks": ""
             }
            },
            "type": "scatterternary"
           }
          ],
          "surface": [
           {
            "colorbar": {
             "outlinewidth": 0,
             "ticks": ""
            },
            "colorscale": [
             [
              0,
              "#0d0887"
             ],
             [
              0.1111111111111111,
              "#46039f"
             ],
             [
              0.2222222222222222,
              "#7201a8"
             ],
             [
              0.3333333333333333,
              "#9c179e"
             ],
             [
              0.4444444444444444,
              "#bd3786"
             ],
             [
              0.5555555555555556,
              "#d8576b"
             ],
             [
              0.6666666666666666,
              "#ed7953"
             ],
             [
              0.7777777777777778,
              "#fb9f3a"
             ],
             [
              0.8888888888888888,
              "#fdca26"
             ],
             [
              1,
              "#f0f921"
             ]
            ],
            "type": "surface"
           }
          ],
          "table": [
           {
            "cells": {
             "fill": {
              "color": "#EBF0F8"
             },
             "line": {
              "color": "white"
             }
            },
            "header": {
             "fill": {
              "color": "#C8D4E3"
             },
             "line": {
              "color": "white"
             }
            },
            "type": "table"
           }
          ]
         },
         "layout": {
          "annotationdefaults": {
           "arrowcolor": "#2a3f5f",
           "arrowhead": 0,
           "arrowwidth": 1
          },
          "coloraxis": {
           "colorbar": {
            "outlinewidth": 0,
            "ticks": ""
           }
          },
          "colorscale": {
           "diverging": [
            [
             0,
             "#8e0152"
            ],
            [
             0.1,
             "#c51b7d"
            ],
            [
             0.2,
             "#de77ae"
            ],
            [
             0.3,
             "#f1b6da"
            ],
            [
             0.4,
             "#fde0ef"
            ],
            [
             0.5,
             "#f7f7f7"
            ],
            [
             0.6,
             "#e6f5d0"
            ],
            [
             0.7,
             "#b8e186"
            ],
            [
             0.8,
             "#7fbc41"
            ],
            [
             0.9,
             "#4d9221"
            ],
            [
             1,
             "#276419"
            ]
           ],
           "sequential": [
            [
             0,
             "#0d0887"
            ],
            [
             0.1111111111111111,
             "#46039f"
            ],
            [
             0.2222222222222222,
             "#7201a8"
            ],
            [
             0.3333333333333333,
             "#9c179e"
            ],
            [
             0.4444444444444444,
             "#bd3786"
            ],
            [
             0.5555555555555556,
             "#d8576b"
            ],
            [
             0.6666666666666666,
             "#ed7953"
            ],
            [
             0.7777777777777778,
             "#fb9f3a"
            ],
            [
             0.8888888888888888,
             "#fdca26"
            ],
            [
             1,
             "#f0f921"
            ]
           ],
           "sequentialminus": [
            [
             0,
             "#0d0887"
            ],
            [
             0.1111111111111111,
             "#46039f"
            ],
            [
             0.2222222222222222,
             "#7201a8"
            ],
            [
             0.3333333333333333,
             "#9c179e"
            ],
            [
             0.4444444444444444,
             "#bd3786"
            ],
            [
             0.5555555555555556,
             "#d8576b"
            ],
            [
             0.6666666666666666,
             "#ed7953"
            ],
            [
             0.7777777777777778,
             "#fb9f3a"
            ],
            [
             0.8888888888888888,
             "#fdca26"
            ],
            [
             1,
             "#f0f921"
            ]
           ]
          },
          "colorway": [
           "#636efa",
           "#EF553B",
           "#00cc96",
           "#ab63fa",
           "#FFA15A",
           "#19d3f3",
           "#FF6692",
           "#B6E880",
           "#FF97FF",
           "#FECB52"
          ],
          "font": {
           "color": "#2a3f5f"
          },
          "geo": {
           "bgcolor": "white",
           "lakecolor": "white",
           "landcolor": "#E5ECF6",
           "showlakes": true,
           "showland": true,
           "subunitcolor": "white"
          },
          "hoverlabel": {
           "align": "left"
          },
          "hovermode": "closest",
          "mapbox": {
           "style": "light"
          },
          "paper_bgcolor": "white",
          "plot_bgcolor": "#E5ECF6",
          "polar": {
           "angularaxis": {
            "gridcolor": "white",
            "linecolor": "white",
            "ticks": ""
           },
           "bgcolor": "#E5ECF6",
           "radialaxis": {
            "gridcolor": "white",
            "linecolor": "white",
            "ticks": ""
           }
          },
          "scene": {
           "xaxis": {
            "backgroundcolor": "#E5ECF6",
            "gridcolor": "white",
            "gridwidth": 2,
            "linecolor": "white",
            "showbackground": true,
            "ticks": "",
            "zerolinecolor": "white"
           },
           "yaxis": {
            "backgroundcolor": "#E5ECF6",
            "gridcolor": "white",
            "gridwidth": 2,
            "linecolor": "white",
            "showbackground": true,
            "ticks": "",
            "zerolinecolor": "white"
           },
           "zaxis": {
            "backgroundcolor": "#E5ECF6",
            "gridcolor": "white",
            "gridwidth": 2,
            "linecolor": "white",
            "showbackground": true,
            "ticks": "",
            "zerolinecolor": "white"
           }
          },
          "shapedefaults": {
           "line": {
            "color": "#2a3f5f"
           }
          },
          "ternary": {
           "aaxis": {
            "gridcolor": "white",
            "linecolor": "white",
            "ticks": ""
           },
           "baxis": {
            "gridcolor": "white",
            "linecolor": "white",
            "ticks": ""
           },
           "bgcolor": "#E5ECF6",
           "caxis": {
            "gridcolor": "white",
            "linecolor": "white",
            "ticks": ""
           }
          },
          "title": {
           "x": 0.05
          },
          "xaxis": {
           "automargin": true,
           "gridcolor": "white",
           "linecolor": "white",
           "ticks": "",
           "title": {
            "standoff": 15
           },
           "zerolinecolor": "white",
           "zerolinewidth": 2
          },
          "yaxis": {
           "automargin": true,
           "gridcolor": "white",
           "linecolor": "white",
           "ticks": "",
           "title": {
            "standoff": 15
           },
           "zerolinecolor": "white",
           "zerolinewidth": 2
          }
         }
        },
        "title": {
         "text": "Frequency Histogram for 100 Models"
        },
        "xaxis": {
         "title": {
          "text": "MLH"
         }
        },
        "yaxis": {
         "title": {
          "text": "Frequency"
         }
        }
       }
      },
      "text/html": [
       "<div>                            <div id=\"b4b4c016-2239-434e-b7e9-3e41d2ef7037\" class=\"plotly-graph-div\" style=\"height:525px; width:100%;\"></div>            <script type=\"text/javascript\">                require([\"plotly\"], function(Plotly) {                    window.PLOTLYENV=window.PLOTLYENV || {};                                    if (document.getElementById(\"b4b4c016-2239-434e-b7e9-3e41d2ef7037\")) {                    Plotly.newPlot(                        \"b4b4c016-2239-434e-b7e9-3e41d2ef7037\",                        [{\"name\": \"MNIST\", \"type\": \"histogram\", \"x\": [0.9930388541067587, 0.9904509100520275, 0.9937198999959059, 0.9898467831533546, 0.9931019628937924, 0.9950434228784012, 0.9896595776626901, 0.9820743182454298, 0.9924851707328067, 0.9925537917351407, 0.9950429489556807, 0.9906633320220523, 0.9958549779735938, 0.9948507896826275, 0.9902989735155245, 0.9955176631328233, 0.9923425525277915, 0.9901389547030132, 0.9878533544500281, 0.9961889922317929, 0.9953709628291316, 0.9839586379704945, 0.9939528667011033, 0.9930380088308303, 0.9941893745943671, 0.9946922249364871, 0.9903306252573782, 0.9962281465585883, 0.9941462695930228, 0.9949736505767466, 0.9937573865901549, 0.9964044942699739, 0.9834352520976328, 0.990878350843126, 0.9937640668591625, 0.9902155910437509, 0.9799483425559694, 0.9950392313581593, 0.9845734786400884, 0.9870811257106148, 0.9905371403035588, 0.9819297663742653, 0.9934733021952217, 0.9851637231119419, 0.994092708463558, 0.9865085381111964, 0.9902740124621077, 0.9956503056011942, 0.986781484072645, 0.9914167625514817, 0.9945594956874309, 0.994940500116171, 0.9742675027516396, 0.9899477497967064, 0.9932768704414725, 0.9951151858403104, 0.9944324855817815, 0.9881825627798392, 0.99543235958593, 0.9893802258244138, 0.996684968451623, 0.9959131674555578, 0.9932499519147743, 0.9901769846682724, 0.9953730229163981, 0.9867979786953157, 0.9886645770187735, 0.9899667799367187, 0.9951151303665158, 0.9943793447232203, 0.991113931261648, 0.9900324226234332, 0.9926830798149504, 0.994322081209094, 0.9819144103049422, 0.9854597694869812, 0.9955391424680776, 0.9775580316259246, 0.9870923933910168, 0.9921885953799595, 0.9919253752440745, 0.995377391291835, 0.9951574257981675, 0.9930634613716436, 0.9853308449025653, 0.9855313850696924, 0.993248341929216, 0.9910082549960667, 0.9944875423982785, 0.9958955546492655, 0.9961221390715871, 0.9868606887262172, 0.9919975809704643, 0.992924981646665, 0.9962868683734669, 0.9965433851039619, 0.9901653670244353, 0.9938958687811431, 0.9951382878104555, 0.996285424234793]}, {\"name\": \"CIFAR\", \"type\": \"histogram\", \"x\": [0.9975371456023795, 0.9961144901875122, 0.9974448223148282, 0.9969573151383128, 0.9986611994779271, 0.9968670315610796, 0.9977483552149261, 0.9983599622420561, 0.9958880964331704, 0.9962331688846792, 0.9974208336921303, 0.9978399371474969, 0.9984890980907972, 0.9961175817065787, 0.9935463928331205, 0.9965107148249116, 0.9983464511917479, 0.9977519665427717, 0.994495821083962, 0.9969433872853057, 0.996187349942435, 0.9972813660848677, 0.996147930819034, 0.9916777161388906, 0.9956022100448569, 0.9985944975744673, 0.9937192563820378, 0.9975965464624797, 0.9956699899848818, 0.9980874041795, 0.9969636978587167, 0.9967153166304172, 0.9953067939328034, 0.9960555406014965, 0.9988069425903128, 0.9980112155837874, 0.9964872301101106, 0.998060065085908, 0.9928298762550644, 0.9972305111075123, 0.9938656594517564, 0.9962095558659698, 0.9987236391407032, 0.9950008307063363, 0.9964143397776658, 0.9939060837649798, 0.9965891584403378, 0.9972413559982138, 0.9937610249989574, 0.9944767001349532, 0.9963929570713886, 0.9965195950772491, 0.995504551545516, 0.9983197185299034, 0.9961171322248621, 0.9963873057439373, 0.9961943605961449, 0.997524008144277, 0.9961911361041325, 0.9970019742741981, 0.9925003781783748, 0.9968072036563739, 0.9878116614661481, 0.9973510138280741, 0.9926014915413401, 0.9974307193967294, 0.9987208731767704, 0.9934545842013531, 0.9978125689947187, 0.9962749020507721, 0.9978044157189323, 0.9955469846852549, 0.9962333962779628, 0.9961566223366372, 0.9981941875082796, 0.9984854532574687, 0.9978275132846883, 0.9963276881756066, 0.9967963533297789, 0.9965161269691407, 0.995847032148797, 0.9973699777707489, 0.9977264947350241, 0.9976788672554884, 0.995338972444846, 0.994442008530031, 0.9961911838024371, 0.9958291659912571, 0.9973184723991427, 0.9975491624261013, 0.9978944636156163, 0.9973149603964885, 0.9975040530793917, 0.9938446594941124, 0.9933531108286611, 0.9980055815617309, 0.996562809270915, 0.9953473386508045, 0.997247437364314, 0.9982894496170159]}, {\"name\": \"FashionMNIST\", \"type\": \"histogram\", \"x\": [0.9942273338969443, 0.9915960458298492, 0.9950388130576221, 0.9859474496554687, 0.9943120188242767, 0.9901090089256862, 0.9906928592674018, 0.9896810384948806, 0.9947219896857125, 0.9933825934502896, 0.9935429913088919, 0.990327335224185, 0.9945173506882661, 0.9941337058695168, 0.9936966805287804, 0.991298891501104, 0.992398842286535, 0.9945559204616456, 0.9935494310459088, 0.9930025579794923, 0.9929278840322969, 0.9944501908558105, 0.9928141119928844, 0.9934279941860245, 0.9894023407726662, 0.9936201582412385, 0.9931379993894227, 0.9950521570396961, 0.993429364904149, 0.992615295376324, 0.9934331490100501, 0.9917943735185275, 0.9939208080374548, 0.9945905221787974, 0.9931273347847315, 0.9914308934680621, 0.9930524547074361, 0.9908119163152556, 0.993823277045431, 0.9886754866000363, 0.9946116597409456, 0.9941998845041092, 0.9872296885471958, 0.9933625170525251, 0.9930431071164766, 0.990189932171747, 0.9945091230493434, 0.9944702146008498, 0.9911303424177116, 0.9941804645289526, 0.987427058348425, 0.9845464648363388, 0.9929986496927332, 0.9946054551037914, 0.9932042473129424, 0.9926041935892225, 0.9903448250688097, 0.9929013753259873, 0.9941257793401429, 0.9935038032107247, 0.993884193009844, 0.9942882356071898, 0.9912167353040593, 0.9951848442482991, 0.9942562918884166, 0.9932097033184815, 0.9897377721311127, 0.9937891522393657, 0.9938749080968899, 0.9906155720332606, 0.9870467632458603, 0.9949325970791983, 0.9899786614008578, 0.9938594739372557, 0.995388691655414, 0.9938755560650415, 0.9938111787559708, 0.9938207927580879, 0.9943140936588132, 0.9927122154973895, 0.9894922116229496, 0.9942796113970893, 0.9944880663530027, 0.9916764855960322, 0.9885181048842253, 0.9937794985578634, 0.989867860199579, 0.9921431497446646, 0.9945132009426605, 0.9942655000433478, 0.9892045107947034, 0.990250743436528, 0.9934816001680773, 0.99364366795615, 0.9932247711964628, 0.9899660494267508, 0.9937679439353047, 0.9885299987740748, 0.9935679320070506, 0.9916943276939787]}],                        {\"template\": {\"data\": {\"bar\": [{\"error_x\": {\"color\": \"#2a3f5f\"}, \"error_y\": {\"color\": \"#2a3f5f\"}, \"marker\": {\"line\": {\"color\": \"#E5ECF6\", \"width\": 0.5}}, \"type\": \"bar\"}], \"barpolar\": [{\"marker\": {\"line\": {\"color\": \"#E5ECF6\", \"width\": 0.5}}, \"type\": \"barpolar\"}], \"carpet\": [{\"aaxis\": {\"endlinecolor\": \"#2a3f5f\", \"gridcolor\": \"white\", \"linecolor\": \"white\", \"minorgridcolor\": \"white\", \"startlinecolor\": \"#2a3f5f\"}, \"baxis\": {\"endlinecolor\": \"#2a3f5f\", \"gridcolor\": \"white\", \"linecolor\": \"white\", \"minorgridcolor\": \"white\", \"startlinecolor\": \"#2a3f5f\"}, \"type\": \"carpet\"}], \"choropleth\": [{\"colorbar\": {\"outlinewidth\": 0, \"ticks\": \"\"}, \"type\": \"choropleth\"}], \"contour\": [{\"colorbar\": {\"outlinewidth\": 0, \"ticks\": \"\"}, \"colorscale\": [[0.0, \"#0d0887\"], [0.1111111111111111, \"#46039f\"], [0.2222222222222222, \"#7201a8\"], [0.3333333333333333, \"#9c179e\"], [0.4444444444444444, \"#bd3786\"], [0.5555555555555556, \"#d8576b\"], [0.6666666666666666, \"#ed7953\"], [0.7777777777777778, \"#fb9f3a\"], [0.8888888888888888, \"#fdca26\"], [1.0, \"#f0f921\"]], \"type\": \"contour\"}], \"contourcarpet\": [{\"colorbar\": {\"outlinewidth\": 0, \"ticks\": \"\"}, \"type\": \"contourcarpet\"}], \"heatmap\": [{\"colorbar\": {\"outlinewidth\": 0, \"ticks\": \"\"}, \"colorscale\": [[0.0, \"#0d0887\"], [0.1111111111111111, \"#46039f\"], [0.2222222222222222, \"#7201a8\"], [0.3333333333333333, \"#9c179e\"], [0.4444444444444444, \"#bd3786\"], [0.5555555555555556, \"#d8576b\"], [0.6666666666666666, \"#ed7953\"], [0.7777777777777778, \"#fb9f3a\"], [0.8888888888888888, \"#fdca26\"], [1.0, \"#f0f921\"]], \"type\": \"heatmap\"}], \"heatmapgl\": [{\"colorbar\": {\"outlinewidth\": 0, \"ticks\": \"\"}, \"colorscale\": [[0.0, \"#0d0887\"], [0.1111111111111111, \"#46039f\"], [0.2222222222222222, \"#7201a8\"], [0.3333333333333333, \"#9c179e\"], [0.4444444444444444, \"#bd3786\"], [0.5555555555555556, \"#d8576b\"], [0.6666666666666666, \"#ed7953\"], [0.7777777777777778, \"#fb9f3a\"], [0.8888888888888888, \"#fdca26\"], [1.0, \"#f0f921\"]], \"type\": \"heatmapgl\"}], \"histogram\": [{\"marker\": {\"colorbar\": {\"outlinewidth\": 0, \"ticks\": \"\"}}, \"type\": \"histogram\"}], \"histogram2d\": [{\"colorbar\": {\"outlinewidth\": 0, \"ticks\": \"\"}, \"colorscale\": [[0.0, \"#0d0887\"], [0.1111111111111111, \"#46039f\"], [0.2222222222222222, \"#7201a8\"], [0.3333333333333333, \"#9c179e\"], [0.4444444444444444, \"#bd3786\"], [0.5555555555555556, \"#d8576b\"], [0.6666666666666666, \"#ed7953\"], [0.7777777777777778, \"#fb9f3a\"], [0.8888888888888888, \"#fdca26\"], [1.0, \"#f0f921\"]], \"type\": \"histogram2d\"}], \"histogram2dcontour\": [{\"colorbar\": {\"outlinewidth\": 0, \"ticks\": \"\"}, \"colorscale\": [[0.0, \"#0d0887\"], [0.1111111111111111, \"#46039f\"], [0.2222222222222222, \"#7201a8\"], [0.3333333333333333, \"#9c179e\"], [0.4444444444444444, \"#bd3786\"], [0.5555555555555556, \"#d8576b\"], [0.6666666666666666, \"#ed7953\"], [0.7777777777777778, \"#fb9f3a\"], [0.8888888888888888, \"#fdca26\"], [1.0, \"#f0f921\"]], \"type\": \"histogram2dcontour\"}], \"mesh3d\": [{\"colorbar\": {\"outlinewidth\": 0, \"ticks\": \"\"}, \"type\": \"mesh3d\"}], \"parcoords\": [{\"line\": {\"colorbar\": {\"outlinewidth\": 0, \"ticks\": \"\"}}, \"type\": \"parcoords\"}], \"pie\": [{\"automargin\": true, \"type\": \"pie\"}], \"scatter\": [{\"marker\": {\"colorbar\": {\"outlinewidth\": 0, \"ticks\": \"\"}}, \"type\": \"scatter\"}], \"scatter3d\": [{\"line\": {\"colorbar\": {\"outlinewidth\": 0, \"ticks\": \"\"}}, \"marker\": {\"colorbar\": {\"outlinewidth\": 0, \"ticks\": \"\"}}, \"type\": \"scatter3d\"}], \"scattercarpet\": [{\"marker\": {\"colorbar\": {\"outlinewidth\": 0, \"ticks\": \"\"}}, \"type\": \"scattercarpet\"}], \"scattergeo\": [{\"marker\": {\"colorbar\": {\"outlinewidth\": 0, \"ticks\": \"\"}}, \"type\": \"scattergeo\"}], \"scattergl\": [{\"marker\": {\"colorbar\": {\"outlinewidth\": 0, \"ticks\": \"\"}}, \"type\": \"scattergl\"}], \"scattermapbox\": [{\"marker\": {\"colorbar\": {\"outlinewidth\": 0, \"ticks\": \"\"}}, \"type\": \"scattermapbox\"}], \"scatterpolar\": [{\"marker\": {\"colorbar\": {\"outlinewidth\": 0, \"ticks\": \"\"}}, \"type\": \"scatterpolar\"}], \"scatterpolargl\": [{\"marker\": {\"colorbar\": {\"outlinewidth\": 0, \"ticks\": \"\"}}, \"type\": \"scatterpolargl\"}], \"scatterternary\": [{\"marker\": {\"colorbar\": {\"outlinewidth\": 0, \"ticks\": \"\"}}, \"type\": \"scatterternary\"}], \"surface\": [{\"colorbar\": {\"outlinewidth\": 0, \"ticks\": \"\"}, \"colorscale\": [[0.0, \"#0d0887\"], [0.1111111111111111, \"#46039f\"], [0.2222222222222222, \"#7201a8\"], [0.3333333333333333, \"#9c179e\"], [0.4444444444444444, \"#bd3786\"], [0.5555555555555556, \"#d8576b\"], [0.6666666666666666, \"#ed7953\"], [0.7777777777777778, \"#fb9f3a\"], [0.8888888888888888, \"#fdca26\"], [1.0, \"#f0f921\"]], \"type\": \"surface\"}], \"table\": [{\"cells\": {\"fill\": {\"color\": \"#EBF0F8\"}, \"line\": {\"color\": \"white\"}}, \"header\": {\"fill\": {\"color\": \"#C8D4E3\"}, \"line\": {\"color\": \"white\"}}, \"type\": \"table\"}]}, \"layout\": {\"annotationdefaults\": {\"arrowcolor\": \"#2a3f5f\", \"arrowhead\": 0, \"arrowwidth\": 1}, \"coloraxis\": {\"colorbar\": {\"outlinewidth\": 0, \"ticks\": \"\"}}, \"colorscale\": {\"diverging\": [[0, \"#8e0152\"], [0.1, \"#c51b7d\"], [0.2, \"#de77ae\"], [0.3, \"#f1b6da\"], [0.4, \"#fde0ef\"], [0.5, \"#f7f7f7\"], [0.6, \"#e6f5d0\"], [0.7, \"#b8e186\"], [0.8, \"#7fbc41\"], [0.9, \"#4d9221\"], [1, \"#276419\"]], \"sequential\": [[0.0, \"#0d0887\"], [0.1111111111111111, \"#46039f\"], [0.2222222222222222, \"#7201a8\"], [0.3333333333333333, \"#9c179e\"], [0.4444444444444444, \"#bd3786\"], [0.5555555555555556, \"#d8576b\"], [0.6666666666666666, \"#ed7953\"], [0.7777777777777778, \"#fb9f3a\"], [0.8888888888888888, \"#fdca26\"], [1.0, \"#f0f921\"]], \"sequentialminus\": [[0.0, \"#0d0887\"], [0.1111111111111111, \"#46039f\"], [0.2222222222222222, \"#7201a8\"], [0.3333333333333333, \"#9c179e\"], [0.4444444444444444, \"#bd3786\"], [0.5555555555555556, \"#d8576b\"], [0.6666666666666666, \"#ed7953\"], [0.7777777777777778, \"#fb9f3a\"], [0.8888888888888888, \"#fdca26\"], [1.0, \"#f0f921\"]]}, \"colorway\": [\"#636efa\", \"#EF553B\", \"#00cc96\", \"#ab63fa\", \"#FFA15A\", \"#19d3f3\", \"#FF6692\", \"#B6E880\", \"#FF97FF\", \"#FECB52\"], \"font\": {\"color\": \"#2a3f5f\"}, \"geo\": {\"bgcolor\": \"white\", \"lakecolor\": \"white\", \"landcolor\": \"#E5ECF6\", \"showlakes\": true, \"showland\": true, \"subunitcolor\": \"white\"}, \"hoverlabel\": {\"align\": \"left\"}, \"hovermode\": \"closest\", \"mapbox\": {\"style\": \"light\"}, \"paper_bgcolor\": \"white\", \"plot_bgcolor\": \"#E5ECF6\", \"polar\": {\"angularaxis\": {\"gridcolor\": \"white\", \"linecolor\": \"white\", \"ticks\": \"\"}, \"bgcolor\": \"#E5ECF6\", \"radialaxis\": {\"gridcolor\": \"white\", \"linecolor\": \"white\", \"ticks\": \"\"}}, \"scene\": {\"xaxis\": {\"backgroundcolor\": \"#E5ECF6\", \"gridcolor\": \"white\", \"gridwidth\": 2, \"linecolor\": \"white\", \"showbackground\": true, \"ticks\": \"\", \"zerolinecolor\": \"white\"}, \"yaxis\": {\"backgroundcolor\": \"#E5ECF6\", \"gridcolor\": \"white\", \"gridwidth\": 2, \"linecolor\": \"white\", \"showbackground\": true, \"ticks\": \"\", \"zerolinecolor\": \"white\"}, \"zaxis\": {\"backgroundcolor\": \"#E5ECF6\", \"gridcolor\": \"white\", \"gridwidth\": 2, \"linecolor\": \"white\", \"showbackground\": true, \"ticks\": \"\", \"zerolinecolor\": \"white\"}}, \"shapedefaults\": {\"line\": {\"color\": \"#2a3f5f\"}}, \"ternary\": {\"aaxis\": {\"gridcolor\": \"white\", \"linecolor\": \"white\", \"ticks\": \"\"}, \"baxis\": {\"gridcolor\": \"white\", \"linecolor\": \"white\", \"ticks\": \"\"}, \"bgcolor\": \"#E5ECF6\", \"caxis\": {\"gridcolor\": \"white\", \"linecolor\": \"white\", \"ticks\": \"\"}}, \"title\": {\"x\": 0.05}, \"xaxis\": {\"automargin\": true, \"gridcolor\": \"white\", \"linecolor\": \"white\", \"ticks\": \"\", \"title\": {\"standoff\": 15}, \"zerolinecolor\": \"white\", \"zerolinewidth\": 2}, \"yaxis\": {\"automargin\": true, \"gridcolor\": \"white\", \"linecolor\": \"white\", \"ticks\": \"\", \"title\": {\"standoff\": 15}, \"zerolinecolor\": \"white\", \"zerolinewidth\": 2}}}, \"title\": {\"text\": \"Frequency Histogram for 100 Models\"}, \"xaxis\": {\"title\": {\"text\": \"MLH\"}}, \"yaxis\": {\"title\": {\"text\": \"Frequency\"}}},                        {\"responsive\": true}                    ).then(function(){\n",
       "                            \n",
       "var gd = document.getElementById('b4b4c016-2239-434e-b7e9-3e41d2ef7037');\n",
       "var x = new MutationObserver(function (mutations, observer) {{\n",
       "        var display = window.getComputedStyle(gd).display;\n",
       "        if (!display || display === 'none') {{\n",
       "            console.log([gd, 'removed!']);\n",
       "            Plotly.purge(gd);\n",
       "            observer.disconnect();\n",
       "        }}\n",
       "}});\n",
       "\n",
       "// Listen for the removal of the full notebook cells\n",
       "var notebookContainer = gd.closest('#notebook-container');\n",
       "if (notebookContainer) {{\n",
       "    x.observe(notebookContainer, {childList: true});\n",
       "}}\n",
       "\n",
       "// Listen for the clearing of the current output cell\n",
       "var outputEl = gd.closest('.output');\n",
       "if (outputEl) {{\n",
       "    x.observe(outputEl, {childList: true});\n",
       "}}\n",
       "\n",
       "                        })                };                });            </script>        </div>"
      ]
     },
     "metadata": {},
     "output_type": "display_data"
    }
   ],
   "source": [
    "temp = df_exp1.loc[df_exp1.dataset == 'fashion']\n",
    "print(temp[[\"initial_r2\", \"test_acc\"]].corr())\n",
    "# px.scatter(temp, x=\"initial_r2\", y=\"test_acc\", color=\"dataset\",\n",
    "#                  size='training_steps')\n",
    "# px.histogram(temp, x='final_r2')\n",
    "\n",
    "fig1.add_trace(go.Histogram(x=temp.final_r2, name='FashionMNIST'))\n",
    "fig1.update_layout(xaxis={'title': \"MLH\"}, yaxis={'title': \"Frequency\"}, title=\"Frequency Histogram for 100 Models\")\n",
    "fig1.show()"
   ]
  },
  {
   "cell_type": "code",
   "execution_count": 30,
   "metadata": {},
   "outputs": [
    {
     "data": {
      "application/vnd.plotly.v1+json": {
       "config": {
        "plotlyServerURL": "https://plot.ly"
       },
       "data": [
        {
         "hovertemplate": "dataset=caltech256<br>initial_r2=%{x}<br>test_acc=%{y}<br>training_steps=%{marker.size}<extra></extra>",
         "legendgroup": "caltech256",
         "marker": {
          "color": "#636efa",
          "size": [
           2291,
           2578,
           2390,
           2677,
           2677,
           2964,
           2390,
           2390,
           2578,
           2291,
           2964,
           2964,
           2677,
           2578,
           2677,
           2578,
           2390,
           2484,
           2578,
           2390,
           2291,
           2771,
           2484,
           2578,
           2677,
           2578,
           2677,
           2677,
           2771,
           2677,
           2390,
           2865,
           2390,
           2578,
           2677,
           2578,
           2677,
           2677,
           2865,
           2677,
           2578,
           2677,
           2578,
           2964,
           2964,
           2677,
           2578,
           2677,
           2578,
           2578,
           2578,
           2677,
           2677,
           2484,
           2578,
           2677,
           2677,
           2578,
           2390,
           2964,
           2677,
           2578,
           2771,
           2390,
           2964,
           2865,
           2390,
           2964,
           2677,
           2390,
           2578,
           2390,
           2390,
           2677,
           2771,
           2390,
           2390,
           2677,
           2964,
           2677,
           2578,
           2578,
           2677,
           2865
          ],
          "sizemode": "area",
          "sizeref": 7.41,
          "symbol": "circle"
         },
         "mode": "markers",
         "name": "caltech256",
         "orientation": "v",
         "showlegend": true,
         "type": "scatter",
         "x": [
          0.986926351760302,
          0.9869459866485062,
          0.9869914622233652,
          0.9869941329679714,
          0.987041194001248,
          0.9868601220148456,
          0.9869255433338653,
          0.9869563016685665,
          0.9869568652871399,
          0.9867237046430293,
          0.9868492664221968,
          0.987022085546372,
          0.9871493225057089,
          0.9870097151801969,
          0.9868754771486491,
          0.9869914182556585,
          0.9870066021148041,
          0.9871084614742051,
          0.987062735033818,
          0.9870110003640298,
          0.9869770987385675,
          0.9870023042361511,
          0.9869729273617476,
          0.9869937910395835,
          0.9870047054016987,
          0.987059623282545,
          0.9869757635265234,
          0.9871069654127663,
          0.9871309937722569,
          0.9870735128961142,
          0.9869861810652589,
          0.9869778766856996,
          0.986897651934497,
          0.987116506242774,
          0.9868845169610205,
          0.9868946536552524,
          0.9869302990671597,
          0.9869830719707331,
          0.9867956853096824,
          0.9869670471329797,
          0.986986371545995,
          0.9870196823342083,
          0.9870307987684033,
          0.9868920845169797,
          0.9869783814308599,
          0.9868287146663892,
          0.9869625540890918,
          0.9869056763850138,
          0.9870284415214792,
          0.986879710156996,
          0.9870602433767333,
          0.9869505204644613,
          0.9869120831364916,
          0.9869354732986647,
          0.9868630928805044,
          0.9870856225514606,
          0.9868765611543364,
          0.9870465014657005,
          0.9870864511592086,
          0.9869339966425241,
          0.9869465826482999,
          0.9870775734803774,
          0.9868515528868936,
          0.9869479369372597,
          0.9870633310427883,
          0.9869656106716336,
          0.9870945652234807,
          0.986905243486562,
          0.9869347700213441,
          0.9869342853985682,
          0.9869363879552464,
          0.9868938727982212,
          0.9870622052483632,
          0.9869884980345099,
          0.9870957146586864,
          0.9870629852035121,
          0.9868390343160214,
          0.9869428188678456,
          0.9870052028327438,
          0.9868647618776871,
          0.9870963524303407,
          0.9869844174939196,
          0.9869685026587778,
          0.9870751369896913
         ],
         "xaxis": "x",
         "y": [
          0.21079799107142858,
          0.1984281994047619,
          0.2233305431547619,
          0.20764353918650794,
          0.18897259424603174,
          0.23628937251984128,
          0.2352973090277778,
          0.22366381448412698,
          0.22245473710317462,
          0.21535528273809523,
          0.22934492807539683,
          0.22643849206349206,
          0.2219432043650794,
          0.18060205853174605,
          0.2154482886904762,
          0.19387090773809523,
          0.19802517361111113,
          0.1945994543650794,
          0.20039682539682538,
          0.2099066840277778,
          0.20437282986111113,
          0.21919952876984128,
          0.1959015376984127,
          0.22178819444444445,
          0.24026537698412698,
          0.22480313740079363,
          0.23579334077380953,
          0.23384796626984128,
          0.21463448660714288,
          0.2118598090277778,
          0.2196568080357143,
          0.22057136656746032,
          0.21796719990079363,
          0.19102647569444445,
          0.21659536210317462,
          0.19077845982142858,
          0.2286318824404762,
          0.20886036706349206,
          0.20601593501984128,
          0.21854073660714288,
          0.21626984126984128,
          0.21805245535714288,
          0.21682787698412698,
          0.22651599702380953,
          0.17955574156746032,
          0.23326667906746032,
          0.20381479414682538,
          0.21992032490079363,
          0.22554718501984128,
          0.21162729414682538,
          0.2064887152777778,
          0.19338262648809523,
          0.22048611111111113,
          0.19688585069444445,
          0.21943204365079363,
          0.21748666914682538,
          0.2135649181547619,
          0.21487475198412698,
          0.2151072668650794,
          0.24190073164682538,
          0.2234080481150794,
          0.18680245535714288,
          0.19339037698412698,
          0.2095889136904762,
          0.22880239335317462,
          0.21342540922619047,
          0.20550440228174605,
          0.22383432539682538,
          0.23416573660714288,
          0.2249813988095238,
          0.21804470486111113,
          0.21177455357142858,
          0.20429532490079363,
          0.21616908482142858,
          0.21292162698412698,
          0.21804470486111113,
          0.22993396577380953,
          0.23660714285714288,
          0.19932725694444445,
          0.23270089285714288,
          0.2123480902777778,
          0.1891508556547619,
          0.21755642361111113,
          0.19053819444444445
         ],
         "yaxis": "y"
        }
       ],
       "layout": {
        "legend": {
         "itemsizing": "constant",
         "title": {
          "text": "dataset"
         },
         "tracegroupgap": 0
        },
        "margin": {
         "t": 60
        },
        "template": {
         "data": {
          "bar": [
           {
            "error_x": {
             "color": "#2a3f5f"
            },
            "error_y": {
             "color": "#2a3f5f"
            },
            "marker": {
             "line": {
              "color": "#E5ECF6",
              "width": 0.5
             }
            },
            "type": "bar"
           }
          ],
          "barpolar": [
           {
            "marker": {
             "line": {
              "color": "#E5ECF6",
              "width": 0.5
             }
            },
            "type": "barpolar"
           }
          ],
          "carpet": [
           {
            "aaxis": {
             "endlinecolor": "#2a3f5f",
             "gridcolor": "white",
             "linecolor": "white",
             "minorgridcolor": "white",
             "startlinecolor": "#2a3f5f"
            },
            "baxis": {
             "endlinecolor": "#2a3f5f",
             "gridcolor": "white",
             "linecolor": "white",
             "minorgridcolor": "white",
             "startlinecolor": "#2a3f5f"
            },
            "type": "carpet"
           }
          ],
          "choropleth": [
           {
            "colorbar": {
             "outlinewidth": 0,
             "ticks": ""
            },
            "type": "choropleth"
           }
          ],
          "contour": [
           {
            "colorbar": {
             "outlinewidth": 0,
             "ticks": ""
            },
            "colorscale": [
             [
              0,
              "#0d0887"
             ],
             [
              0.1111111111111111,
              "#46039f"
             ],
             [
              0.2222222222222222,
              "#7201a8"
             ],
             [
              0.3333333333333333,
              "#9c179e"
             ],
             [
              0.4444444444444444,
              "#bd3786"
             ],
             [
              0.5555555555555556,
              "#d8576b"
             ],
             [
              0.6666666666666666,
              "#ed7953"
             ],
             [
              0.7777777777777778,
              "#fb9f3a"
             ],
             [
              0.8888888888888888,
              "#fdca26"
             ],
             [
              1,
              "#f0f921"
             ]
            ],
            "type": "contour"
           }
          ],
          "contourcarpet": [
           {
            "colorbar": {
             "outlinewidth": 0,
             "ticks": ""
            },
            "type": "contourcarpet"
           }
          ],
          "heatmap": [
           {
            "colorbar": {
             "outlinewidth": 0,
             "ticks": ""
            },
            "colorscale": [
             [
              0,
              "#0d0887"
             ],
             [
              0.1111111111111111,
              "#46039f"
             ],
             [
              0.2222222222222222,
              "#7201a8"
             ],
             [
              0.3333333333333333,
              "#9c179e"
             ],
             [
              0.4444444444444444,
              "#bd3786"
             ],
             [
              0.5555555555555556,
              "#d8576b"
             ],
             [
              0.6666666666666666,
              "#ed7953"
             ],
             [
              0.7777777777777778,
              "#fb9f3a"
             ],
             [
              0.8888888888888888,
              "#fdca26"
             ],
             [
              1,
              "#f0f921"
             ]
            ],
            "type": "heatmap"
           }
          ],
          "heatmapgl": [
           {
            "colorbar": {
             "outlinewidth": 0,
             "ticks": ""
            },
            "colorscale": [
             [
              0,
              "#0d0887"
             ],
             [
              0.1111111111111111,
              "#46039f"
             ],
             [
              0.2222222222222222,
              "#7201a8"
             ],
             [
              0.3333333333333333,
              "#9c179e"
             ],
             [
              0.4444444444444444,
              "#bd3786"
             ],
             [
              0.5555555555555556,
              "#d8576b"
             ],
             [
              0.6666666666666666,
              "#ed7953"
             ],
             [
              0.7777777777777778,
              "#fb9f3a"
             ],
             [
              0.8888888888888888,
              "#fdca26"
             ],
             [
              1,
              "#f0f921"
             ]
            ],
            "type": "heatmapgl"
           }
          ],
          "histogram": [
           {
            "marker": {
             "colorbar": {
              "outlinewidth": 0,
              "ticks": ""
             }
            },
            "type": "histogram"
           }
          ],
          "histogram2d": [
           {
            "colorbar": {
             "outlinewidth": 0,
             "ticks": ""
            },
            "colorscale": [
             [
              0,
              "#0d0887"
             ],
             [
              0.1111111111111111,
              "#46039f"
             ],
             [
              0.2222222222222222,
              "#7201a8"
             ],
             [
              0.3333333333333333,
              "#9c179e"
             ],
             [
              0.4444444444444444,
              "#bd3786"
             ],
             [
              0.5555555555555556,
              "#d8576b"
             ],
             [
              0.6666666666666666,
              "#ed7953"
             ],
             [
              0.7777777777777778,
              "#fb9f3a"
             ],
             [
              0.8888888888888888,
              "#fdca26"
             ],
             [
              1,
              "#f0f921"
             ]
            ],
            "type": "histogram2d"
           }
          ],
          "histogram2dcontour": [
           {
            "colorbar": {
             "outlinewidth": 0,
             "ticks": ""
            },
            "colorscale": [
             [
              0,
              "#0d0887"
             ],
             [
              0.1111111111111111,
              "#46039f"
             ],
             [
              0.2222222222222222,
              "#7201a8"
             ],
             [
              0.3333333333333333,
              "#9c179e"
             ],
             [
              0.4444444444444444,
              "#bd3786"
             ],
             [
              0.5555555555555556,
              "#d8576b"
             ],
             [
              0.6666666666666666,
              "#ed7953"
             ],
             [
              0.7777777777777778,
              "#fb9f3a"
             ],
             [
              0.8888888888888888,
              "#fdca26"
             ],
             [
              1,
              "#f0f921"
             ]
            ],
            "type": "histogram2dcontour"
           }
          ],
          "mesh3d": [
           {
            "colorbar": {
             "outlinewidth": 0,
             "ticks": ""
            },
            "type": "mesh3d"
           }
          ],
          "parcoords": [
           {
            "line": {
             "colorbar": {
              "outlinewidth": 0,
              "ticks": ""
             }
            },
            "type": "parcoords"
           }
          ],
          "pie": [
           {
            "automargin": true,
            "type": "pie"
           }
          ],
          "scatter": [
           {
            "marker": {
             "colorbar": {
              "outlinewidth": 0,
              "ticks": ""
             }
            },
            "type": "scatter"
           }
          ],
          "scatter3d": [
           {
            "line": {
             "colorbar": {
              "outlinewidth": 0,
              "ticks": ""
             }
            },
            "marker": {
             "colorbar": {
              "outlinewidth": 0,
              "ticks": ""
             }
            },
            "type": "scatter3d"
           }
          ],
          "scattercarpet": [
           {
            "marker": {
             "colorbar": {
              "outlinewidth": 0,
              "ticks": ""
             }
            },
            "type": "scattercarpet"
           }
          ],
          "scattergeo": [
           {
            "marker": {
             "colorbar": {
              "outlinewidth": 0,
              "ticks": ""
             }
            },
            "type": "scattergeo"
           }
          ],
          "scattergl": [
           {
            "marker": {
             "colorbar": {
              "outlinewidth": 0,
              "ticks": ""
             }
            },
            "type": "scattergl"
           }
          ],
          "scattermapbox": [
           {
            "marker": {
             "colorbar": {
              "outlinewidth": 0,
              "ticks": ""
             }
            },
            "type": "scattermapbox"
           }
          ],
          "scatterpolar": [
           {
            "marker": {
             "colorbar": {
              "outlinewidth": 0,
              "ticks": ""
             }
            },
            "type": "scatterpolar"
           }
          ],
          "scatterpolargl": [
           {
            "marker": {
             "colorbar": {
              "outlinewidth": 0,
              "ticks": ""
             }
            },
            "type": "scatterpolargl"
           }
          ],
          "scatterternary": [
           {
            "marker": {
             "colorbar": {
              "outlinewidth": 0,
              "ticks": ""
             }
            },
            "type": "scatterternary"
           }
          ],
          "surface": [
           {
            "colorbar": {
             "outlinewidth": 0,
             "ticks": ""
            },
            "colorscale": [
             [
              0,
              "#0d0887"
             ],
             [
              0.1111111111111111,
              "#46039f"
             ],
             [
              0.2222222222222222,
              "#7201a8"
             ],
             [
              0.3333333333333333,
              "#9c179e"
             ],
             [
              0.4444444444444444,
              "#bd3786"
             ],
             [
              0.5555555555555556,
              "#d8576b"
             ],
             [
              0.6666666666666666,
              "#ed7953"
             ],
             [
              0.7777777777777778,
              "#fb9f3a"
             ],
             [
              0.8888888888888888,
              "#fdca26"
             ],
             [
              1,
              "#f0f921"
             ]
            ],
            "type": "surface"
           }
          ],
          "table": [
           {
            "cells": {
             "fill": {
              "color": "#EBF0F8"
             },
             "line": {
              "color": "white"
             }
            },
            "header": {
             "fill": {
              "color": "#C8D4E3"
             },
             "line": {
              "color": "white"
             }
            },
            "type": "table"
           }
          ]
         },
         "layout": {
          "annotationdefaults": {
           "arrowcolor": "#2a3f5f",
           "arrowhead": 0,
           "arrowwidth": 1
          },
          "coloraxis": {
           "colorbar": {
            "outlinewidth": 0,
            "ticks": ""
           }
          },
          "colorscale": {
           "diverging": [
            [
             0,
             "#8e0152"
            ],
            [
             0.1,
             "#c51b7d"
            ],
            [
             0.2,
             "#de77ae"
            ],
            [
             0.3,
             "#f1b6da"
            ],
            [
             0.4,
             "#fde0ef"
            ],
            [
             0.5,
             "#f7f7f7"
            ],
            [
             0.6,
             "#e6f5d0"
            ],
            [
             0.7,
             "#b8e186"
            ],
            [
             0.8,
             "#7fbc41"
            ],
            [
             0.9,
             "#4d9221"
            ],
            [
             1,
             "#276419"
            ]
           ],
           "sequential": [
            [
             0,
             "#0d0887"
            ],
            [
             0.1111111111111111,
             "#46039f"
            ],
            [
             0.2222222222222222,
             "#7201a8"
            ],
            [
             0.3333333333333333,
             "#9c179e"
            ],
            [
             0.4444444444444444,
             "#bd3786"
            ],
            [
             0.5555555555555556,
             "#d8576b"
            ],
            [
             0.6666666666666666,
             "#ed7953"
            ],
            [
             0.7777777777777778,
             "#fb9f3a"
            ],
            [
             0.8888888888888888,
             "#fdca26"
            ],
            [
             1,
             "#f0f921"
            ]
           ],
           "sequentialminus": [
            [
             0,
             "#0d0887"
            ],
            [
             0.1111111111111111,
             "#46039f"
            ],
            [
             0.2222222222222222,
             "#7201a8"
            ],
            [
             0.3333333333333333,
             "#9c179e"
            ],
            [
             0.4444444444444444,
             "#bd3786"
            ],
            [
             0.5555555555555556,
             "#d8576b"
            ],
            [
             0.6666666666666666,
             "#ed7953"
            ],
            [
             0.7777777777777778,
             "#fb9f3a"
            ],
            [
             0.8888888888888888,
             "#fdca26"
            ],
            [
             1,
             "#f0f921"
            ]
           ]
          },
          "colorway": [
           "#636efa",
           "#EF553B",
           "#00cc96",
           "#ab63fa",
           "#FFA15A",
           "#19d3f3",
           "#FF6692",
           "#B6E880",
           "#FF97FF",
           "#FECB52"
          ],
          "font": {
           "color": "#2a3f5f"
          },
          "geo": {
           "bgcolor": "white",
           "lakecolor": "white",
           "landcolor": "#E5ECF6",
           "showlakes": true,
           "showland": true,
           "subunitcolor": "white"
          },
          "hoverlabel": {
           "align": "left"
          },
          "hovermode": "closest",
          "mapbox": {
           "style": "light"
          },
          "paper_bgcolor": "white",
          "plot_bgcolor": "#E5ECF6",
          "polar": {
           "angularaxis": {
            "gridcolor": "white",
            "linecolor": "white",
            "ticks": ""
           },
           "bgcolor": "#E5ECF6",
           "radialaxis": {
            "gridcolor": "white",
            "linecolor": "white",
            "ticks": ""
           }
          },
          "scene": {
           "xaxis": {
            "backgroundcolor": "#E5ECF6",
            "gridcolor": "white",
            "gridwidth": 2,
            "linecolor": "white",
            "showbackground": true,
            "ticks": "",
            "zerolinecolor": "white"
           },
           "yaxis": {
            "backgroundcolor": "#E5ECF6",
            "gridcolor": "white",
            "gridwidth": 2,
            "linecolor": "white",
            "showbackground": true,
            "ticks": "",
            "zerolinecolor": "white"
           },
           "zaxis": {
            "backgroundcolor": "#E5ECF6",
            "gridcolor": "white",
            "gridwidth": 2,
            "linecolor": "white",
            "showbackground": true,
            "ticks": "",
            "zerolinecolor": "white"
           }
          },
          "shapedefaults": {
           "line": {
            "color": "#2a3f5f"
           }
          },
          "ternary": {
           "aaxis": {
            "gridcolor": "white",
            "linecolor": "white",
            "ticks": ""
           },
           "baxis": {
            "gridcolor": "white",
            "linecolor": "white",
            "ticks": ""
           },
           "bgcolor": "#E5ECF6",
           "caxis": {
            "gridcolor": "white",
            "linecolor": "white",
            "ticks": ""
           }
          },
          "title": {
           "x": 0.05
          },
          "xaxis": {
           "automargin": true,
           "gridcolor": "white",
           "linecolor": "white",
           "ticks": "",
           "title": {
            "standoff": 15
           },
           "zerolinecolor": "white",
           "zerolinewidth": 2
          },
          "yaxis": {
           "automargin": true,
           "gridcolor": "white",
           "linecolor": "white",
           "ticks": "",
           "title": {
            "standoff": 15
           },
           "zerolinecolor": "white",
           "zerolinewidth": 2
          }
         }
        },
        "xaxis": {
         "anchor": "y",
         "domain": [
          0,
          1
         ],
         "title": {
          "text": "initial_r2"
         }
        },
        "yaxis": {
         "anchor": "x",
         "domain": [
          0,
          1
         ],
         "title": {
          "text": "test_acc"
         }
        }
       }
      },
      "text/html": [
       "<div>                            <div id=\"365d1d32-1391-483a-805f-385efcb442c4\" class=\"plotly-graph-div\" style=\"height:525px; width:100%;\"></div>            <script type=\"text/javascript\">                require([\"plotly\"], function(Plotly) {                    window.PLOTLYENV=window.PLOTLYENV || {};                                    if (document.getElementById(\"365d1d32-1391-483a-805f-385efcb442c4\")) {                    Plotly.newPlot(                        \"365d1d32-1391-483a-805f-385efcb442c4\",                        [{\"hovertemplate\": \"dataset=caltech256<br>initial_r2=%{x}<br>test_acc=%{y}<br>training_steps=%{marker.size}<extra></extra>\", \"legendgroup\": \"caltech256\", \"marker\": {\"color\": \"#636efa\", \"size\": [2291, 2578, 2390, 2677, 2677, 2964, 2390, 2390, 2578, 2291, 2964, 2964, 2677, 2578, 2677, 2578, 2390, 2484, 2578, 2390, 2291, 2771, 2484, 2578, 2677, 2578, 2677, 2677, 2771, 2677, 2390, 2865, 2390, 2578, 2677, 2578, 2677, 2677, 2865, 2677, 2578, 2677, 2578, 2964, 2964, 2677, 2578, 2677, 2578, 2578, 2578, 2677, 2677, 2484, 2578, 2677, 2677, 2578, 2390, 2964, 2677, 2578, 2771, 2390, 2964, 2865, 2390, 2964, 2677, 2390, 2578, 2390, 2390, 2677, 2771, 2390, 2390, 2677, 2964, 2677, 2578, 2578, 2677, 2865], \"sizemode\": \"area\", \"sizeref\": 7.41, \"symbol\": \"circle\"}, \"mode\": \"markers\", \"name\": \"caltech256\", \"orientation\": \"v\", \"showlegend\": true, \"type\": \"scatter\", \"x\": [0.986926351760302, 0.9869459866485062, 0.9869914622233652, 0.9869941329679714, 0.987041194001248, 0.9868601220148456, 0.9869255433338653, 0.9869563016685665, 0.9869568652871399, 0.9867237046430293, 0.9868492664221968, 0.987022085546372, 0.9871493225057089, 0.9870097151801969, 0.9868754771486491, 0.9869914182556585, 0.9870066021148041, 0.9871084614742051, 0.987062735033818, 0.9870110003640298, 0.9869770987385675, 0.9870023042361511, 0.9869729273617476, 0.9869937910395835, 0.9870047054016987, 0.987059623282545, 0.9869757635265234, 0.9871069654127663, 0.9871309937722569, 0.9870735128961142, 0.9869861810652589, 0.9869778766856996, 0.986897651934497, 0.987116506242774, 0.9868845169610205, 0.9868946536552524, 0.9869302990671597, 0.9869830719707331, 0.9867956853096824, 0.9869670471329797, 0.986986371545995, 0.9870196823342083, 0.9870307987684033, 0.9868920845169797, 0.9869783814308599, 0.9868287146663892, 0.9869625540890918, 0.9869056763850138, 0.9870284415214792, 0.986879710156996, 0.9870602433767333, 0.9869505204644613, 0.9869120831364916, 0.9869354732986647, 0.9868630928805044, 0.9870856225514606, 0.9868765611543364, 0.9870465014657005, 0.9870864511592086, 0.9869339966425241, 0.9869465826482999, 0.9870775734803774, 0.9868515528868936, 0.9869479369372597, 0.9870633310427883, 0.9869656106716336, 0.9870945652234807, 0.986905243486562, 0.9869347700213441, 0.9869342853985682, 0.9869363879552464, 0.9868938727982212, 0.9870622052483632, 0.9869884980345099, 0.9870957146586864, 0.9870629852035121, 0.9868390343160214, 0.9869428188678456, 0.9870052028327438, 0.9868647618776871, 0.9870963524303407, 0.9869844174939196, 0.9869685026587778, 0.9870751369896913], \"xaxis\": \"x\", \"y\": [0.21079799107142858, 0.1984281994047619, 0.2233305431547619, 0.20764353918650794, 0.18897259424603174, 0.23628937251984128, 0.2352973090277778, 0.22366381448412698, 0.22245473710317462, 0.21535528273809523, 0.22934492807539683, 0.22643849206349206, 0.2219432043650794, 0.18060205853174605, 0.2154482886904762, 0.19387090773809523, 0.19802517361111113, 0.1945994543650794, 0.20039682539682538, 0.2099066840277778, 0.20437282986111113, 0.21919952876984128, 0.1959015376984127, 0.22178819444444445, 0.24026537698412698, 0.22480313740079363, 0.23579334077380953, 0.23384796626984128, 0.21463448660714288, 0.2118598090277778, 0.2196568080357143, 0.22057136656746032, 0.21796719990079363, 0.19102647569444445, 0.21659536210317462, 0.19077845982142858, 0.2286318824404762, 0.20886036706349206, 0.20601593501984128, 0.21854073660714288, 0.21626984126984128, 0.21805245535714288, 0.21682787698412698, 0.22651599702380953, 0.17955574156746032, 0.23326667906746032, 0.20381479414682538, 0.21992032490079363, 0.22554718501984128, 0.21162729414682538, 0.2064887152777778, 0.19338262648809523, 0.22048611111111113, 0.19688585069444445, 0.21943204365079363, 0.21748666914682538, 0.2135649181547619, 0.21487475198412698, 0.2151072668650794, 0.24190073164682538, 0.2234080481150794, 0.18680245535714288, 0.19339037698412698, 0.2095889136904762, 0.22880239335317462, 0.21342540922619047, 0.20550440228174605, 0.22383432539682538, 0.23416573660714288, 0.2249813988095238, 0.21804470486111113, 0.21177455357142858, 0.20429532490079363, 0.21616908482142858, 0.21292162698412698, 0.21804470486111113, 0.22993396577380953, 0.23660714285714288, 0.19932725694444445, 0.23270089285714288, 0.2123480902777778, 0.1891508556547619, 0.21755642361111113, 0.19053819444444445], \"yaxis\": \"y\"}],                        {\"legend\": {\"itemsizing\": \"constant\", \"title\": {\"text\": \"dataset\"}, \"tracegroupgap\": 0}, \"margin\": {\"t\": 60}, \"template\": {\"data\": {\"bar\": [{\"error_x\": {\"color\": \"#2a3f5f\"}, \"error_y\": {\"color\": \"#2a3f5f\"}, \"marker\": {\"line\": {\"color\": \"#E5ECF6\", \"width\": 0.5}}, \"type\": \"bar\"}], \"barpolar\": [{\"marker\": {\"line\": {\"color\": \"#E5ECF6\", \"width\": 0.5}}, \"type\": \"barpolar\"}], \"carpet\": [{\"aaxis\": {\"endlinecolor\": \"#2a3f5f\", \"gridcolor\": \"white\", \"linecolor\": \"white\", \"minorgridcolor\": \"white\", \"startlinecolor\": \"#2a3f5f\"}, \"baxis\": {\"endlinecolor\": \"#2a3f5f\", \"gridcolor\": \"white\", \"linecolor\": \"white\", \"minorgridcolor\": \"white\", \"startlinecolor\": \"#2a3f5f\"}, \"type\": \"carpet\"}], \"choropleth\": [{\"colorbar\": {\"outlinewidth\": 0, \"ticks\": \"\"}, \"type\": \"choropleth\"}], \"contour\": [{\"colorbar\": {\"outlinewidth\": 0, \"ticks\": \"\"}, \"colorscale\": [[0.0, \"#0d0887\"], [0.1111111111111111, \"#46039f\"], [0.2222222222222222, \"#7201a8\"], [0.3333333333333333, \"#9c179e\"], [0.4444444444444444, \"#bd3786\"], [0.5555555555555556, \"#d8576b\"], [0.6666666666666666, \"#ed7953\"], [0.7777777777777778, \"#fb9f3a\"], [0.8888888888888888, \"#fdca26\"], [1.0, \"#f0f921\"]], \"type\": \"contour\"}], \"contourcarpet\": [{\"colorbar\": {\"outlinewidth\": 0, \"ticks\": \"\"}, \"type\": \"contourcarpet\"}], \"heatmap\": [{\"colorbar\": {\"outlinewidth\": 0, \"ticks\": \"\"}, \"colorscale\": [[0.0, \"#0d0887\"], [0.1111111111111111, \"#46039f\"], [0.2222222222222222, \"#7201a8\"], [0.3333333333333333, \"#9c179e\"], [0.4444444444444444, \"#bd3786\"], [0.5555555555555556, \"#d8576b\"], [0.6666666666666666, \"#ed7953\"], [0.7777777777777778, \"#fb9f3a\"], [0.8888888888888888, \"#fdca26\"], [1.0, \"#f0f921\"]], \"type\": \"heatmap\"}], \"heatmapgl\": [{\"colorbar\": {\"outlinewidth\": 0, \"ticks\": \"\"}, \"colorscale\": [[0.0, \"#0d0887\"], [0.1111111111111111, \"#46039f\"], [0.2222222222222222, \"#7201a8\"], [0.3333333333333333, \"#9c179e\"], [0.4444444444444444, \"#bd3786\"], [0.5555555555555556, \"#d8576b\"], [0.6666666666666666, \"#ed7953\"], [0.7777777777777778, \"#fb9f3a\"], [0.8888888888888888, \"#fdca26\"], [1.0, \"#f0f921\"]], \"type\": \"heatmapgl\"}], \"histogram\": [{\"marker\": {\"colorbar\": {\"outlinewidth\": 0, \"ticks\": \"\"}}, \"type\": \"histogram\"}], \"histogram2d\": [{\"colorbar\": {\"outlinewidth\": 0, \"ticks\": \"\"}, \"colorscale\": [[0.0, \"#0d0887\"], [0.1111111111111111, \"#46039f\"], [0.2222222222222222, \"#7201a8\"], [0.3333333333333333, \"#9c179e\"], [0.4444444444444444, \"#bd3786\"], [0.5555555555555556, \"#d8576b\"], [0.6666666666666666, \"#ed7953\"], [0.7777777777777778, \"#fb9f3a\"], [0.8888888888888888, \"#fdca26\"], [1.0, \"#f0f921\"]], \"type\": \"histogram2d\"}], \"histogram2dcontour\": [{\"colorbar\": {\"outlinewidth\": 0, \"ticks\": \"\"}, \"colorscale\": [[0.0, \"#0d0887\"], [0.1111111111111111, \"#46039f\"], [0.2222222222222222, \"#7201a8\"], [0.3333333333333333, \"#9c179e\"], [0.4444444444444444, \"#bd3786\"], [0.5555555555555556, \"#d8576b\"], [0.6666666666666666, \"#ed7953\"], [0.7777777777777778, \"#fb9f3a\"], [0.8888888888888888, \"#fdca26\"], [1.0, \"#f0f921\"]], \"type\": \"histogram2dcontour\"}], \"mesh3d\": [{\"colorbar\": {\"outlinewidth\": 0, \"ticks\": \"\"}, \"type\": \"mesh3d\"}], \"parcoords\": [{\"line\": {\"colorbar\": {\"outlinewidth\": 0, \"ticks\": \"\"}}, \"type\": \"parcoords\"}], \"pie\": [{\"automargin\": true, \"type\": \"pie\"}], \"scatter\": [{\"marker\": {\"colorbar\": {\"outlinewidth\": 0, \"ticks\": \"\"}}, \"type\": \"scatter\"}], \"scatter3d\": [{\"line\": {\"colorbar\": {\"outlinewidth\": 0, \"ticks\": \"\"}}, \"marker\": {\"colorbar\": {\"outlinewidth\": 0, \"ticks\": \"\"}}, \"type\": \"scatter3d\"}], \"scattercarpet\": [{\"marker\": {\"colorbar\": {\"outlinewidth\": 0, \"ticks\": \"\"}}, \"type\": \"scattercarpet\"}], \"scattergeo\": [{\"marker\": {\"colorbar\": {\"outlinewidth\": 0, \"ticks\": \"\"}}, \"type\": \"scattergeo\"}], \"scattergl\": [{\"marker\": {\"colorbar\": {\"outlinewidth\": 0, \"ticks\": \"\"}}, \"type\": \"scattergl\"}], \"scattermapbox\": [{\"marker\": {\"colorbar\": {\"outlinewidth\": 0, \"ticks\": \"\"}}, \"type\": \"scattermapbox\"}], \"scatterpolar\": [{\"marker\": {\"colorbar\": {\"outlinewidth\": 0, \"ticks\": \"\"}}, \"type\": \"scatterpolar\"}], \"scatterpolargl\": [{\"marker\": {\"colorbar\": {\"outlinewidth\": 0, \"ticks\": \"\"}}, \"type\": \"scatterpolargl\"}], \"scatterternary\": [{\"marker\": {\"colorbar\": {\"outlinewidth\": 0, \"ticks\": \"\"}}, \"type\": \"scatterternary\"}], \"surface\": [{\"colorbar\": {\"outlinewidth\": 0, \"ticks\": \"\"}, \"colorscale\": [[0.0, \"#0d0887\"], [0.1111111111111111, \"#46039f\"], [0.2222222222222222, \"#7201a8\"], [0.3333333333333333, \"#9c179e\"], [0.4444444444444444, \"#bd3786\"], [0.5555555555555556, \"#d8576b\"], [0.6666666666666666, \"#ed7953\"], [0.7777777777777778, \"#fb9f3a\"], [0.8888888888888888, \"#fdca26\"], [1.0, \"#f0f921\"]], \"type\": \"surface\"}], \"table\": [{\"cells\": {\"fill\": {\"color\": \"#EBF0F8\"}, \"line\": {\"color\": \"white\"}}, \"header\": {\"fill\": {\"color\": \"#C8D4E3\"}, \"line\": {\"color\": \"white\"}}, \"type\": \"table\"}]}, \"layout\": {\"annotationdefaults\": {\"arrowcolor\": \"#2a3f5f\", \"arrowhead\": 0, \"arrowwidth\": 1}, \"coloraxis\": {\"colorbar\": {\"outlinewidth\": 0, \"ticks\": \"\"}}, \"colorscale\": {\"diverging\": [[0, \"#8e0152\"], [0.1, \"#c51b7d\"], [0.2, \"#de77ae\"], [0.3, \"#f1b6da\"], [0.4, \"#fde0ef\"], [0.5, \"#f7f7f7\"], [0.6, \"#e6f5d0\"], [0.7, \"#b8e186\"], [0.8, \"#7fbc41\"], [0.9, \"#4d9221\"], [1, \"#276419\"]], \"sequential\": [[0.0, \"#0d0887\"], [0.1111111111111111, \"#46039f\"], [0.2222222222222222, \"#7201a8\"], [0.3333333333333333, \"#9c179e\"], [0.4444444444444444, \"#bd3786\"], [0.5555555555555556, \"#d8576b\"], [0.6666666666666666, \"#ed7953\"], [0.7777777777777778, \"#fb9f3a\"], [0.8888888888888888, \"#fdca26\"], [1.0, \"#f0f921\"]], \"sequentialminus\": [[0.0, \"#0d0887\"], [0.1111111111111111, \"#46039f\"], [0.2222222222222222, \"#7201a8\"], [0.3333333333333333, \"#9c179e\"], [0.4444444444444444, \"#bd3786\"], [0.5555555555555556, \"#d8576b\"], [0.6666666666666666, \"#ed7953\"], [0.7777777777777778, \"#fb9f3a\"], [0.8888888888888888, \"#fdca26\"], [1.0, \"#f0f921\"]]}, \"colorway\": [\"#636efa\", \"#EF553B\", \"#00cc96\", \"#ab63fa\", \"#FFA15A\", \"#19d3f3\", \"#FF6692\", \"#B6E880\", \"#FF97FF\", \"#FECB52\"], \"font\": {\"color\": \"#2a3f5f\"}, \"geo\": {\"bgcolor\": \"white\", \"lakecolor\": \"white\", \"landcolor\": \"#E5ECF6\", \"showlakes\": true, \"showland\": true, \"subunitcolor\": \"white\"}, \"hoverlabel\": {\"align\": \"left\"}, \"hovermode\": \"closest\", \"mapbox\": {\"style\": \"light\"}, \"paper_bgcolor\": \"white\", \"plot_bgcolor\": \"#E5ECF6\", \"polar\": {\"angularaxis\": {\"gridcolor\": \"white\", \"linecolor\": \"white\", \"ticks\": \"\"}, \"bgcolor\": \"#E5ECF6\", \"radialaxis\": {\"gridcolor\": \"white\", \"linecolor\": \"white\", \"ticks\": \"\"}}, \"scene\": {\"xaxis\": {\"backgroundcolor\": \"#E5ECF6\", \"gridcolor\": \"white\", \"gridwidth\": 2, \"linecolor\": \"white\", \"showbackground\": true, \"ticks\": \"\", \"zerolinecolor\": \"white\"}, \"yaxis\": {\"backgroundcolor\": \"#E5ECF6\", \"gridcolor\": \"white\", \"gridwidth\": 2, \"linecolor\": \"white\", \"showbackground\": true, \"ticks\": \"\", \"zerolinecolor\": \"white\"}, \"zaxis\": {\"backgroundcolor\": \"#E5ECF6\", \"gridcolor\": \"white\", \"gridwidth\": 2, \"linecolor\": \"white\", \"showbackground\": true, \"ticks\": \"\", \"zerolinecolor\": \"white\"}}, \"shapedefaults\": {\"line\": {\"color\": \"#2a3f5f\"}}, \"ternary\": {\"aaxis\": {\"gridcolor\": \"white\", \"linecolor\": \"white\", \"ticks\": \"\"}, \"baxis\": {\"gridcolor\": \"white\", \"linecolor\": \"white\", \"ticks\": \"\"}, \"bgcolor\": \"#E5ECF6\", \"caxis\": {\"gridcolor\": \"white\", \"linecolor\": \"white\", \"ticks\": \"\"}}, \"title\": {\"x\": 0.05}, \"xaxis\": {\"automargin\": true, \"gridcolor\": \"white\", \"linecolor\": \"white\", \"ticks\": \"\", \"title\": {\"standoff\": 15}, \"zerolinecolor\": \"white\", \"zerolinewidth\": 2}, \"yaxis\": {\"automargin\": true, \"gridcolor\": \"white\", \"linecolor\": \"white\", \"ticks\": \"\", \"title\": {\"standoff\": 15}, \"zerolinecolor\": \"white\", \"zerolinewidth\": 2}}}, \"xaxis\": {\"anchor\": \"y\", \"domain\": [0.0, 1.0], \"title\": {\"text\": \"initial_r2\"}}, \"yaxis\": {\"anchor\": \"x\", \"domain\": [0.0, 1.0], \"title\": {\"text\": \"test_acc\"}}},                        {\"responsive\": true}                    ).then(function(){\n",
       "                            \n",
       "var gd = document.getElementById('365d1d32-1391-483a-805f-385efcb442c4');\n",
       "var x = new MutationObserver(function (mutations, observer) {{\n",
       "        var display = window.getComputedStyle(gd).display;\n",
       "        if (!display || display === 'none') {{\n",
       "            console.log([gd, 'removed!']);\n",
       "            Plotly.purge(gd);\n",
       "            observer.disconnect();\n",
       "        }}\n",
       "}});\n",
       "\n",
       "// Listen for the removal of the full notebook cells\n",
       "var notebookContainer = gd.closest('#notebook-container');\n",
       "if (notebookContainer) {{\n",
       "    x.observe(notebookContainer, {childList: true});\n",
       "}}\n",
       "\n",
       "// Listen for the clearing of the current output cell\n",
       "var outputEl = gd.closest('.output');\n",
       "if (outputEl) {{\n",
       "    x.observe(outputEl, {childList: true});\n",
       "}}\n",
       "\n",
       "                        })                };                });            </script>        </div>"
      ]
     },
     "metadata": {},
     "output_type": "display_data"
    }
   ],
   "source": [
    "temp = df_exp1.loc[df_exp1.dataset == 'caltech256']\n",
    "px.scatter(temp, x=\"initial_r2\", y=\"test_acc\", color=\"dataset\",\n",
    "                 size='training_steps')"
   ]
  },
  {
   "cell_type": "code",
   "execution_count": 26,
   "metadata": {},
   "outputs": [
    {
     "data": {
      "text/html": [
       "<div>\n",
       "<style scoped>\n",
       "    .dataframe tbody tr th:only-of-type {\n",
       "        vertical-align: middle;\n",
       "    }\n",
       "\n",
       "    .dataframe tbody tr th {\n",
       "        vertical-align: top;\n",
       "    }\n",
       "\n",
       "    .dataframe thead th {\n",
       "        text-align: right;\n",
       "    }\n",
       "</style>\n",
       "<table border=\"1\" class=\"dataframe\">\n",
       "  <thead>\n",
       "    <tr style=\"text-align: right;\">\n",
       "      <th></th>\n",
       "      <th>dataset</th>\n",
       "      <th>initializer</th>\n",
       "      <th>initial_r2</th>\n",
       "      <th>final_r2</th>\n",
       "      <th>test_acc</th>\n",
       "      <th>training_steps</th>\n",
       "      <th>acc_per_step</th>\n",
       "    </tr>\n",
       "  </thead>\n",
       "  <tbody>\n",
       "    <tr>\n",
       "      <th>0</th>\n",
       "      <td>mnist</td>\n",
       "      <td>naive</td>\n",
       "      <td>0.960495</td>\n",
       "      <td>0.995079</td>\n",
       "      <td>0.987580</td>\n",
       "      <td>7155</td>\n",
       "      <td>0.000138</td>\n",
       "    </tr>\n",
       "    <tr>\n",
       "      <th>1</th>\n",
       "      <td>mnist</td>\n",
       "      <td>naive</td>\n",
       "      <td>0.962569</td>\n",
       "      <td>0.985950</td>\n",
       "      <td>0.985978</td>\n",
       "      <td>10015</td>\n",
       "      <td>0.000098</td>\n",
       "    </tr>\n",
       "    <tr>\n",
       "      <th>2</th>\n",
       "      <td>mnist</td>\n",
       "      <td>glorot</td>\n",
       "      <td>0.948156</td>\n",
       "      <td>0.994984</td>\n",
       "      <td>0.990785</td>\n",
       "      <td>7721</td>\n",
       "      <td>0.000128</td>\n",
       "    </tr>\n",
       "    <tr>\n",
       "      <th>3</th>\n",
       "      <td>mnist</td>\n",
       "      <td>glorot</td>\n",
       "      <td>0.952121</td>\n",
       "      <td>0.995689</td>\n",
       "      <td>0.987580</td>\n",
       "      <td>6862</td>\n",
       "      <td>0.000144</td>\n",
       "    </tr>\n",
       "    <tr>\n",
       "      <th>4</th>\n",
       "      <td>mnist</td>\n",
       "      <td>glorot</td>\n",
       "      <td>0.947098</td>\n",
       "      <td>0.987480</td>\n",
       "      <td>0.986979</td>\n",
       "      <td>8580</td>\n",
       "      <td>0.000115</td>\n",
       "    </tr>\n",
       "    <tr>\n",
       "      <th>...</th>\n",
       "      <td>...</td>\n",
       "      <td>...</td>\n",
       "      <td>...</td>\n",
       "      <td>...</td>\n",
       "      <td>...</td>\n",
       "      <td>...</td>\n",
       "      <td>...</td>\n",
       "    </tr>\n",
       "    <tr>\n",
       "      <th>892</th>\n",
       "      <td>mnist</td>\n",
       "      <td>naive</td>\n",
       "      <td>0.960131</td>\n",
       "      <td>0.996733</td>\n",
       "      <td>0.988982</td>\n",
       "      <td>5720</td>\n",
       "      <td>0.000173</td>\n",
       "    </tr>\n",
       "    <tr>\n",
       "      <th>894</th>\n",
       "      <td>mnist</td>\n",
       "      <td>glorot</td>\n",
       "      <td>0.944921</td>\n",
       "      <td>0.981396</td>\n",
       "      <td>0.988582</td>\n",
       "      <td>11157</td>\n",
       "      <td>0.000089</td>\n",
       "    </tr>\n",
       "    <tr>\n",
       "      <th>895</th>\n",
       "      <td>mnist</td>\n",
       "      <td>glorot</td>\n",
       "      <td>0.948025</td>\n",
       "      <td>0.996803</td>\n",
       "      <td>0.988982</td>\n",
       "      <td>6862</td>\n",
       "      <td>0.000144</td>\n",
       "    </tr>\n",
       "    <tr>\n",
       "      <th>896</th>\n",
       "      <td>mnist</td>\n",
       "      <td>naive</td>\n",
       "      <td>0.959362</td>\n",
       "      <td>0.982000</td>\n",
       "      <td>0.985176</td>\n",
       "      <td>10298</td>\n",
       "      <td>0.000096</td>\n",
       "    </tr>\n",
       "    <tr>\n",
       "      <th>897</th>\n",
       "      <td>mnist</td>\n",
       "      <td>naive</td>\n",
       "      <td>0.961127</td>\n",
       "      <td>0.992267</td>\n",
       "      <td>0.986178</td>\n",
       "      <td>8580</td>\n",
       "      <td>0.000115</td>\n",
       "    </tr>\n",
       "  </tbody>\n",
       "</table>\n",
       "<p>600 rows × 7 columns</p>\n",
       "</div>"
      ],
      "text/plain": [
       "    dataset initializer  initial_r2  final_r2  test_acc  training_steps  \\\n",
       "0     mnist       naive    0.960495  0.995079  0.987580            7155   \n",
       "1     mnist       naive    0.962569  0.985950  0.985978           10015   \n",
       "2     mnist      glorot    0.948156  0.994984  0.990785            7721   \n",
       "3     mnist      glorot    0.952121  0.995689  0.987580            6862   \n",
       "4     mnist      glorot    0.947098  0.987480  0.986979            8580   \n",
       "..      ...         ...         ...       ...       ...             ...   \n",
       "892   mnist       naive    0.960131  0.996733  0.988982            5720   \n",
       "894   mnist      glorot    0.944921  0.981396  0.988582           11157   \n",
       "895   mnist      glorot    0.948025  0.996803  0.988982            6862   \n",
       "896   mnist       naive    0.959362  0.982000  0.985176           10298   \n",
       "897   mnist       naive    0.961127  0.992267  0.986178            8580   \n",
       "\n",
       "     acc_per_step  \n",
       "0        0.000138  \n",
       "1        0.000098  \n",
       "2        0.000128  \n",
       "3        0.000144  \n",
       "4        0.000115  \n",
       "..            ...  \n",
       "892      0.000173  \n",
       "894      0.000089  \n",
       "895      0.000144  \n",
       "896      0.000096  \n",
       "897      0.000115  \n",
       "\n",
       "[600 rows x 7 columns]"
      ]
     },
     "execution_count": 26,
     "metadata": {},
     "output_type": "execute_result"
    }
   ],
   "source": [
    "experiment = 'comparison'\n",
    "files = sorted(glob(f\"./stats/{experiment}/*.json\"))\n",
    "\n",
    "initial_r2 = []\n",
    "final_r2 = []\n",
    "test_acc = []\n",
    "training_steps = []\n",
    "datasets = []\n",
    "initializers = []\n",
    "for file in files:\n",
    "    j = json.load(open(file,\"r\"))\n",
    "#     if j['dataset'] == 'cifar10':\n",
    "    initial_r2.append(j['initial_r2'])\n",
    "    final_r2.append(j['final_r2'])\n",
    "    test_acc.append(j['test_acc'])\n",
    "    training_steps.append(j['training_steps'])\n",
    "    datasets.append(j['dataset'])\n",
    "    initializers.append(j['initializer'])\n",
    "    \n",
    "df_exp2 = pd.DataFrame(zip(datasets, initializers, initial_r2, final_r2, test_acc, training_steps), \n",
    "                       columns=['dataset', 'initializer', 'initial_r2', 'final_r2', 'test_acc', 'training_steps'])\n",
    "# df_exp2 = df_exp2.loc[df_exp2.dataset == 'mnist']\n",
    "df_exp2 = df_exp2.loc[df_exp2.initializer != 'genetic']\n",
    "df_exp2['acc_per_step'] = df_exp2['test_acc'] / df_exp2['training_steps']\n",
    "df_exp2"
   ]
  },
  {
   "cell_type": "code",
   "execution_count": 34,
   "metadata": {},
   "outputs": [
    {
     "data": {
      "application/vnd.plotly.v1+json": {
       "config": {
        "plotlyServerURL": "https://plot.ly"
       },
       "data": [
        {
         "alignmentgroup": "True",
         "hovertemplate": "initializer=naive<br>test_acc=%{y}<extra></extra>",
         "legendgroup": "naive",
         "marker": {
          "color": "#636efa"
         },
         "name": "naive",
         "notched": false,
         "offsetgroup": "naive",
         "orientation": "v",
         "showlegend": true,
         "type": "box",
         "x0": " ",
         "xaxis": "x",
         "y": [
          0.9875801282051282,
          0.9859775641025641,
          0.9879807692307693,
          0.9863782051282052,
          0.9889823717948718,
          0.9877804487179487,
          0.9879807692307693,
          0.9899839743589743,
          0.9899839743589743,
          0.9895833333333334,
          0.9877804487179487,
          0.9893830128205128,
          0.9869791666666666,
          0.9889823717948718,
          0.9889823717948718,
          0.9909855769230769,
          0.9889823717948718,
          0.9903846153846154,
          0.9887820512820513,
          0.9887820512820513,
          0.9903846153846154,
          0.991386217948718,
          0.9827724358974359,
          0.9893830128205128,
          0.9897836538461539,
          0.9857772435897436,
          0.9901842948717948,
          0.9875801282051282,
          0.9877804487179487,
          0.9879807692307693,
          0.9905849358974359,
          0.9883814102564102,
          0.9859775641025641,
          0.9873798076923077,
          0.991386217948718,
          0.9905849358974359,
          0.9891826923076923,
          0.9859775641025641,
          0.9901842948717948,
          0.9881810897435898,
          0.984375,
          0.9909855769230769,
          0.9871794871794872,
          0.9893830128205128,
          0.9903846153846154,
          0.9903846153846154,
          0.9885817307692307,
          0.9859775641025641,
          0.9889823717948718,
          0.9883814102564102,
          0.9887820512820513,
          0.9883814102564102,
          0.9885817307692307,
          0.9881810897435898,
          0.9873798076923077,
          0.9877804487179487,
          0.9871794871794872,
          0.9871794871794872,
          0.9877804487179487,
          0.9903846153846154,
          0.9899839743589743,
          0.9867788461538461,
          0.9907852564102564,
          0.9891826923076923,
          0.9883814102564102,
          0.9891826923076923,
          0.9885817307692307,
          0.9891826923076923,
          0.9893830128205128,
          0.9897836538461539,
          0.9909855769230769,
          0.9881810897435898,
          0.9883814102564102,
          0.9895833333333334,
          0.9879807692307693,
          0.9915865384615384,
          0.9879807692307693,
          0.9873798076923077,
          0.9881810897435898,
          0.9907852564102564,
          0.9909855769230769,
          0.9885817307692307,
          0.9881810897435898,
          0.9875801282051282,
          0.9911858974358975,
          0.9895833333333334,
          0.9873798076923077,
          0.9893830128205128,
          0.9883814102564102,
          0.9881810897435898,
          0.9885817307692307,
          0.991386217948718,
          0.9877804487179487,
          0.9891826923076923,
          0.9885817307692307,
          0.9909855769230769,
          0.9907852564102564,
          0.9889823717948718,
          0.985176282051282,
          0.9861778846153846
         ],
         "y0": " ",
         "yaxis": "y"
        },
        {
         "alignmentgroup": "True",
         "hovertemplate": "initializer=glorot<br>test_acc=%{y}<extra></extra>",
         "legendgroup": "glorot",
         "marker": {
          "color": "#EF553B"
         },
         "name": "glorot",
         "notched": false,
         "offsetgroup": "glorot",
         "orientation": "v",
         "showlegend": true,
         "type": "box",
         "x0": " ",
         "xaxis": "x",
         "y": [
          0.9907852564102564,
          0.9875801282051282,
          0.9869791666666666,
          0.9885817307692307,
          0.9889823717948718,
          0.9917868589743589,
          0.9887820512820513,
          0.9887820512820513,
          0.9889823717948718,
          0.9883814102564102,
          0.9849759615384616,
          0.9895833333333334,
          0.9897836538461539,
          0.9865785256410257,
          0.9897836538461539,
          0.9865785256410257,
          0.9855769230769231,
          0.9867788461538461,
          0.9887820512820513,
          0.9909855769230769,
          0.9895833333333334,
          0.9839743589743589,
          0.9893830128205128,
          0.9865785256410257,
          0.9885817307692307,
          0.9879807692307693,
          0.9905849358974359,
          0.9879807692307693,
          0.9871794871794872,
          0.9891826923076923,
          0.9875801282051282,
          0.9893830128205128,
          0.9895833333333334,
          0.9897836538461539,
          0.9889823717948718,
          0.9865785256410257,
          0.9889823717948718,
          0.9871794871794872,
          0.9889823717948718,
          0.9911858974358975,
          0.9887820512820513,
          0.9841746794871795,
          0.9859775641025641,
          0.9901842948717948,
          0.9871794871794872,
          0.9879807692307693,
          0.9891826923076923,
          0.9839743589743589,
          0.9881810897435898,
          0.9879807692307693,
          0.9877804487179487,
          0.9893830128205128,
          0.9877804487179487,
          0.9889823717948718,
          0.9863782051282052,
          0.9875801282051282,
          0.9859775641025641,
          0.9891826923076923,
          0.9861778846153846,
          0.9863782051282052,
          0.9875801282051282,
          0.9877804487179487,
          0.9861778846153846,
          0.9891826923076923,
          0.9895833333333334,
          0.9849759615384616,
          0.9877804487179487,
          0.9891826923076923,
          0.9889823717948718,
          0.9877804487179487,
          0.9895833333333334,
          0.9885817307692307,
          0.9891826923076923,
          0.9867788461538461,
          0.9877804487179487,
          0.9899839743589743,
          0.9897836538461539,
          0.9909855769230769,
          0.9889823717948718,
          0.9887820512820513,
          0.9877804487179487,
          0.9917868589743589,
          0.9889823717948718,
          0.9885817307692307,
          0.9881810897435898,
          0.9893830128205128,
          0.9885817307692307,
          0.9879807692307693,
          0.9879807692307693,
          0.9871794871794872,
          0.9867788461538461,
          0.9867788461538461,
          0.9893830128205128,
          0.9877804487179487,
          0.9887820512820513,
          0.9887820512820513,
          0.9841746794871795,
          0.9899839743589743,
          0.9885817307692307,
          0.9889823717948718
         ],
         "y0": " ",
         "yaxis": "y"
        }
       ],
       "layout": {
        "boxmode": "group",
        "legend": {
         "title": {
          "text": "initializer"
         },
         "tracegroupgap": 0
        },
        "margin": {
         "t": 60
        },
        "template": {
         "data": {
          "bar": [
           {
            "error_x": {
             "color": "#2a3f5f"
            },
            "error_y": {
             "color": "#2a3f5f"
            },
            "marker": {
             "line": {
              "color": "#E5ECF6",
              "width": 0.5
             }
            },
            "type": "bar"
           }
          ],
          "barpolar": [
           {
            "marker": {
             "line": {
              "color": "#E5ECF6",
              "width": 0.5
             }
            },
            "type": "barpolar"
           }
          ],
          "carpet": [
           {
            "aaxis": {
             "endlinecolor": "#2a3f5f",
             "gridcolor": "white",
             "linecolor": "white",
             "minorgridcolor": "white",
             "startlinecolor": "#2a3f5f"
            },
            "baxis": {
             "endlinecolor": "#2a3f5f",
             "gridcolor": "white",
             "linecolor": "white",
             "minorgridcolor": "white",
             "startlinecolor": "#2a3f5f"
            },
            "type": "carpet"
           }
          ],
          "choropleth": [
           {
            "colorbar": {
             "outlinewidth": 0,
             "ticks": ""
            },
            "type": "choropleth"
           }
          ],
          "contour": [
           {
            "colorbar": {
             "outlinewidth": 0,
             "ticks": ""
            },
            "colorscale": [
             [
              0,
              "#0d0887"
             ],
             [
              0.1111111111111111,
              "#46039f"
             ],
             [
              0.2222222222222222,
              "#7201a8"
             ],
             [
              0.3333333333333333,
              "#9c179e"
             ],
             [
              0.4444444444444444,
              "#bd3786"
             ],
             [
              0.5555555555555556,
              "#d8576b"
             ],
             [
              0.6666666666666666,
              "#ed7953"
             ],
             [
              0.7777777777777778,
              "#fb9f3a"
             ],
             [
              0.8888888888888888,
              "#fdca26"
             ],
             [
              1,
              "#f0f921"
             ]
            ],
            "type": "contour"
           }
          ],
          "contourcarpet": [
           {
            "colorbar": {
             "outlinewidth": 0,
             "ticks": ""
            },
            "type": "contourcarpet"
           }
          ],
          "heatmap": [
           {
            "colorbar": {
             "outlinewidth": 0,
             "ticks": ""
            },
            "colorscale": [
             [
              0,
              "#0d0887"
             ],
             [
              0.1111111111111111,
              "#46039f"
             ],
             [
              0.2222222222222222,
              "#7201a8"
             ],
             [
              0.3333333333333333,
              "#9c179e"
             ],
             [
              0.4444444444444444,
              "#bd3786"
             ],
             [
              0.5555555555555556,
              "#d8576b"
             ],
             [
              0.6666666666666666,
              "#ed7953"
             ],
             [
              0.7777777777777778,
              "#fb9f3a"
             ],
             [
              0.8888888888888888,
              "#fdca26"
             ],
             [
              1,
              "#f0f921"
             ]
            ],
            "type": "heatmap"
           }
          ],
          "heatmapgl": [
           {
            "colorbar": {
             "outlinewidth": 0,
             "ticks": ""
            },
            "colorscale": [
             [
              0,
              "#0d0887"
             ],
             [
              0.1111111111111111,
              "#46039f"
             ],
             [
              0.2222222222222222,
              "#7201a8"
             ],
             [
              0.3333333333333333,
              "#9c179e"
             ],
             [
              0.4444444444444444,
              "#bd3786"
             ],
             [
              0.5555555555555556,
              "#d8576b"
             ],
             [
              0.6666666666666666,
              "#ed7953"
             ],
             [
              0.7777777777777778,
              "#fb9f3a"
             ],
             [
              0.8888888888888888,
              "#fdca26"
             ],
             [
              1,
              "#f0f921"
             ]
            ],
            "type": "heatmapgl"
           }
          ],
          "histogram": [
           {
            "marker": {
             "colorbar": {
              "outlinewidth": 0,
              "ticks": ""
             }
            },
            "type": "histogram"
           }
          ],
          "histogram2d": [
           {
            "colorbar": {
             "outlinewidth": 0,
             "ticks": ""
            },
            "colorscale": [
             [
              0,
              "#0d0887"
             ],
             [
              0.1111111111111111,
              "#46039f"
             ],
             [
              0.2222222222222222,
              "#7201a8"
             ],
             [
              0.3333333333333333,
              "#9c179e"
             ],
             [
              0.4444444444444444,
              "#bd3786"
             ],
             [
              0.5555555555555556,
              "#d8576b"
             ],
             [
              0.6666666666666666,
              "#ed7953"
             ],
             [
              0.7777777777777778,
              "#fb9f3a"
             ],
             [
              0.8888888888888888,
              "#fdca26"
             ],
             [
              1,
              "#f0f921"
             ]
            ],
            "type": "histogram2d"
           }
          ],
          "histogram2dcontour": [
           {
            "colorbar": {
             "outlinewidth": 0,
             "ticks": ""
            },
            "colorscale": [
             [
              0,
              "#0d0887"
             ],
             [
              0.1111111111111111,
              "#46039f"
             ],
             [
              0.2222222222222222,
              "#7201a8"
             ],
             [
              0.3333333333333333,
              "#9c179e"
             ],
             [
              0.4444444444444444,
              "#bd3786"
             ],
             [
              0.5555555555555556,
              "#d8576b"
             ],
             [
              0.6666666666666666,
              "#ed7953"
             ],
             [
              0.7777777777777778,
              "#fb9f3a"
             ],
             [
              0.8888888888888888,
              "#fdca26"
             ],
             [
              1,
              "#f0f921"
             ]
            ],
            "type": "histogram2dcontour"
           }
          ],
          "mesh3d": [
           {
            "colorbar": {
             "outlinewidth": 0,
             "ticks": ""
            },
            "type": "mesh3d"
           }
          ],
          "parcoords": [
           {
            "line": {
             "colorbar": {
              "outlinewidth": 0,
              "ticks": ""
             }
            },
            "type": "parcoords"
           }
          ],
          "pie": [
           {
            "automargin": true,
            "type": "pie"
           }
          ],
          "scatter": [
           {
            "marker": {
             "colorbar": {
              "outlinewidth": 0,
              "ticks": ""
             }
            },
            "type": "scatter"
           }
          ],
          "scatter3d": [
           {
            "line": {
             "colorbar": {
              "outlinewidth": 0,
              "ticks": ""
             }
            },
            "marker": {
             "colorbar": {
              "outlinewidth": 0,
              "ticks": ""
             }
            },
            "type": "scatter3d"
           }
          ],
          "scattercarpet": [
           {
            "marker": {
             "colorbar": {
              "outlinewidth": 0,
              "ticks": ""
             }
            },
            "type": "scattercarpet"
           }
          ],
          "scattergeo": [
           {
            "marker": {
             "colorbar": {
              "outlinewidth": 0,
              "ticks": ""
             }
            },
            "type": "scattergeo"
           }
          ],
          "scattergl": [
           {
            "marker": {
             "colorbar": {
              "outlinewidth": 0,
              "ticks": ""
             }
            },
            "type": "scattergl"
           }
          ],
          "scattermapbox": [
           {
            "marker": {
             "colorbar": {
              "outlinewidth": 0,
              "ticks": ""
             }
            },
            "type": "scattermapbox"
           }
          ],
          "scatterpolar": [
           {
            "marker": {
             "colorbar": {
              "outlinewidth": 0,
              "ticks": ""
             }
            },
            "type": "scatterpolar"
           }
          ],
          "scatterpolargl": [
           {
            "marker": {
             "colorbar": {
              "outlinewidth": 0,
              "ticks": ""
             }
            },
            "type": "scatterpolargl"
           }
          ],
          "scatterternary": [
           {
            "marker": {
             "colorbar": {
              "outlinewidth": 0,
              "ticks": ""
             }
            },
            "type": "scatterternary"
           }
          ],
          "surface": [
           {
            "colorbar": {
             "outlinewidth": 0,
             "ticks": ""
            },
            "colorscale": [
             [
              0,
              "#0d0887"
             ],
             [
              0.1111111111111111,
              "#46039f"
             ],
             [
              0.2222222222222222,
              "#7201a8"
             ],
             [
              0.3333333333333333,
              "#9c179e"
             ],
             [
              0.4444444444444444,
              "#bd3786"
             ],
             [
              0.5555555555555556,
              "#d8576b"
             ],
             [
              0.6666666666666666,
              "#ed7953"
             ],
             [
              0.7777777777777778,
              "#fb9f3a"
             ],
             [
              0.8888888888888888,
              "#fdca26"
             ],
             [
              1,
              "#f0f921"
             ]
            ],
            "type": "surface"
           }
          ],
          "table": [
           {
            "cells": {
             "fill": {
              "color": "#EBF0F8"
             },
             "line": {
              "color": "white"
             }
            },
            "header": {
             "fill": {
              "color": "#C8D4E3"
             },
             "line": {
              "color": "white"
             }
            },
            "type": "table"
           }
          ]
         },
         "layout": {
          "annotationdefaults": {
           "arrowcolor": "#2a3f5f",
           "arrowhead": 0,
           "arrowwidth": 1
          },
          "coloraxis": {
           "colorbar": {
            "outlinewidth": 0,
            "ticks": ""
           }
          },
          "colorscale": {
           "diverging": [
            [
             0,
             "#8e0152"
            ],
            [
             0.1,
             "#c51b7d"
            ],
            [
             0.2,
             "#de77ae"
            ],
            [
             0.3,
             "#f1b6da"
            ],
            [
             0.4,
             "#fde0ef"
            ],
            [
             0.5,
             "#f7f7f7"
            ],
            [
             0.6,
             "#e6f5d0"
            ],
            [
             0.7,
             "#b8e186"
            ],
            [
             0.8,
             "#7fbc41"
            ],
            [
             0.9,
             "#4d9221"
            ],
            [
             1,
             "#276419"
            ]
           ],
           "sequential": [
            [
             0,
             "#0d0887"
            ],
            [
             0.1111111111111111,
             "#46039f"
            ],
            [
             0.2222222222222222,
             "#7201a8"
            ],
            [
             0.3333333333333333,
             "#9c179e"
            ],
            [
             0.4444444444444444,
             "#bd3786"
            ],
            [
             0.5555555555555556,
             "#d8576b"
            ],
            [
             0.6666666666666666,
             "#ed7953"
            ],
            [
             0.7777777777777778,
             "#fb9f3a"
            ],
            [
             0.8888888888888888,
             "#fdca26"
            ],
            [
             1,
             "#f0f921"
            ]
           ],
           "sequentialminus": [
            [
             0,
             "#0d0887"
            ],
            [
             0.1111111111111111,
             "#46039f"
            ],
            [
             0.2222222222222222,
             "#7201a8"
            ],
            [
             0.3333333333333333,
             "#9c179e"
            ],
            [
             0.4444444444444444,
             "#bd3786"
            ],
            [
             0.5555555555555556,
             "#d8576b"
            ],
            [
             0.6666666666666666,
             "#ed7953"
            ],
            [
             0.7777777777777778,
             "#fb9f3a"
            ],
            [
             0.8888888888888888,
             "#fdca26"
            ],
            [
             1,
             "#f0f921"
            ]
           ]
          },
          "colorway": [
           "#636efa",
           "#EF553B",
           "#00cc96",
           "#ab63fa",
           "#FFA15A",
           "#19d3f3",
           "#FF6692",
           "#B6E880",
           "#FF97FF",
           "#FECB52"
          ],
          "font": {
           "color": "#2a3f5f"
          },
          "geo": {
           "bgcolor": "white",
           "lakecolor": "white",
           "landcolor": "#E5ECF6",
           "showlakes": true,
           "showland": true,
           "subunitcolor": "white"
          },
          "hoverlabel": {
           "align": "left"
          },
          "hovermode": "closest",
          "mapbox": {
           "style": "light"
          },
          "paper_bgcolor": "white",
          "plot_bgcolor": "#E5ECF6",
          "polar": {
           "angularaxis": {
            "gridcolor": "white",
            "linecolor": "white",
            "ticks": ""
           },
           "bgcolor": "#E5ECF6",
           "radialaxis": {
            "gridcolor": "white",
            "linecolor": "white",
            "ticks": ""
           }
          },
          "scene": {
           "xaxis": {
            "backgroundcolor": "#E5ECF6",
            "gridcolor": "white",
            "gridwidth": 2,
            "linecolor": "white",
            "showbackground": true,
            "ticks": "",
            "zerolinecolor": "white"
           },
           "yaxis": {
            "backgroundcolor": "#E5ECF6",
            "gridcolor": "white",
            "gridwidth": 2,
            "linecolor": "white",
            "showbackground": true,
            "ticks": "",
            "zerolinecolor": "white"
           },
           "zaxis": {
            "backgroundcolor": "#E5ECF6",
            "gridcolor": "white",
            "gridwidth": 2,
            "linecolor": "white",
            "showbackground": true,
            "ticks": "",
            "zerolinecolor": "white"
           }
          },
          "shapedefaults": {
           "line": {
            "color": "#2a3f5f"
           }
          },
          "ternary": {
           "aaxis": {
            "gridcolor": "white",
            "linecolor": "white",
            "ticks": ""
           },
           "baxis": {
            "gridcolor": "white",
            "linecolor": "white",
            "ticks": ""
           },
           "bgcolor": "#E5ECF6",
           "caxis": {
            "gridcolor": "white",
            "linecolor": "white",
            "ticks": ""
           }
          },
          "title": {
           "x": 0.05
          },
          "xaxis": {
           "automargin": true,
           "gridcolor": "white",
           "linecolor": "white",
           "ticks": "",
           "title": {
            "standoff": 15
           },
           "zerolinecolor": "white",
           "zerolinewidth": 2
          },
          "yaxis": {
           "automargin": true,
           "gridcolor": "white",
           "linecolor": "white",
           "ticks": "",
           "title": {
            "standoff": 15
           },
           "zerolinecolor": "white",
           "zerolinewidth": 2
          }
         }
        },
        "xaxis": {
         "anchor": "y",
         "domain": [
          0,
          1
         ]
        },
        "yaxis": {
         "anchor": "x",
         "domain": [
          0,
          1
         ],
         "title": {
          "text": "test_acc"
         }
        }
       }
      }
     },
     "metadata": {},
     "output_type": "display_data"
    }
   ],
   "source": [
    "temp = df_exp2.loc[df_exp2.dataset == 'mnist']\n",
    "px.box(temp, y=\"test_acc\", color=\"initializer\")\n",
    "# px.box(temp, y=\"acc_per_step\", color=\"initializer\")\n"
   ]
  },
  {
   "cell_type": "code",
   "execution_count": 35,
   "metadata": {},
   "outputs": [
    {
     "data": {
      "application/vnd.plotly.v1+json": {
       "config": {
        "plotlyServerURL": "https://plot.ly"
       },
       "data": [
        {
         "alignmentgroup": "True",
         "hovertemplate": "initializer=naive<br>test_acc=%{y}<extra></extra>",
         "legendgroup": "naive",
         "marker": {
          "color": "#636efa"
         },
         "name": "naive",
         "notched": false,
         "offsetgroup": "naive",
         "orientation": "v",
         "showlegend": true,
         "type": "box",
         "x0": " ",
         "xaxis": "x",
         "y": [
          0.6290064102564102,
          0.6282051282051282,
          0.6484375,
          0.6478365384615384,
          0.6538461538461539,
          0.6596554487179487,
          0.6326121794871795,
          0.6466346153846154,
          0.6568509615384616,
          0.6416266025641025,
          0.6568509615384616,
          0.6344150641025641,
          0.6432291666666666,
          0.6502403846153846,
          0.6410256410256411,
          0.6424278846153846,
          0.6666666666666666,
          0.6522435897435898,
          0.6201923076923077,
          0.6356169871794872,
          0.6532451923076923,
          0.6572516025641025,
          0.4204727564102564,
          0.6342147435897436,
          0.6484375,
          0.6548477564102564,
          0.6264022435897436,
          0.6235977564102564,
          0.6402243589743589,
          0.6340144230769231,
          0.6422275641025641,
          0.6612580128205128,
          0.6454326923076923,
          0.6556490384615384,
          0.657051282051282,
          0.6486378205128205,
          0.6286057692307693,
          0.6466346153846154,
          0.657051282051282,
          0.6650641025641025,
          0.6280048076923077,
          0.6540464743589743,
          0.6508413461538461,
          0.6582532051282052,
          0.6378205128205128,
          0.6634615384615384,
          0.6316105769230769,
          0.6530448717948718,
          0.6382211538461539,
          0.6692708333333334,
          0.6318108974358975,
          0.6282051282051282,
          0.6302083333333334,
          0.6594551282051282,
          0.6542467948717948,
          0.6598557692307693,
          0.6642628205128205,
          0.6556490384615384,
          0.6260016025641025,
          0.6630608974358975,
          0.6502403846153846,
          0.6500400641025641,
          0.6298076923076923,
          0.6770833333333334,
          0.6266025641025641,
          0.6103766025641025,
          0.6157852564102564,
          0.6372195512820513,
          0.6446314102564102,
          0.6356169871794872,
          0.6518429487179487,
          0.6702724358974359,
          0.6544471153846154,
          0.6470352564102564,
          0.6696714743589743,
          0.6440304487179487,
          0.6540464743589743,
          0.6103766025641025,
          0.6368189102564102,
          0.6328125,
          0.6203926282051282,
          0.6402243589743589,
          0.6416266025641025,
          0.6684695512820513,
          0.6426282051282052,
          0.6458333333333334,
          0.6624599358974359,
          0.6466346153846154,
          0.600761217948718,
          0.6646634615384616,
          0.6546474358974359,
          0.6400240384615384,
          0.6638621794871795,
          0.6584535256410257,
          0.6468349358974359,
          0.6129807692307693,
          0.6111778846153846,
          0.6420272435897436,
          0.6348157051282052,
          0.641426282051282
         ],
         "y0": " ",
         "yaxis": "y"
        },
        {
         "alignmentgroup": "True",
         "hovertemplate": "initializer=glorot<br>test_acc=%{y}<extra></extra>",
         "legendgroup": "glorot",
         "marker": {
          "color": "#EF553B"
         },
         "name": "glorot",
         "notched": false,
         "offsetgroup": "glorot",
         "orientation": "v",
         "showlegend": true,
         "type": "box",
         "x0": " ",
         "xaxis": "x",
         "y": [
          0.6578525641025641,
          0.6268028846153846,
          0.6268028846153846,
          0.6348157051282052,
          0.6498397435897436,
          0.6272035256410257,
          0.6294070512820513,
          0.6676682692307693,
          0.6456330128205128,
          0.6436298076923077,
          0.6670673076923077,
          0.65625,
          0.6049679487179487,
          0.6466346153846154,
          0.6736778846153846,
          0.6612580128205128,
          0.6394230769230769,
          0.6642628205128205,
          0.6630608974358975,
          0.6484375,
          0.6394230769230769,
          0.6668669871794872,
          0.6586538461538461,
          0.6428285256410257,
          0.641426282051282,
          0.6334134615384616,
          0.6728766025641025,
          0.5004006410256411,
          0.6332131410256411,
          0.657051282051282,
          0.6602564102564102,
          0.6448317307692307,
          0.6370192307692307,
          0.6027644230769231,
          0.6416266025641025,
          0.6590544871794872,
          0.6572516025641025,
          0.641426282051282,
          0.6382211538461539,
          0.6512419871794872,
          0.6284054487179487,
          0.6468349358974359,
          0.6556490384615384,
          0.6219951923076923,
          0.6306089743589743,
          0.6486378205128205,
          0.6199919871794872,
          0.5618990384615384,
          0.6604567307692307,
          0.6640625,
          0.6500400641025641,
          0.6502403846153846,
          0.5873397435897436,
          0.6598557692307693,
          0.6282051282051282,
          0.6662660256410257,
          0.6510416666666666,
          0.6474358974358975,
          0.6400240384615384,
          0.6540464743589743,
          0.6410256410256411,
          0.6508413461538461,
          0.640625,
          0.6530448717948718,
          0.6446314102564102,
          0.6440304487179487,
          0.6302083333333334,
          0.6378205128205128,
          0.6432291666666666,
          0.6538461538461539,
          0.6316105769230769,
          0.6578525641025641,
          0.6526442307692307,
          0.6322115384615384,
          0.6536458333333334,
          0.6626602564102564,
          0.6548477564102564,
          0.6514423076923077,
          0.6392227564102564,
          0.6109775641025641,
          0.6652644230769231,
          0.6592548076923077,
          0.6446314102564102,
          0.6692708333333334,
          0.6604567307692307,
          0.6542467948717948,
          0.6600560897435898,
          0.6420272435897436,
          0.6310096153846154,
          0.6390224358974359,
          0.6552483974358975,
          0.6482371794871795,
          0.6462339743589743,
          0.6542467948717948,
          0.6468349358974359,
          0.6360176282051282,
          0.6462339743589743,
          0.6390224358974359,
          0.6612580128205128,
          0.6378205128205128
         ],
         "y0": " ",
         "yaxis": "y"
        }
       ],
       "layout": {
        "boxmode": "group",
        "legend": {
         "title": {
          "text": "initializer"
         },
         "tracegroupgap": 0
        },
        "margin": {
         "t": 60
        },
        "template": {
         "data": {
          "bar": [
           {
            "error_x": {
             "color": "#2a3f5f"
            },
            "error_y": {
             "color": "#2a3f5f"
            },
            "marker": {
             "line": {
              "color": "#E5ECF6",
              "width": 0.5
             }
            },
            "type": "bar"
           }
          ],
          "barpolar": [
           {
            "marker": {
             "line": {
              "color": "#E5ECF6",
              "width": 0.5
             }
            },
            "type": "barpolar"
           }
          ],
          "carpet": [
           {
            "aaxis": {
             "endlinecolor": "#2a3f5f",
             "gridcolor": "white",
             "linecolor": "white",
             "minorgridcolor": "white",
             "startlinecolor": "#2a3f5f"
            },
            "baxis": {
             "endlinecolor": "#2a3f5f",
             "gridcolor": "white",
             "linecolor": "white",
             "minorgridcolor": "white",
             "startlinecolor": "#2a3f5f"
            },
            "type": "carpet"
           }
          ],
          "choropleth": [
           {
            "colorbar": {
             "outlinewidth": 0,
             "ticks": ""
            },
            "type": "choropleth"
           }
          ],
          "contour": [
           {
            "colorbar": {
             "outlinewidth": 0,
             "ticks": ""
            },
            "colorscale": [
             [
              0,
              "#0d0887"
             ],
             [
              0.1111111111111111,
              "#46039f"
             ],
             [
              0.2222222222222222,
              "#7201a8"
             ],
             [
              0.3333333333333333,
              "#9c179e"
             ],
             [
              0.4444444444444444,
              "#bd3786"
             ],
             [
              0.5555555555555556,
              "#d8576b"
             ],
             [
              0.6666666666666666,
              "#ed7953"
             ],
             [
              0.7777777777777778,
              "#fb9f3a"
             ],
             [
              0.8888888888888888,
              "#fdca26"
             ],
             [
              1,
              "#f0f921"
             ]
            ],
            "type": "contour"
           }
          ],
          "contourcarpet": [
           {
            "colorbar": {
             "outlinewidth": 0,
             "ticks": ""
            },
            "type": "contourcarpet"
           }
          ],
          "heatmap": [
           {
            "colorbar": {
             "outlinewidth": 0,
             "ticks": ""
            },
            "colorscale": [
             [
              0,
              "#0d0887"
             ],
             [
              0.1111111111111111,
              "#46039f"
             ],
             [
              0.2222222222222222,
              "#7201a8"
             ],
             [
              0.3333333333333333,
              "#9c179e"
             ],
             [
              0.4444444444444444,
              "#bd3786"
             ],
             [
              0.5555555555555556,
              "#d8576b"
             ],
             [
              0.6666666666666666,
              "#ed7953"
             ],
             [
              0.7777777777777778,
              "#fb9f3a"
             ],
             [
              0.8888888888888888,
              "#fdca26"
             ],
             [
              1,
              "#f0f921"
             ]
            ],
            "type": "heatmap"
           }
          ],
          "heatmapgl": [
           {
            "colorbar": {
             "outlinewidth": 0,
             "ticks": ""
            },
            "colorscale": [
             [
              0,
              "#0d0887"
             ],
             [
              0.1111111111111111,
              "#46039f"
             ],
             [
              0.2222222222222222,
              "#7201a8"
             ],
             [
              0.3333333333333333,
              "#9c179e"
             ],
             [
              0.4444444444444444,
              "#bd3786"
             ],
             [
              0.5555555555555556,
              "#d8576b"
             ],
             [
              0.6666666666666666,
              "#ed7953"
             ],
             [
              0.7777777777777778,
              "#fb9f3a"
             ],
             [
              0.8888888888888888,
              "#fdca26"
             ],
             [
              1,
              "#f0f921"
             ]
            ],
            "type": "heatmapgl"
           }
          ],
          "histogram": [
           {
            "marker": {
             "colorbar": {
              "outlinewidth": 0,
              "ticks": ""
             }
            },
            "type": "histogram"
           }
          ],
          "histogram2d": [
           {
            "colorbar": {
             "outlinewidth": 0,
             "ticks": ""
            },
            "colorscale": [
             [
              0,
              "#0d0887"
             ],
             [
              0.1111111111111111,
              "#46039f"
             ],
             [
              0.2222222222222222,
              "#7201a8"
             ],
             [
              0.3333333333333333,
              "#9c179e"
             ],
             [
              0.4444444444444444,
              "#bd3786"
             ],
             [
              0.5555555555555556,
              "#d8576b"
             ],
             [
              0.6666666666666666,
              "#ed7953"
             ],
             [
              0.7777777777777778,
              "#fb9f3a"
             ],
             [
              0.8888888888888888,
              "#fdca26"
             ],
             [
              1,
              "#f0f921"
             ]
            ],
            "type": "histogram2d"
           }
          ],
          "histogram2dcontour": [
           {
            "colorbar": {
             "outlinewidth": 0,
             "ticks": ""
            },
            "colorscale": [
             [
              0,
              "#0d0887"
             ],
             [
              0.1111111111111111,
              "#46039f"
             ],
             [
              0.2222222222222222,
              "#7201a8"
             ],
             [
              0.3333333333333333,
              "#9c179e"
             ],
             [
              0.4444444444444444,
              "#bd3786"
             ],
             [
              0.5555555555555556,
              "#d8576b"
             ],
             [
              0.6666666666666666,
              "#ed7953"
             ],
             [
              0.7777777777777778,
              "#fb9f3a"
             ],
             [
              0.8888888888888888,
              "#fdca26"
             ],
             [
              1,
              "#f0f921"
             ]
            ],
            "type": "histogram2dcontour"
           }
          ],
          "mesh3d": [
           {
            "colorbar": {
             "outlinewidth": 0,
             "ticks": ""
            },
            "type": "mesh3d"
           }
          ],
          "parcoords": [
           {
            "line": {
             "colorbar": {
              "outlinewidth": 0,
              "ticks": ""
             }
            },
            "type": "parcoords"
           }
          ],
          "pie": [
           {
            "automargin": true,
            "type": "pie"
           }
          ],
          "scatter": [
           {
            "marker": {
             "colorbar": {
              "outlinewidth": 0,
              "ticks": ""
             }
            },
            "type": "scatter"
           }
          ],
          "scatter3d": [
           {
            "line": {
             "colorbar": {
              "outlinewidth": 0,
              "ticks": ""
             }
            },
            "marker": {
             "colorbar": {
              "outlinewidth": 0,
              "ticks": ""
             }
            },
            "type": "scatter3d"
           }
          ],
          "scattercarpet": [
           {
            "marker": {
             "colorbar": {
              "outlinewidth": 0,
              "ticks": ""
             }
            },
            "type": "scattercarpet"
           }
          ],
          "scattergeo": [
           {
            "marker": {
             "colorbar": {
              "outlinewidth": 0,
              "ticks": ""
             }
            },
            "type": "scattergeo"
           }
          ],
          "scattergl": [
           {
            "marker": {
             "colorbar": {
              "outlinewidth": 0,
              "ticks": ""
             }
            },
            "type": "scattergl"
           }
          ],
          "scattermapbox": [
           {
            "marker": {
             "colorbar": {
              "outlinewidth": 0,
              "ticks": ""
             }
            },
            "type": "scattermapbox"
           }
          ],
          "scatterpolar": [
           {
            "marker": {
             "colorbar": {
              "outlinewidth": 0,
              "ticks": ""
             }
            },
            "type": "scatterpolar"
           }
          ],
          "scatterpolargl": [
           {
            "marker": {
             "colorbar": {
              "outlinewidth": 0,
              "ticks": ""
             }
            },
            "type": "scatterpolargl"
           }
          ],
          "scatterternary": [
           {
            "marker": {
             "colorbar": {
              "outlinewidth": 0,
              "ticks": ""
             }
            },
            "type": "scatterternary"
           }
          ],
          "surface": [
           {
            "colorbar": {
             "outlinewidth": 0,
             "ticks": ""
            },
            "colorscale": [
             [
              0,
              "#0d0887"
             ],
             [
              0.1111111111111111,
              "#46039f"
             ],
             [
              0.2222222222222222,
              "#7201a8"
             ],
             [
              0.3333333333333333,
              "#9c179e"
             ],
             [
              0.4444444444444444,
              "#bd3786"
             ],
             [
              0.5555555555555556,
              "#d8576b"
             ],
             [
              0.6666666666666666,
              "#ed7953"
             ],
             [
              0.7777777777777778,
              "#fb9f3a"
             ],
             [
              0.8888888888888888,
              "#fdca26"
             ],
             [
              1,
              "#f0f921"
             ]
            ],
            "type": "surface"
           }
          ],
          "table": [
           {
            "cells": {
             "fill": {
              "color": "#EBF0F8"
             },
             "line": {
              "color": "white"
             }
            },
            "header": {
             "fill": {
              "color": "#C8D4E3"
             },
             "line": {
              "color": "white"
             }
            },
            "type": "table"
           }
          ]
         },
         "layout": {
          "annotationdefaults": {
           "arrowcolor": "#2a3f5f",
           "arrowhead": 0,
           "arrowwidth": 1
          },
          "coloraxis": {
           "colorbar": {
            "outlinewidth": 0,
            "ticks": ""
           }
          },
          "colorscale": {
           "diverging": [
            [
             0,
             "#8e0152"
            ],
            [
             0.1,
             "#c51b7d"
            ],
            [
             0.2,
             "#de77ae"
            ],
            [
             0.3,
             "#f1b6da"
            ],
            [
             0.4,
             "#fde0ef"
            ],
            [
             0.5,
             "#f7f7f7"
            ],
            [
             0.6,
             "#e6f5d0"
            ],
            [
             0.7,
             "#b8e186"
            ],
            [
             0.8,
             "#7fbc41"
            ],
            [
             0.9,
             "#4d9221"
            ],
            [
             1,
             "#276419"
            ]
           ],
           "sequential": [
            [
             0,
             "#0d0887"
            ],
            [
             0.1111111111111111,
             "#46039f"
            ],
            [
             0.2222222222222222,
             "#7201a8"
            ],
            [
             0.3333333333333333,
             "#9c179e"
            ],
            [
             0.4444444444444444,
             "#bd3786"
            ],
            [
             0.5555555555555556,
             "#d8576b"
            ],
            [
             0.6666666666666666,
             "#ed7953"
            ],
            [
             0.7777777777777778,
             "#fb9f3a"
            ],
            [
             0.8888888888888888,
             "#fdca26"
            ],
            [
             1,
             "#f0f921"
            ]
           ],
           "sequentialminus": [
            [
             0,
             "#0d0887"
            ],
            [
             0.1111111111111111,
             "#46039f"
            ],
            [
             0.2222222222222222,
             "#7201a8"
            ],
            [
             0.3333333333333333,
             "#9c179e"
            ],
            [
             0.4444444444444444,
             "#bd3786"
            ],
            [
             0.5555555555555556,
             "#d8576b"
            ],
            [
             0.6666666666666666,
             "#ed7953"
            ],
            [
             0.7777777777777778,
             "#fb9f3a"
            ],
            [
             0.8888888888888888,
             "#fdca26"
            ],
            [
             1,
             "#f0f921"
            ]
           ]
          },
          "colorway": [
           "#636efa",
           "#EF553B",
           "#00cc96",
           "#ab63fa",
           "#FFA15A",
           "#19d3f3",
           "#FF6692",
           "#B6E880",
           "#FF97FF",
           "#FECB52"
          ],
          "font": {
           "color": "#2a3f5f"
          },
          "geo": {
           "bgcolor": "white",
           "lakecolor": "white",
           "landcolor": "#E5ECF6",
           "showlakes": true,
           "showland": true,
           "subunitcolor": "white"
          },
          "hoverlabel": {
           "align": "left"
          },
          "hovermode": "closest",
          "mapbox": {
           "style": "light"
          },
          "paper_bgcolor": "white",
          "plot_bgcolor": "#E5ECF6",
          "polar": {
           "angularaxis": {
            "gridcolor": "white",
            "linecolor": "white",
            "ticks": ""
           },
           "bgcolor": "#E5ECF6",
           "radialaxis": {
            "gridcolor": "white",
            "linecolor": "white",
            "ticks": ""
           }
          },
          "scene": {
           "xaxis": {
            "backgroundcolor": "#E5ECF6",
            "gridcolor": "white",
            "gridwidth": 2,
            "linecolor": "white",
            "showbackground": true,
            "ticks": "",
            "zerolinecolor": "white"
           },
           "yaxis": {
            "backgroundcolor": "#E5ECF6",
            "gridcolor": "white",
            "gridwidth": 2,
            "linecolor": "white",
            "showbackground": true,
            "ticks": "",
            "zerolinecolor": "white"
           },
           "zaxis": {
            "backgroundcolor": "#E5ECF6",
            "gridcolor": "white",
            "gridwidth": 2,
            "linecolor": "white",
            "showbackground": true,
            "ticks": "",
            "zerolinecolor": "white"
           }
          },
          "shapedefaults": {
           "line": {
            "color": "#2a3f5f"
           }
          },
          "ternary": {
           "aaxis": {
            "gridcolor": "white",
            "linecolor": "white",
            "ticks": ""
           },
           "baxis": {
            "gridcolor": "white",
            "linecolor": "white",
            "ticks": ""
           },
           "bgcolor": "#E5ECF6",
           "caxis": {
            "gridcolor": "white",
            "linecolor": "white",
            "ticks": ""
           }
          },
          "title": {
           "x": 0.05
          },
          "xaxis": {
           "automargin": true,
           "gridcolor": "white",
           "linecolor": "white",
           "ticks": "",
           "title": {
            "standoff": 15
           },
           "zerolinecolor": "white",
           "zerolinewidth": 2
          },
          "yaxis": {
           "automargin": true,
           "gridcolor": "white",
           "linecolor": "white",
           "ticks": "",
           "title": {
            "standoff": 15
           },
           "zerolinecolor": "white",
           "zerolinewidth": 2
          }
         }
        },
        "xaxis": {
         "anchor": "y",
         "domain": [
          0,
          1
         ]
        },
        "yaxis": {
         "anchor": "x",
         "domain": [
          0,
          1
         ],
         "title": {
          "text": "test_acc"
         }
        }
       }
      }
     },
     "metadata": {},
     "output_type": "display_data"
    }
   ],
   "source": [
    "temp = df_exp2.loc[df_exp2.dataset == 'cifar10']\n",
    "px.box(temp, y=\"test_acc\", color=\"initializer\")\n",
    "# px.box(temp, y=\"acc_per_step\", color=\"initializer\")"
   ]
  },
  {
   "cell_type": "code",
   "execution_count": 36,
   "metadata": {},
   "outputs": [
    {
     "data": {
      "application/vnd.plotly.v1+json": {
       "config": {
        "plotlyServerURL": "https://plot.ly"
       },
       "data": [
        {
         "alignmentgroup": "True",
         "hovertemplate": "initializer=naive<br>test_acc=%{y}<extra></extra>",
         "legendgroup": "naive",
         "marker": {
          "color": "#636efa"
         },
         "name": "naive",
         "notched": false,
         "offsetgroup": "naive",
         "orientation": "v",
         "showlegend": true,
         "type": "box",
         "x0": " ",
         "xaxis": "x",
         "y": [
          0.8960336538461539,
          0.8978365384615384,
          0.8956330128205128,
          0.8994391025641025,
          0.8926282051282052,
          0.883613782051282,
          0.8892227564102564,
          0.8950320512820513,
          0.8966346153846154,
          0.8944310897435898,
          0.8868189102564102,
          0.8970352564102564,
          0.9048477564102564,
          0.8908253205128205,
          0.8956330128205128,
          0.9018429487179487,
          0.9034455128205128,
          0.8958333333333334,
          0.9042467948717948,
          0.897636217948718,
          0.8960336538461539,
          0.9008413461538461,
          0.8980368589743589,
          0.9030448717948718,
          0.9016426282051282,
          0.9046474358974359,
          0.8954326923076923,
          0.9032451923076923,
          0.8970352564102564,
          0.8986378205128205,
          0.8964342948717948,
          0.8936298076923077,
          0.8938301282051282,
          0.8948317307692307,
          0.9010416666666666,
          0.8932291666666666,
          0.8996394230769231,
          0.8924278846153846,
          0.9002403846153846,
          0.9002403846153846,
          0.8994391025641025,
          0.9000400641025641,
          0.8938301282051282,
          0.8896233974358975,
          0.8958333333333334,
          0.9018429487179487,
          0.8954326923076923,
          0.9026442307692307,
          0.8984375,
          0.9026442307692307,
          0.8966346153846154,
          0.8924278846153846,
          0.8966346153846154,
          0.8964342948717948,
          0.8964342948717948,
          0.9030448717948718,
          0.8986378205128205,
          0.8972355769230769,
          0.8956330128205128,
          0.8928285256410257,
          0.9022435897435898,
          0.8892227564102564,
          0.9038461538461539,
          0.8936298076923077,
          0.8858173076923077,
          0.8996394230769231,
          0.9032451923076923,
          0.8962339743589743,
          0.8926282051282052,
          0.8972355769230769,
          0.8948317307692307,
          0.8994391025641025,
          0.8868189102564102,
          0.8934294871794872,
          0.897636217948718,
          0.8984375,
          0.9010416666666666,
          0.8968349358974359,
          0.8954326923076923,
          0.9056490384615384,
          0.8597756410256411,
          0.8974358974358975,
          0.8948317307692307,
          0.9028445512820513,
          0.8958333333333334,
          0.8930288461538461,
          0.8930288461538461,
          0.8912259615384616,
          0.8942307692307693,
          0.8942307692307693,
          0.8938301282051282,
          0.8948317307692307,
          0.8954326923076923,
          0.8938301282051282,
          0.8974358974358975,
          0.899238782051282,
          0.9008413461538461,
          0.8982371794871795,
          0.8940304487179487,
          0.9018429487179487
         ],
         "y0": " ",
         "yaxis": "y"
        },
        {
         "alignmentgroup": "True",
         "hovertemplate": "initializer=glorot<br>test_acc=%{y}<extra></extra>",
         "legendgroup": "glorot",
         "marker": {
          "color": "#EF553B"
         },
         "name": "glorot",
         "notched": false,
         "offsetgroup": "glorot",
         "orientation": "v",
         "showlegend": true,
         "type": "box",
         "x0": " ",
         "xaxis": "x",
         "y": [
          0.8978365384615384,
          0.9038461538461539,
          0.8994391025641025,
          0.8944310897435898,
          0.8988381410256411,
          0.9036458333333334,
          0.9064503205128205,
          0.8980368589743589,
          0.8966346153846154,
          0.8954326923076923,
          0.8986378205128205,
          0.8966346153846154,
          0.9002403846153846,
          0.8962339743589743,
          0.8966346153846154,
          0.9004407051282052,
          0.8928285256410257,
          0.9006410256410257,
          0.8936298076923077,
          0.8962339743589743,
          0.8970352564102564,
          0.8890224358974359,
          0.8924278846153846,
          0.9066506410256411,
          0.9004407051282052,
          0.8968349358974359,
          0.8878205128205128,
          0.8962339743589743,
          0.8988381410256411,
          0.9014423076923077,
          0.883613782051282,
          0.8924278846153846,
          0.897636217948718,
          0.9012419871794872,
          0.9002403846153846,
          0.9012419871794872,
          0.889823717948718,
          0.8894230769230769,
          0.8876201923076923,
          0.8954326923076923,
          0.8940304487179487,
          0.9012419871794872,
          0.8924278846153846,
          0.8954326923076923,
          0.891426282051282,
          0.8950320512820513,
          0.8900240384615384,
          0.8900240384615384,
          0.8966346153846154,
          0.9010416666666666,
          0.8900240384615384,
          0.8958333333333334,
          0.8944310897435898,
          0.8936298076923077,
          0.8946314102564102,
          0.8962339743589743,
          0.8960336538461539,
          0.891426282051282,
          0.8988381410256411,
          0.8954326923076923,
          0.9002403846153846,
          0.9032451923076923,
          0.9042467948717948,
          0.9018429487179487,
          0.8988381410256411,
          0.8960336538461539,
          0.8990384615384616,
          0.8952323717948718,
          0.8249198717948718,
          0.9036458333333334,
          0.8916266025641025,
          0.8998397435897436,
          0.8942307692307693,
          0.8988381410256411,
          0.8950320512820513,
          0.8982371794871795,
          0.8874198717948718,
          0.8896233974358975,
          0.8922275641025641,
          0.8940304487179487,
          0.8948317307692307,
          0.8996394230769231,
          0.8960336538461539,
          0.8974358974358975,
          0.8910256410256411,
          0.9014423076923077,
          0.8962339743589743,
          0.8950320512820513,
          0.897636217948718,
          0.8950320512820513,
          0.8970352564102564,
          0.8996394230769231,
          0.8940304487179487,
          0.9000400641025641,
          0.8932291666666666,
          0.8908253205128205,
          0.8890224358974359,
          0.897636217948718,
          0.8986378205128205,
          0.889823717948718
         ],
         "y0": " ",
         "yaxis": "y"
        }
       ],
       "layout": {
        "boxmode": "group",
        "legend": {
         "title": {
          "text": "initializer"
         },
         "tracegroupgap": 0
        },
        "margin": {
         "t": 60
        },
        "template": {
         "data": {
          "bar": [
           {
            "error_x": {
             "color": "#2a3f5f"
            },
            "error_y": {
             "color": "#2a3f5f"
            },
            "marker": {
             "line": {
              "color": "#E5ECF6",
              "width": 0.5
             }
            },
            "type": "bar"
           }
          ],
          "barpolar": [
           {
            "marker": {
             "line": {
              "color": "#E5ECF6",
              "width": 0.5
             }
            },
            "type": "barpolar"
           }
          ],
          "carpet": [
           {
            "aaxis": {
             "endlinecolor": "#2a3f5f",
             "gridcolor": "white",
             "linecolor": "white",
             "minorgridcolor": "white",
             "startlinecolor": "#2a3f5f"
            },
            "baxis": {
             "endlinecolor": "#2a3f5f",
             "gridcolor": "white",
             "linecolor": "white",
             "minorgridcolor": "white",
             "startlinecolor": "#2a3f5f"
            },
            "type": "carpet"
           }
          ],
          "choropleth": [
           {
            "colorbar": {
             "outlinewidth": 0,
             "ticks": ""
            },
            "type": "choropleth"
           }
          ],
          "contour": [
           {
            "colorbar": {
             "outlinewidth": 0,
             "ticks": ""
            },
            "colorscale": [
             [
              0,
              "#0d0887"
             ],
             [
              0.1111111111111111,
              "#46039f"
             ],
             [
              0.2222222222222222,
              "#7201a8"
             ],
             [
              0.3333333333333333,
              "#9c179e"
             ],
             [
              0.4444444444444444,
              "#bd3786"
             ],
             [
              0.5555555555555556,
              "#d8576b"
             ],
             [
              0.6666666666666666,
              "#ed7953"
             ],
             [
              0.7777777777777778,
              "#fb9f3a"
             ],
             [
              0.8888888888888888,
              "#fdca26"
             ],
             [
              1,
              "#f0f921"
             ]
            ],
            "type": "contour"
           }
          ],
          "contourcarpet": [
           {
            "colorbar": {
             "outlinewidth": 0,
             "ticks": ""
            },
            "type": "contourcarpet"
           }
          ],
          "heatmap": [
           {
            "colorbar": {
             "outlinewidth": 0,
             "ticks": ""
            },
            "colorscale": [
             [
              0,
              "#0d0887"
             ],
             [
              0.1111111111111111,
              "#46039f"
             ],
             [
              0.2222222222222222,
              "#7201a8"
             ],
             [
              0.3333333333333333,
              "#9c179e"
             ],
             [
              0.4444444444444444,
              "#bd3786"
             ],
             [
              0.5555555555555556,
              "#d8576b"
             ],
             [
              0.6666666666666666,
              "#ed7953"
             ],
             [
              0.7777777777777778,
              "#fb9f3a"
             ],
             [
              0.8888888888888888,
              "#fdca26"
             ],
             [
              1,
              "#f0f921"
             ]
            ],
            "type": "heatmap"
           }
          ],
          "heatmapgl": [
           {
            "colorbar": {
             "outlinewidth": 0,
             "ticks": ""
            },
            "colorscale": [
             [
              0,
              "#0d0887"
             ],
             [
              0.1111111111111111,
              "#46039f"
             ],
             [
              0.2222222222222222,
              "#7201a8"
             ],
             [
              0.3333333333333333,
              "#9c179e"
             ],
             [
              0.4444444444444444,
              "#bd3786"
             ],
             [
              0.5555555555555556,
              "#d8576b"
             ],
             [
              0.6666666666666666,
              "#ed7953"
             ],
             [
              0.7777777777777778,
              "#fb9f3a"
             ],
             [
              0.8888888888888888,
              "#fdca26"
             ],
             [
              1,
              "#f0f921"
             ]
            ],
            "type": "heatmapgl"
           }
          ],
          "histogram": [
           {
            "marker": {
             "colorbar": {
              "outlinewidth": 0,
              "ticks": ""
             }
            },
            "type": "histogram"
           }
          ],
          "histogram2d": [
           {
            "colorbar": {
             "outlinewidth": 0,
             "ticks": ""
            },
            "colorscale": [
             [
              0,
              "#0d0887"
             ],
             [
              0.1111111111111111,
              "#46039f"
             ],
             [
              0.2222222222222222,
              "#7201a8"
             ],
             [
              0.3333333333333333,
              "#9c179e"
             ],
             [
              0.4444444444444444,
              "#bd3786"
             ],
             [
              0.5555555555555556,
              "#d8576b"
             ],
             [
              0.6666666666666666,
              "#ed7953"
             ],
             [
              0.7777777777777778,
              "#fb9f3a"
             ],
             [
              0.8888888888888888,
              "#fdca26"
             ],
             [
              1,
              "#f0f921"
             ]
            ],
            "type": "histogram2d"
           }
          ],
          "histogram2dcontour": [
           {
            "colorbar": {
             "outlinewidth": 0,
             "ticks": ""
            },
            "colorscale": [
             [
              0,
              "#0d0887"
             ],
             [
              0.1111111111111111,
              "#46039f"
             ],
             [
              0.2222222222222222,
              "#7201a8"
             ],
             [
              0.3333333333333333,
              "#9c179e"
             ],
             [
              0.4444444444444444,
              "#bd3786"
             ],
             [
              0.5555555555555556,
              "#d8576b"
             ],
             [
              0.6666666666666666,
              "#ed7953"
             ],
             [
              0.7777777777777778,
              "#fb9f3a"
             ],
             [
              0.8888888888888888,
              "#fdca26"
             ],
             [
              1,
              "#f0f921"
             ]
            ],
            "type": "histogram2dcontour"
           }
          ],
          "mesh3d": [
           {
            "colorbar": {
             "outlinewidth": 0,
             "ticks": ""
            },
            "type": "mesh3d"
           }
          ],
          "parcoords": [
           {
            "line": {
             "colorbar": {
              "outlinewidth": 0,
              "ticks": ""
             }
            },
            "type": "parcoords"
           }
          ],
          "pie": [
           {
            "automargin": true,
            "type": "pie"
           }
          ],
          "scatter": [
           {
            "marker": {
             "colorbar": {
              "outlinewidth": 0,
              "ticks": ""
             }
            },
            "type": "scatter"
           }
          ],
          "scatter3d": [
           {
            "line": {
             "colorbar": {
              "outlinewidth": 0,
              "ticks": ""
             }
            },
            "marker": {
             "colorbar": {
              "outlinewidth": 0,
              "ticks": ""
             }
            },
            "type": "scatter3d"
           }
          ],
          "scattercarpet": [
           {
            "marker": {
             "colorbar": {
              "outlinewidth": 0,
              "ticks": ""
             }
            },
            "type": "scattercarpet"
           }
          ],
          "scattergeo": [
           {
            "marker": {
             "colorbar": {
              "outlinewidth": 0,
              "ticks": ""
             }
            },
            "type": "scattergeo"
           }
          ],
          "scattergl": [
           {
            "marker": {
             "colorbar": {
              "outlinewidth": 0,
              "ticks": ""
             }
            },
            "type": "scattergl"
           }
          ],
          "scattermapbox": [
           {
            "marker": {
             "colorbar": {
              "outlinewidth": 0,
              "ticks": ""
             }
            },
            "type": "scattermapbox"
           }
          ],
          "scatterpolar": [
           {
            "marker": {
             "colorbar": {
              "outlinewidth": 0,
              "ticks": ""
             }
            },
            "type": "scatterpolar"
           }
          ],
          "scatterpolargl": [
           {
            "marker": {
             "colorbar": {
              "outlinewidth": 0,
              "ticks": ""
             }
            },
            "type": "scatterpolargl"
           }
          ],
          "scatterternary": [
           {
            "marker": {
             "colorbar": {
              "outlinewidth": 0,
              "ticks": ""
             }
            },
            "type": "scatterternary"
           }
          ],
          "surface": [
           {
            "colorbar": {
             "outlinewidth": 0,
             "ticks": ""
            },
            "colorscale": [
             [
              0,
              "#0d0887"
             ],
             [
              0.1111111111111111,
              "#46039f"
             ],
             [
              0.2222222222222222,
              "#7201a8"
             ],
             [
              0.3333333333333333,
              "#9c179e"
             ],
             [
              0.4444444444444444,
              "#bd3786"
             ],
             [
              0.5555555555555556,
              "#d8576b"
             ],
             [
              0.6666666666666666,
              "#ed7953"
             ],
             [
              0.7777777777777778,
              "#fb9f3a"
             ],
             [
              0.8888888888888888,
              "#fdca26"
             ],
             [
              1,
              "#f0f921"
             ]
            ],
            "type": "surface"
           }
          ],
          "table": [
           {
            "cells": {
             "fill": {
              "color": "#EBF0F8"
             },
             "line": {
              "color": "white"
             }
            },
            "header": {
             "fill": {
              "color": "#C8D4E3"
             },
             "line": {
              "color": "white"
             }
            },
            "type": "table"
           }
          ]
         },
         "layout": {
          "annotationdefaults": {
           "arrowcolor": "#2a3f5f",
           "arrowhead": 0,
           "arrowwidth": 1
          },
          "coloraxis": {
           "colorbar": {
            "outlinewidth": 0,
            "ticks": ""
           }
          },
          "colorscale": {
           "diverging": [
            [
             0,
             "#8e0152"
            ],
            [
             0.1,
             "#c51b7d"
            ],
            [
             0.2,
             "#de77ae"
            ],
            [
             0.3,
             "#f1b6da"
            ],
            [
             0.4,
             "#fde0ef"
            ],
            [
             0.5,
             "#f7f7f7"
            ],
            [
             0.6,
             "#e6f5d0"
            ],
            [
             0.7,
             "#b8e186"
            ],
            [
             0.8,
             "#7fbc41"
            ],
            [
             0.9,
             "#4d9221"
            ],
            [
             1,
             "#276419"
            ]
           ],
           "sequential": [
            [
             0,
             "#0d0887"
            ],
            [
             0.1111111111111111,
             "#46039f"
            ],
            [
             0.2222222222222222,
             "#7201a8"
            ],
            [
             0.3333333333333333,
             "#9c179e"
            ],
            [
             0.4444444444444444,
             "#bd3786"
            ],
            [
             0.5555555555555556,
             "#d8576b"
            ],
            [
             0.6666666666666666,
             "#ed7953"
            ],
            [
             0.7777777777777778,
             "#fb9f3a"
            ],
            [
             0.8888888888888888,
             "#fdca26"
            ],
            [
             1,
             "#f0f921"
            ]
           ],
           "sequentialminus": [
            [
             0,
             "#0d0887"
            ],
            [
             0.1111111111111111,
             "#46039f"
            ],
            [
             0.2222222222222222,
             "#7201a8"
            ],
            [
             0.3333333333333333,
             "#9c179e"
            ],
            [
             0.4444444444444444,
             "#bd3786"
            ],
            [
             0.5555555555555556,
             "#d8576b"
            ],
            [
             0.6666666666666666,
             "#ed7953"
            ],
            [
             0.7777777777777778,
             "#fb9f3a"
            ],
            [
             0.8888888888888888,
             "#fdca26"
            ],
            [
             1,
             "#f0f921"
            ]
           ]
          },
          "colorway": [
           "#636efa",
           "#EF553B",
           "#00cc96",
           "#ab63fa",
           "#FFA15A",
           "#19d3f3",
           "#FF6692",
           "#B6E880",
           "#FF97FF",
           "#FECB52"
          ],
          "font": {
           "color": "#2a3f5f"
          },
          "geo": {
           "bgcolor": "white",
           "lakecolor": "white",
           "landcolor": "#E5ECF6",
           "showlakes": true,
           "showland": true,
           "subunitcolor": "white"
          },
          "hoverlabel": {
           "align": "left"
          },
          "hovermode": "closest",
          "mapbox": {
           "style": "light"
          },
          "paper_bgcolor": "white",
          "plot_bgcolor": "#E5ECF6",
          "polar": {
           "angularaxis": {
            "gridcolor": "white",
            "linecolor": "white",
            "ticks": ""
           },
           "bgcolor": "#E5ECF6",
           "radialaxis": {
            "gridcolor": "white",
            "linecolor": "white",
            "ticks": ""
           }
          },
          "scene": {
           "xaxis": {
            "backgroundcolor": "#E5ECF6",
            "gridcolor": "white",
            "gridwidth": 2,
            "linecolor": "white",
            "showbackground": true,
            "ticks": "",
            "zerolinecolor": "white"
           },
           "yaxis": {
            "backgroundcolor": "#E5ECF6",
            "gridcolor": "white",
            "gridwidth": 2,
            "linecolor": "white",
            "showbackground": true,
            "ticks": "",
            "zerolinecolor": "white"
           },
           "zaxis": {
            "backgroundcolor": "#E5ECF6",
            "gridcolor": "white",
            "gridwidth": 2,
            "linecolor": "white",
            "showbackground": true,
            "ticks": "",
            "zerolinecolor": "white"
           }
          },
          "shapedefaults": {
           "line": {
            "color": "#2a3f5f"
           }
          },
          "ternary": {
           "aaxis": {
            "gridcolor": "white",
            "linecolor": "white",
            "ticks": ""
           },
           "baxis": {
            "gridcolor": "white",
            "linecolor": "white",
            "ticks": ""
           },
           "bgcolor": "#E5ECF6",
           "caxis": {
            "gridcolor": "white",
            "linecolor": "white",
            "ticks": ""
           }
          },
          "title": {
           "x": 0.05
          },
          "xaxis": {
           "automargin": true,
           "gridcolor": "white",
           "linecolor": "white",
           "ticks": "",
           "title": {
            "standoff": 15
           },
           "zerolinecolor": "white",
           "zerolinewidth": 2
          },
          "yaxis": {
           "automargin": true,
           "gridcolor": "white",
           "linecolor": "white",
           "ticks": "",
           "title": {
            "standoff": 15
           },
           "zerolinecolor": "white",
           "zerolinewidth": 2
          }
         }
        },
        "xaxis": {
         "anchor": "y",
         "domain": [
          0,
          1
         ]
        },
        "yaxis": {
         "anchor": "x",
         "domain": [
          0,
          1
         ],
         "title": {
          "text": "test_acc"
         }
        }
       }
      }
     },
     "metadata": {},
     "output_type": "display_data"
    }
   ],
   "source": [
    "temp = df_exp2.loc[df_exp2.dataset == 'fashion']\n",
    "px.box(temp, y=\"test_acc\", color=\"initializer\")\n",
    "# px.box(temp, y=\"acc_per_step\", color=\"initializer\")"
   ]
  },
  {
   "cell_type": "code",
   "execution_count": null,
   "metadata": {},
   "outputs": [],
   "source": []
  }
 ],
 "metadata": {
  "kernelspec": {
   "display_name": "Python 3",
   "language": "python",
   "name": "python3"
  },
  "language_info": {
   "codemirror_mode": {
    "name": "ipython",
    "version": 3
   },
   "file_extension": ".py",
   "mimetype": "text/x-python",
   "name": "python",
   "nbconvert_exporter": "python",
   "pygments_lexer": "ipython3",
   "version": "3.8.5"
  }
 },
 "nbformat": 4,
 "nbformat_minor": 4
}
