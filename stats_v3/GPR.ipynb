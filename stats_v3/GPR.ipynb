{
 "cells": [
  {
   "cell_type": "markdown",
   "metadata": {
    "id": "ANlivpx97IJt"
   },
   "source": [
    "## Results for AlexNet Overfit (CIFAR10)\n",
    "\n",
    "Goal: Regress Validation Accuracy with Train Accuracy optionally with MLH \n",
    "\n",
    "|         Method         | R^2 Value | PearsonR |\n",
    "|:---------------------------:|:---------:|:-------:|\n",
    "| TrainAcc + MLH              |-1202.2837 |0.5742 |\n",
    "| (TrainAcc + MLH) / 2        | -37.2667  |0.7818 |\n",
    "| GPR (TrainAcc Only)         | -0.0205   | 0.1887 | \n",
    "| GPR (TrainAcc & MLH)        |  0.8917  | 0.9444 | **bold text**"
   ]
  },
  {
   "cell_type": "code",
   "execution_count": 1,
   "metadata": {
    "id": "TgWeaP-Iq_Km"
   },
   "outputs": [],
   "source": [
    "import sklearn.gaussian_process as gp"
   ]
  },
  {
   "cell_type": "code",
   "execution_count": 2,
   "metadata": {
    "colab": {
     "base_uri": "https://localhost:8080/"
    },
    "id": "_ROCc1zcrPeZ",
    "outputId": "e5135fa0-6f71-4f41-8bac-11fe934e2f22"
   },
   "outputs": [
    {
     "name": "stdout",
     "output_type": "stream",
     "text": [
      "12000 12000 12000 12000\n"
     ]
    }
   ],
   "source": [
    "# organize dataset\n",
    "path = \"./energy_vs_val_alexnet_none_regression\"\n",
    "import os\n",
    "import json\n",
    "X_train = []\n",
    "Y_train = []\n",
    "X_test = []\n",
    "Y_test = []\n",
    "\n",
    "steps_all = []\n",
    "benfords_all = []\n",
    "train_all = []\n",
    "val_all = []\n",
    "\n",
    "ap = []\n",
    "\n",
    "for js in os.listdir(path):\n",
    "  steps = []\n",
    "  benfords = []\n",
    "  train = []\n",
    "  val = []\n",
    "  file = os.path.join(path, js)\n",
    "  dic = json.load(open(file))\n",
    "  # print(dic.keys())\n",
    "  # print(len(dic['benford_list']), len(dic['val_acc_step']), len(dic['train_acc_step']))\n",
    "  for val_dic in dic[\"val_acc_step\"][:-1]:\n",
    "    val.append(val_dic[\"validation_accuracy\"])\n",
    "    steps.append(int(val_dic[\"step\"])+1)\n",
    "\n",
    "  train_sum = []\n",
    "  ben_sum = []\n",
    "\n",
    "  for tr_dic in dic[\"train_acc_step\"]:\n",
    "\n",
    "    train_sum.append(float(tr_dic[\"training_acc\"]))\n",
    "    ben_sum.append(float(dic[\"benford_list\"][tr_dic[\"step\"]-1]))\n",
    "\n",
    "    if tr_dic[\"step\"] in steps:\n",
    "      ap.append(tr_dic[\"step\"])\n",
    "      train.append(sum(train_sum)/len(train_sum))\n",
    "      benfords.append(sum(ben_sum)/len(ben_sum))\n",
    "      train_sum = []\n",
    "      ben_sum = []\n",
    "  # print(steps[-1])\n",
    "  steps_all.extend(steps)\n",
    "  benfords_all.extend(benfords)\n",
    "  train_all.extend(train)\n",
    "  val_all.extend(val)\n",
    "\n",
    "    \n",
    "\n",
    "print(len(steps_all), len(benfords_all), len(train_all), len(val_all))\n"
   ]
  },
  {
   "cell_type": "code",
   "execution_count": null,
   "metadata": {
    "id": "nF553z31ABMJ"
   },
   "outputs": [],
   "source": [
    "# val, train"
   ]
  },
  {
   "cell_type": "code",
   "execution_count": 3,
   "metadata": {
    "id": "pqSkhsdY9NF9"
   },
   "outputs": [],
   "source": [
    "from sklearn.model_selection import train_test_split\n",
    "X = list(zip(train_all, benfords_all))\n",
    "Y = val_all\n",
    "X_train, X_test, Y_train, Y_test = train_test_split(X, Y, test_size=0.33, random_state=42)"
   ]
  },
  {
   "cell_type": "code",
   "execution_count": 4,
   "metadata": {
    "id": "zkC2W05urU3k"
   },
   "outputs": [],
   "source": [
    "kernel = gp.kernels.ConstantKernel(1.0, (1e-1, 1e3)) * gp.kernels.RBF(10.0, (1e-3, 1e3))"
   ]
  },
  {
   "cell_type": "code",
   "execution_count": 5,
   "metadata": {
    "id": "1748ezd0rZpI"
   },
   "outputs": [],
   "source": [
    "model = gp.GaussianProcessRegressor(kernel=kernel, n_restarts_optimizer=10, alpha=0.1, normalize_y=True)"
   ]
  },
  {
   "cell_type": "code",
   "execution_count": 7,
   "metadata": {
    "id": "p11ODq0EreWH"
   },
   "outputs": [],
   "source": [
    "model.fit(X_train, Y_train)\n",
    "params = model.kernel_.get_params()"
   ]
  },
  {
   "cell_type": "code",
   "execution_count": 8,
   "metadata": {
    "id": "nRMN4ZlirkU7"
   },
   "outputs": [],
   "source": [
    "y_pred, std = model.predict(X_test, return_std=True)"
   ]
  },
  {
   "cell_type": "code",
   "execution_count": 9,
   "metadata": {
    "id": "ZvldcQwPrsRB"
   },
   "outputs": [
    {
     "name": "stdout",
     "output_type": "stream",
     "text": [
      "0.00017124137984718345\n"
     ]
    }
   ],
   "source": [
    "MSE = ((y_pred-Y_test)**2).mean()\n",
    "print(MSE)"
   ]
  },
  {
   "cell_type": "code",
   "execution_count": 10,
   "metadata": {
    "id": "xf5owaykOCLG"
   },
   "outputs": [
    {
     "name": "stdout",
     "output_type": "stream",
     "text": [
      "{'k1': 3.95**2, 'k2': RBF(length_scale=0.0356), 'k1__constant_value': 15.60459890648993, 'k1__constant_value_bounds': (0.1, 1000.0), 'k2__length_scale': 0.03563257340024246, 'k2__length_scale_bounds': (0.001, 1000.0)}\n"
     ]
    }
   ],
   "source": [
    "print(params)"
   ]
  },
  {
   "cell_type": "code",
   "execution_count": 11,
   "metadata": {
    "id": "JFJJtrdWOES6"
   },
   "outputs": [
    {
     "data": {
      "text/plain": [
       "0.8916696158605524"
      ]
     },
     "execution_count": 11,
     "metadata": {},
     "output_type": "execute_result"
    }
   ],
   "source": [
    "from sklearn.metrics import r2_score\n",
    "r2_score(Y_test, y_pred)"
   ]
  },
  {
   "cell_type": "code",
   "execution_count": 12,
   "metadata": {
    "id": "O1GVp28y1_0R"
   },
   "outputs": [],
   "source": [
    "import numpy as np\n",
    "a = np.array(train_all)\n",
    "b = np.array(benfords_all)\n",
    "\n",
    "Y_pred_sum = a + b"
   ]
  },
  {
   "cell_type": "code",
   "execution_count": 13,
   "metadata": {
    "id": "t86LPMYq3tuI"
   },
   "outputs": [],
   "source": [
    "# print(Y_pred_sum[:-10], Y[:-10])"
   ]
  },
  {
   "cell_type": "code",
   "execution_count": 14,
   "metadata": {
    "id": "G-NZaZLW2xJE"
   },
   "outputs": [
    {
     "data": {
      "text/plain": [
       "-1202.2836949148962"
      ]
     },
     "execution_count": 14,
     "metadata": {},
     "output_type": "execute_result"
    }
   ],
   "source": [
    "r2_score(Y, Y_pred_sum)"
   ]
  },
  {
   "cell_type": "code",
   "execution_count": 15,
   "metadata": {
    "id": "ievgxr-F3raR"
   },
   "outputs": [
    {
     "data": {
      "text/plain": [
       "(0.5741827056437445, 0.0)"
      ]
     },
     "execution_count": 15,
     "metadata": {},
     "output_type": "execute_result"
    }
   ],
   "source": [
    "from scipy.stats import pearsonr\n",
    "pearsonr(Y, Y_pred_sum)"
   ]
  },
  {
   "cell_type": "code",
   "execution_count": 16,
   "metadata": {
    "id": "eVMgvSPZ40l7"
   },
   "outputs": [
    {
     "data": {
      "text/plain": [
       "(0.944442610650453, 0.0)"
      ]
     },
     "execution_count": 16,
     "metadata": {},
     "output_type": "execute_result"
    }
   ],
   "source": [
    "pearsonr(Y_test, y_pred)"
   ]
  },
  {
   "cell_type": "code",
   "execution_count": 28,
   "metadata": {
    "id": "vP5WMw7x5L9M"
   },
   "outputs": [
    {
     "ename": "TypeError",
     "evalue": "cannot unpack non-iterable float object",
     "output_type": "error",
     "traceback": [
      "\u001b[0;31m---------------------------------------------------------------------------\u001b[0m",
      "\u001b[0;31mTypeError\u001b[0m                                 Traceback (most recent call last)",
      "\u001b[0;32m<ipython-input-28-3efedcc7a7d6>\u001b[0m in \u001b[0;36m<module>\u001b[0;34m\u001b[0m\n\u001b[1;32m      3\u001b[0m \u001b[0ma\u001b[0m \u001b[0;34m=\u001b[0m \u001b[0;34m[\u001b[0m\u001b[0;34m]\u001b[0m\u001b[0;34m\u001b[0m\u001b[0;34m\u001b[0m\u001b[0m\n\u001b[1;32m      4\u001b[0m \u001b[0mb\u001b[0m \u001b[0;34m=\u001b[0m \u001b[0;34m[\u001b[0m\u001b[0;34m]\u001b[0m\u001b[0;34m\u001b[0m\u001b[0;34m\u001b[0m\u001b[0m\n\u001b[0;32m----> 5\u001b[0;31m \u001b[0;32mfor\u001b[0m \u001b[0mtr\u001b[0m\u001b[0;34m,\u001b[0m \u001b[0mben\u001b[0m \u001b[0;32min\u001b[0m \u001b[0mX_test\u001b[0m\u001b[0;34m:\u001b[0m\u001b[0;34m\u001b[0m\u001b[0;34m\u001b[0m\u001b[0m\n\u001b[0m\u001b[1;32m      6\u001b[0m   \u001b[0ma\u001b[0m\u001b[0;34m.\u001b[0m\u001b[0mappend\u001b[0m\u001b[0;34m(\u001b[0m\u001b[0mtr\u001b[0m\u001b[0;34m)\u001b[0m\u001b[0;34m\u001b[0m\u001b[0;34m\u001b[0m\u001b[0m\n\u001b[1;32m      7\u001b[0m   \u001b[0mb\u001b[0m\u001b[0;34m.\u001b[0m\u001b[0mappend\u001b[0m\u001b[0;34m(\u001b[0m\u001b[0mben\u001b[0m\u001b[0;34m)\u001b[0m\u001b[0;34m\u001b[0m\u001b[0;34m\u001b[0m\u001b[0m\n",
      "\u001b[0;31mTypeError\u001b[0m: cannot unpack non-iterable float object"
     ]
    }
   ],
   "source": [
    "import numpy as np\n",
    "from sklearn.metrics import r2_score\n",
    "a = []\n",
    "b = []\n",
    "for tr, ben in X_test:\n",
    "  a.append(tr)\n",
    "  b.append(ben)\n",
    "\n",
    "\n",
    "a = np.array(a)\n",
    "b = np.array(b)\n",
    "\n",
    "# a = (a - a.min()) / (a.max() - a.min())\n",
    "b = (b - b.min()) / (b.max() - b.min())\n",
    "\n",
    "Y_pred_sum = (0.5*a) + (0.5*b)\n",
    "r2_score(Y_test, Y_pred_sum)"
   ]
  },
  {
   "cell_type": "code",
   "execution_count": 18,
   "metadata": {
    "id": "eoRrSH8A5khU"
   },
   "outputs": [
    {
     "data": {
      "text/plain": [
       "(0.7818399731347642, 0.0)"
      ]
     },
     "execution_count": 18,
     "metadata": {},
     "output_type": "execute_result"
    }
   ],
   "source": [
    "pearsonr(Y_test, Y_pred_sum)"
   ]
  },
  {
   "cell_type": "code",
   "execution_count": null,
   "metadata": {
    "id": "4dwF8c-I6JJv"
   },
   "outputs": [],
   "source": [
    "%cd /content/drive/MyDrive/benfords_law/BenfordsLaw-And-DeepLearning/reg_model"
   ]
  },
  {
   "cell_type": "code",
   "execution_count": null,
   "metadata": {
    "id": "CI_O70ia6QAS"
   },
   "outputs": [],
   "source": [
    "# !mkdir reg_model\n",
    "# %cd reg_model/"
   ]
  },
  {
   "cell_type": "code",
   "execution_count": 19,
   "metadata": {
    "id": "UFmhm3K15rw4"
   },
   "outputs": [],
   "source": [
    "import pickle\n",
    "with open(\"reg_model_overfit\", \"wb\") as f:\n",
    "  pickle.dump(model, f)"
   ]
  },
  {
   "cell_type": "code",
   "execution_count": null,
   "metadata": {
    "id": "cPb5WlMPFKtk"
   },
   "outputs": [],
   "source": [
    "# val"
   ]
  },
  {
   "cell_type": "markdown",
   "metadata": {
    "id": "EF_OcIu9Dp-Z"
   },
   "source": [
    "Without MLH"
   ]
  },
  {
   "cell_type": "code",
   "execution_count": 20,
   "metadata": {
    "id": "pmoCGdG36V1B"
   },
   "outputs": [],
   "source": [
    "from sklearn.model_selection import train_test_split\n",
    "X = train_all\n",
    "Y = val_all\n",
    "X_train, X_test, Y_train, Y_test = train_test_split(X, Y, test_size=0.33, random_state=42)"
   ]
  },
  {
   "cell_type": "code",
   "execution_count": 25,
   "metadata": {
    "id": "CFeTXXMQDwmC"
   },
   "outputs": [
    {
     "name": "stdout",
     "output_type": "stream",
     "text": [
      "0.0016132167509015217\n"
     ]
    },
    {
     "name": "stderr",
     "output_type": "stream",
     "text": [
      "/home/surya/miniconda3/lib/python3.8/site-packages/sklearn/gaussian_process/kernels.py:402: ConvergenceWarning: The optimal value found for dimension 0 of parameter k2__length_scale is close to the specified lower bound 0.001. Decreasing the bound and calling fit again may find a better value.\n",
      "  warnings.warn(\"The optimal value found for \"\n"
     ]
    }
   ],
   "source": [
    "kernel = gp.kernels.ConstantKernel(1.0, (1e-1, 1e3)) * gp.kernels.RBF(10.0, (1e-3, 1e3))\n",
    "model = gp.GaussianProcessRegressor(kernel=kernel, n_restarts_optimizer=10, alpha=0.1, normalize_y=True)\n",
    "model.fit(np.array(X_train[:400]).reshape(-1, 1), Y_train[:400])\n",
    "params = model.kernel_.get_params()\n",
    "y_pred, std = model.predict(np.array(X_test).reshape(-1, 1), return_std=True)\n",
    "MSE = ((y_pred-Y_test)**2).mean()\n",
    "print(MSE)"
   ]
  },
  {
   "cell_type": "code",
   "execution_count": 26,
   "metadata": {
    "id": "gIoZ90wAEEZ3"
   },
   "outputs": [
    {
     "data": {
      "text/plain": [
       "-0.020550000714256944"
      ]
     },
     "execution_count": 26,
     "metadata": {},
     "output_type": "execute_result"
    }
   ],
   "source": [
    "r2_score(Y_test, y_pred)"
   ]
  },
  {
   "cell_type": "code",
   "execution_count": 29,
   "metadata": {},
   "outputs": [
    {
     "data": {
      "text/plain": [
       "(0.1886590866080153, 4.747692731628452e-33)"
      ]
     },
     "execution_count": 29,
     "metadata": {},
     "output_type": "execute_result"
    }
   ],
   "source": [
    "pearsonr(Y_test, y_pred)"
   ]
  },
  {
   "cell_type": "code",
   "execution_count": null,
   "metadata": {},
   "outputs": [],
   "source": []
  }
 ],
 "metadata": {
  "accelerator": "GPU",
  "colab": {
   "name": "GPR.ipynb",
   "provenance": [],
   "toc_visible": true
  },
  "kernelspec": {
   "display_name": "Python 3",
   "language": "python",
   "name": "python3"
  },
  "language_info": {
   "codemirror_mode": {
    "name": "ipython",
    "version": 3
   },
   "file_extension": ".py",
   "mimetype": "text/x-python",
   "name": "python",
   "nbconvert_exporter": "python",
   "pygments_lexer": "ipython3",
   "version": "3.8.5"
  }
 },
 "nbformat": 4,
 "nbformat_minor": 1
}
